{
 "cells": [
  {
   "cell_type": "code",
   "execution_count": 40,
   "id": "d03b0495",
   "metadata": {},
   "outputs": [
    {
     "name": "stdout",
     "output_type": "stream",
     "text": [
      "/usr/bin/python\n",
      "3.8.14 (default, Sep  8 2022, 00:02:10) \n",
      "[GCC 7.5.0]\n",
      "sys.version_info(major=3, minor=8, micro=14, releaselevel='final', serial=0)\n"
     ]
    }
   ],
   "source": [
    "import sys\n",
    "print(sys.executable)\n",
    "print(sys.version)\n",
    "print(sys.version_info)"
   ]
  },
  {
   "cell_type": "code",
   "execution_count": 41,
   "id": "nearby-economics",
   "metadata": {
    "execution": {
     "iopub.execute_input": "2021-09-06T20:23:07.170894Z",
     "iopub.status.busy": "2021-09-06T20:23:07.170317Z",
     "iopub.status.idle": "2021-09-06T20:23:07.175556Z",
     "shell.execute_reply": "2021-09-06T20:23:07.174970Z"
    },
    "papermill": {
     "duration": 0.023582,
     "end_time": "2021-09-06T20:23:07.175709",
     "exception": false,
     "start_time": "2021-09-06T20:23:07.152127",
     "status": "completed"
    },
    "tags": []
   },
   "outputs": [
    {
     "data": {
      "text/plain": [
       "'Notebook used for debugging purpose to train the\\nthe DQL agent and then run it one step at a time.\\n'"
      ]
     },
     "execution_count": 41,
     "metadata": {},
     "output_type": "execute_result"
    }
   ],
   "source": [
    "# Copyright (c) Microsoft Corporation.\n",
    "# Licensed under the MIT License.\n",
    "\n",
    "\"\"\"Notebook used for debugging purpose to train the\n",
    "the DQL agent and then run it one step at a time.\n",
    "\"\"\"\n",
    "\n",
    "# pylint: disable=invalid-name"
   ]
  },
  {
   "cell_type": "code",
   "execution_count": 42,
   "id": "threaded-insight",
   "metadata": {
    "execution": {
     "iopub.execute_input": "2021-09-06T20:23:07.193213Z",
     "iopub.status.busy": "2021-09-06T20:23:07.192580Z",
     "iopub.status.idle": "2021-09-06T20:23:08.410101Z",
     "shell.execute_reply": "2021-09-06T20:23:08.410589Z"
    },
    "papermill": {
     "duration": 1.228105,
     "end_time": "2021-09-06T20:23:08.410746",
     "exception": false,
     "start_time": "2021-09-06T20:23:07.182641",
     "status": "completed"
    },
    "tags": []
   },
   "outputs": [
    {
     "name": "stdout",
     "output_type": "stream",
     "text": [
      "The autoreload extension is already loaded. To reload it, use:\n",
      "  %reload_ext autoreload\n"
     ]
    }
   ],
   "source": [
    "%load_ext autoreload\n",
    "%autoreload 2\n",
    "\n",
    "import sys\n",
    "import logging\n",
    "import gym\n",
    "import numpy as np\n",
    "from ipywidgets import interact\n",
    "import pprint\n",
    "\n",
    "import torch\n",
    "torch.cuda.set_device('cuda:4')\n",
    "\n",
    "import cyberbattle.agents.baseline.learner as learner\n",
    "import cyberbattle.agents.baseline.agent_wrapper as w\n",
    "import cyberbattle.agents.baseline.agent_dql as dqla\n",
    "from cyberbattle.agents.baseline.agent_wrapper import ActionTrackingStateAugmentation, AgentWrapper, Verbosity\n",
    "logging.basicConfig(stream=sys.stdout, level=logging.ERROR, format=\"%(levelname)s: %(message)s\")"
   ]
  },
  {
   "cell_type": "code",
   "execution_count": 50,
   "id": "functional-planet",
   "metadata": {
    "execution": {
     "iopub.execute_input": "2021-09-06T20:23:08.428585Z",
     "iopub.status.busy": "2021-09-06T20:23:08.428012Z",
     "iopub.status.idle": "2021-09-06T20:23:08.429501Z",
     "shell.execute_reply": "2021-09-06T20:23:08.429993Z"
    },
    "papermill": {
     "duration": 0.012283,
     "end_time": "2021-09-06T20:23:08.430153",
     "exception": false,
     "start_time": "2021-09-06T20:23:08.417870",
     "status": "completed"
    },
    "tags": [
     "parameters"
    ]
   },
   "outputs": [],
   "source": [
    "gymid = 'CyberBattleTiny-v0'\n",
    "iteration_count = 25\n",
    "training_episode_count = 100\n",
    "epsilon_exponential_decay = 50"
   ]
  },
  {
   "cell_type": "code",
   "execution_count": null,
   "id": "9111b50a",
   "metadata": {},
   "outputs": [],
   "source": []
  },
  {
   "cell_type": "code",
   "execution_count": 51,
   "id": "searching-central",
   "metadata": {
    "execution": {
     "iopub.execute_input": "2021-09-06T20:23:08.540243Z",
     "iopub.status.busy": "2021-09-06T20:23:08.539543Z",
     "iopub.status.idle": "2021-09-06T20:23:08.600348Z",
     "shell.execute_reply": "2021-09-06T20:23:08.599805Z"
    },
    "papermill": {
     "duration": 0.074343,
     "end_time": "2021-09-06T20:23:08.600472",
     "exception": false,
     "start_time": "2021-09-06T20:23:08.526129",
     "status": "completed"
    },
    "scrolled": true,
    "tags": []
   },
   "outputs": [
    {
     "name": "stdout",
     "output_type": "stream",
     "text": [
      "(3, 3, 3, 5) (3, 3, 3, 5)\n"
     ]
    }
   ],
   "source": [
    "# Load the gym environment\n",
    "\n",
    "ctf_env = gym.make(gymid)\n",
    "\n",
    "ep = ctf_env.env.bounds#w.EnvironmentBounds.of_identifiers(\n",
    "    #maximum_node_count=5,\n",
    "    #maximum_total_credentials=10,\n",
    "    #identifiers=ctf_env.identifiers\n",
    "#)\n",
    "\n",
    "current_o = ctf_env.reset()\n",
    "wrapped_env = AgentWrapper(ctf_env, ActionTrackingStateAugmentation(ep, current_o))\n",
    "ep = wrapped_env.env.bounds\n",
    "\n",
    "current_o= ctf_env.reset()['action_mask']['connect'].shape\n",
    "current_o1= wrapped_env.reset()['action_mask']['connect'].shape\n",
    "print(current_o, current_o1)"
   ]
  },
  {
   "cell_type": "code",
   "execution_count": 52,
   "id": "00cf823d",
   "metadata": {},
   "outputs": [
    {
     "name": "stdout",
     "output_type": "stream",
     "text": [
      "EnvironmentBounds(maximum_total_credentials=5, maximum_node_count=3, maximum_profiles_count=1, maximum_discoverable_credentials_per_action=5, port_count=3, property_count=5, local_attacks_count=1, remote_attacks_count=2) \n",
      "\n",
      " EnvironmentBounds(maximum_total_credentials=5, maximum_node_count=3, maximum_profiles_count=1, maximum_discoverable_credentials_per_action=5, port_count=3, property_count=5, local_attacks_count=1, remote_attacks_count=2) \n",
      "\n",
      "DiscriminatedUnion(connect:MultiDiscrete([3 3 3 5]), local_vulnerability:MultiDiscrete([3 1]), remote_vulnerability:MultiDiscrete([3 3 2])) \n",
      "\n",
      " {'remote_vulnerability': array([0, 0, 1], dtype=int32)}\n"
     ]
    }
   ],
   "source": [
    "print(wrapped_env.bounds,'\\n\\n' ,ctf_env.bounds, '\\n')\n",
    "print(ctf_env.env.action_space, '\\n\\n',ctf_env.sample_valid_action())"
   ]
  },
  {
   "cell_type": "code",
   "execution_count": 53,
   "id": "trained-pottery",
   "metadata": {
    "execution": {
     "iopub.execute_input": "2021-09-06T20:23:08.617499Z",
     "iopub.status.busy": "2021-09-06T20:23:08.616917Z",
     "iopub.status.idle": "2021-09-06T20:23:20.930202Z",
     "shell.execute_reply": "2021-09-06T20:23:20.929564Z"
    },
    "papermill": {
     "duration": 12.32379,
     "end_time": "2021-09-06T20:23:20.930328",
     "exception": false,
     "start_time": "2021-09-06T20:23:08.606538",
     "status": "completed"
    },
    "scrolled": false,
    "tags": []
   },
   "outputs": [
    {
     "name": "stdout",
     "output_type": "stream",
     "text": [
      "###### DQL\n",
      "Learning with: episode_count=100,iteration_count=25,ϵ=0.9,ϵ_min=0.1, ϵ_expdecay=5000,γ=0.015, lr=0.01, replaymemory=10000,\n",
      "batch=512, target_update=5\n",
      "  ## Episode: 1/100 'DQL' ϵ=0.9000, γ=0.015, lr=0.01, replaymemory=10000,\n",
      "batch=512, target_update=5\n"
     ]
    },
    {
     "name": "stderr",
     "output_type": "stream",
     "text": [
      "Episode 1|Iteration 25|reward:   31.0|last_reward_at:   23|Elapsed Time: 0:00:00||\n"
     ]
    },
    {
     "name": "stdout",
     "output_type": "stream",
     "text": [
      "  Episode 1 stopped at t=25 \n",
      "  Breakdown [Reward/NoReward (Success rate)]\n",
      "    explore-local: 1/6 (0.14)\n",
      "    explore-remote: 2/12 (0.14)\n",
      "    explore-connect: 0/0 (NaN)\n",
      "    exploit-local: 0/3 (0.00)\n",
      "    exploit-remote: 0/1 (0.00)\n",
      "    exploit-connect: 0/0 (NaN)\n",
      "  exploit deflected to exploration: 0\n",
      "  ## Episode: 2/100 'DQL' ϵ=0.8962, γ=0.015, lr=0.01, replaymemory=10000,\n",
      "batch=512, target_update=5\n"
     ]
    },
    {
     "name": "stderr",
     "output_type": "stream",
     "text": [
      "Episode 2|Iteration 25|reward: 1031.0|last_reward_at:   19|Elapsed Time: 0:00:00||\n"
     ]
    },
    {
     "name": "stdout",
     "output_type": "stream",
     "text": [
      "  Episode 2 stopped at t=25 \n",
      "  Breakdown [Reward/NoReward (Success rate)]\n",
      "    explore-local: 1/8 (0.11)\n",
      "    explore-remote: 2/8 (0.20)\n",
      "    explore-connect: 1/3 (0.25)\n",
      "    exploit-local: 0/2 (0.00)\n",
      "    exploit-remote: 0/0 (NaN)\n",
      "    exploit-connect: 0/0 (NaN)\n",
      "  exploit deflected to exploration: 0\n",
      "  ## Episode: 3/100 'DQL' ϵ=0.8922, γ=0.015, lr=0.01, replaymemory=10000,\n",
      "batch=512, target_update=5\n"
     ]
    },
    {
     "name": "stderr",
     "output_type": "stream",
     "text": [
      "Episode 3|Iteration 25|reward:   31.0|last_reward_at:   23|Elapsed Time: 0:00:00||\n"
     ]
    },
    {
     "name": "stdout",
     "output_type": "stream",
     "text": [
      "  Episode 3 stopped at t=25 \n",
      "  Breakdown [Reward/NoReward (Success rate)]\n",
      "    explore-local: 1/10 (0.09)\n",
      "    explore-remote: 2/10 (0.17)\n",
      "    explore-connect: 0/0 (NaN)\n",
      "    exploit-local: 0/2 (0.00)\n",
      "    exploit-remote: 0/0 (NaN)\n",
      "    exploit-connect: 0/0 (NaN)\n",
      "  exploit deflected to exploration: 0\n",
      "  ## Episode: 4/100 'DQL' ϵ=0.8882, γ=0.015, lr=0.01, replaymemory=10000,\n",
      "batch=512, target_update=5\n"
     ]
    },
    {
     "name": "stderr",
     "output_type": "stream",
     "text": [
      "Episode 4|Iteration 25|reward:   22.0|last_reward_at:   11|Elapsed Time: 0:00:00||\n"
     ]
    },
    {
     "name": "stdout",
     "output_type": "stream",
     "text": [
      "  Episode 4 stopped at t=25 \n",
      "  Breakdown [Reward/NoReward (Success rate)]\n",
      "    explore-local: 1/13 (0.07)\n",
      "    explore-remote: 1/9 (0.10)\n",
      "    explore-connect: 0/0 (NaN)\n",
      "    exploit-local: 0/1 (0.00)\n",
      "    exploit-remote: 0/0 (NaN)\n",
      "    exploit-connect: 0/0 (NaN)\n",
      "  exploit deflected to exploration: 0\n",
      "  ## Episode: 5/100 'DQL' ϵ=0.8843, γ=0.015, lr=0.01, replaymemory=10000,\n",
      "batch=512, target_update=5\n"
     ]
    },
    {
     "name": "stderr",
     "output_type": "stream",
     "text": [
      "Episode 5|Iteration 25|reward:   22.0|last_reward_at:   23|Elapsed Time: 0:00:00||\n"
     ]
    },
    {
     "name": "stdout",
     "output_type": "stream",
     "text": [
      "  Episode 5 stopped at t=25 \n",
      "  Breakdown [Reward/NoReward (Success rate)]\n",
      "    explore-local: 1/12 (0.08)\n",
      "    explore-remote: 1/9 (0.10)\n",
      "    explore-connect: 0/0 (NaN)\n",
      "    exploit-local: 0/1 (0.00)\n",
      "    exploit-remote: 0/1 (0.00)\n",
      "    exploit-connect: 0/0 (NaN)\n",
      "  exploit deflected to exploration: 0\n",
      "  ## Episode: 6/100 'DQL' ϵ=0.8804, γ=0.015, lr=0.01, replaymemory=10000,\n",
      "batch=512, target_update=5\n"
     ]
    },
    {
     "name": "stderr",
     "output_type": "stream",
     "text": [
      "Episode 6|Iteration 25|reward:   31.0|last_reward_at:   13|Elapsed Time: 0:00:00||\n"
     ]
    },
    {
     "name": "stdout",
     "output_type": "stream",
     "text": [
      "  Episode 6 stopped at t=25 \n",
      "  Breakdown [Reward/NoReward (Success rate)]\n",
      "    explore-local: 1/8 (0.11)\n",
      "    explore-remote: 2/6 (0.25)\n",
      "    explore-connect: 0/4 (0.00)\n",
      "    exploit-local: 0/2 (0.00)\n",
      "    exploit-remote: 0/2 (0.00)\n",
      "    exploit-connect: 0/0 (NaN)\n",
      "  exploit deflected to exploration: 0\n",
      "  ## Episode: 7/100 'DQL' ϵ=0.8765, γ=0.015, lr=0.01, replaymemory=10000,\n",
      "batch=512, target_update=5\n"
     ]
    },
    {
     "name": "stderr",
     "output_type": "stream",
     "text": [
      "Episode 7|Iteration 25|reward: 1031.0|last_reward_at:   19|Elapsed Time: 0:00:00||\n"
     ]
    },
    {
     "name": "stdout",
     "output_type": "stream",
     "text": [
      "  Episode 7 stopped at t=25 \n",
      "  Breakdown [Reward/NoReward (Success rate)]\n",
      "    explore-local: 1/8 (0.11)\n",
      "    explore-remote: 2/5 (0.29)\n",
      "    explore-connect: 1/6 (0.14)\n",
      "    exploit-local: 0/2 (0.00)\n",
      "    exploit-remote: 0/0 (NaN)\n",
      "    exploit-connect: 0/0 (NaN)\n",
      "  exploit deflected to exploration: 0\n",
      "  ## Episode: 8/100 'DQL' ϵ=0.8726, γ=0.015, lr=0.01, replaymemory=10000,\n",
      "batch=512, target_update=5\n"
     ]
    },
    {
     "name": "stderr",
     "output_type": "stream",
     "text": [
      "Episode 8|Iteration 25|reward:   22.0|last_reward_at:   20|Elapsed Time: 0:00:00||\n"
     ]
    },
    {
     "name": "stdout",
     "output_type": "stream",
     "text": [
      "  Episode 8 stopped at t=25 \n",
      "  Breakdown [Reward/NoReward (Success rate)]\n",
      "    explore-local: 1/10 (0.09)\n",
      "    explore-remote: 1/12 (0.08)\n",
      "    explore-connect: 0/0 (NaN)\n",
      "    exploit-local: 0/1 (0.00)\n",
      "    exploit-remote: 0/0 (NaN)\n",
      "    exploit-connect: 0/0 (NaN)\n",
      "  exploit deflected to exploration: 0\n",
      "  ## Episode: 9/100 'DQL' ϵ=0.8688, γ=0.015, lr=0.01, replaymemory=10000,\n",
      "batch=512, target_update=5\n"
     ]
    },
    {
     "name": "stderr",
     "output_type": "stream",
     "text": [
      "Episode 9|Iteration 25|reward:   31.0|last_reward_at:   19|Elapsed Time: 0:00:00||\n"
     ]
    },
    {
     "name": "stdout",
     "output_type": "stream",
     "text": [
      "  Episode 9 stopped at t=25 \n",
      "  Breakdown [Reward/NoReward (Success rate)]\n",
      "    explore-local: 1/13 (0.07)\n",
      "    explore-remote: 2/6 (0.25)\n",
      "    explore-connect: 0/2 (0.00)\n",
      "    exploit-local: 0/1 (0.00)\n",
      "    exploit-remote: 0/0 (NaN)\n",
      "    exploit-connect: 0/0 (NaN)\n",
      "  exploit deflected to exploration: 0\n",
      "  ## Episode: 10/100 'DQL' ϵ=0.8650, γ=0.015, lr=0.01, replaymemory=10000,\n",
      "batch=512, target_update=5\n"
     ]
    },
    {
     "name": "stderr",
     "output_type": "stream",
     "text": [
      "Episode 10|Iteration 25|reward:   22.0|last_reward_at:    2|Elapsed Time: 0:00:00||\n"
     ]
    },
    {
     "name": "stdout",
     "output_type": "stream",
     "text": [
      "  Episode 10 stopped at t=25 \n",
      "  Breakdown [Reward/NoReward (Success rate)]\n",
      "    explore-local: 1/10 (0.09)\n",
      "    explore-remote: 1/6 (0.14)\n",
      "    explore-connect: 0/0 (NaN)\n",
      "    exploit-local: 0/5 (0.00)\n",
      "    exploit-remote: 0/2 (0.00)\n",
      "    exploit-connect: 0/0 (NaN)\n",
      "  exploit deflected to exploration: 0\n",
      "  ## Episode: 11/100 'DQL' ϵ=0.8611, γ=0.015, lr=0.01, replaymemory=10000,\n",
      "batch=512, target_update=5\n"
     ]
    },
    {
     "name": "stderr",
     "output_type": "stream",
     "text": [
      "Episode 11|Iteration 25|reward:   31.0|last_reward_at:   25|Elapsed Time: 0:00:00||\n"
     ]
    },
    {
     "name": "stdout",
     "output_type": "stream",
     "text": [
      "  Episode 11 stopped at t=25 \n",
      "  Breakdown [Reward/NoReward (Success rate)]\n",
      "    explore-local: 1/6 (0.14)\n",
      "    explore-remote: 2/15 (0.12)\n",
      "    explore-connect: 0/0 (NaN)\n",
      "    exploit-local: 0/1 (0.00)\n",
      "    exploit-remote: 0/0 (NaN)\n",
      "    exploit-connect: 0/0 (NaN)\n",
      "  exploit deflected to exploration: 1\n",
      "  ## Episode: 12/100 'DQL' ϵ=0.8573, γ=0.015, lr=0.01, replaymemory=10000,\n",
      "batch=512, target_update=5\n"
     ]
    },
    {
     "name": "stderr",
     "output_type": "stream",
     "text": [
      "Episode 12|Iteration 25|reward:   31.0|last_reward_at:   21|Elapsed Time: 0:00:00||\n"
     ]
    },
    {
     "name": "stdout",
     "output_type": "stream",
     "text": [
      "  Episode 12 stopped at t=25 \n",
      "  Breakdown [Reward/NoReward (Success rate)]\n",
      "    explore-local: 1/11 (0.08)\n",
      "    explore-remote: 2/11 (0.15)\n",
      "    explore-connect: 0/0 (NaN)\n",
      "    exploit-local: 0/0 (NaN)\n",
      "    exploit-remote: 0/0 (NaN)\n",
      "    exploit-connect: 0/0 (NaN)\n",
      "  exploit deflected to exploration: 0\n",
      "  ## Episode: 13/100 'DQL' ϵ=0.8536, γ=0.015, lr=0.01, replaymemory=10000,\n",
      "batch=512, target_update=5\n"
     ]
    },
    {
     "name": "stderr",
     "output_type": "stream",
     "text": [
      "Episode 13|Iteration 25|reward:   31.0|last_reward_at:   18|Elapsed Time: 0:00:00||\n"
     ]
    },
    {
     "name": "stdout",
     "output_type": "stream",
     "text": [
      "  Episode 13 stopped at t=25 \n",
      "  Breakdown [Reward/NoReward (Success rate)]\n",
      "    explore-local: 1/8 (0.11)\n",
      "    explore-remote: 2/11 (0.15)\n",
      "    explore-connect: 0/1 (0.00)\n",
      "    exploit-local: 0/1 (0.00)\n",
      "    exploit-remote: 0/1 (0.00)\n",
      "    exploit-connect: 0/0 (NaN)\n",
      "  exploit deflected to exploration: 0\n",
      "  ## Episode: 14/100 'DQL' ϵ=0.8498, γ=0.015, lr=0.01, replaymemory=10000,\n",
      "batch=512, target_update=5\n"
     ]
    },
    {
     "name": "stderr",
     "output_type": "stream",
     "text": [
      "Episode 14|Iteration 25|reward:   31.0|last_reward_at:   13|Elapsed Time: 0:00:00||\n"
     ]
    },
    {
     "name": "stdout",
     "output_type": "stream",
     "text": [
      "  Episode 14 stopped at t=25 \n",
      "  Breakdown [Reward/NoReward (Success rate)]\n",
      "    explore-local: 1/6 (0.14)\n",
      "    explore-remote: 2/7 (0.22)\n",
      "    explore-connect: 0/4 (0.00)\n",
      "    exploit-local: 0/3 (0.00)\n",
      "    exploit-remote: 0/2 (0.00)\n",
      "    exploit-connect: 0/0 (NaN)\n",
      "  exploit deflected to exploration: 0\n",
      "  ## Episode: 15/100 'DQL' ϵ=0.8461, γ=0.015, lr=0.01, replaymemory=10000,\n",
      "batch=512, target_update=5\n"
     ]
    },
    {
     "name": "stderr",
     "output_type": "stream",
     "text": [
      "Episode 15|Iteration 25|reward:   31.0|last_reward_at:   13|Elapsed Time: 0:00:00||\n"
     ]
    },
    {
     "name": "stdout",
     "output_type": "stream",
     "text": [
      "  Episode 15 stopped at t=25 \n",
      "  Breakdown [Reward/NoReward (Success rate)]\n",
      "    explore-local: 1/9 (0.10)\n",
      "    explore-remote: 2/9 (0.18)\n",
      "    explore-connect: 0/2 (0.00)\n",
      "    exploit-local: 0/2 (0.00)\n",
      "    exploit-remote: 0/0 (NaN)\n",
      "    exploit-connect: 0/0 (NaN)\n",
      "  exploit deflected to exploration: 0\n",
      "  ## Episode: 16/100 'DQL' ϵ=0.8423, γ=0.015, lr=0.01, replaymemory=10000,\n",
      "batch=512, target_update=5\n"
     ]
    },
    {
     "name": "stderr",
     "output_type": "stream",
     "text": [
      "Episode 16|Iteration 25|reward:   31.0|last_reward_at:    8|Elapsed Time: 0:00:00||\n"
     ]
    },
    {
     "name": "stdout",
     "output_type": "stream",
     "text": [
      "  Episode 16 stopped at t=25 \n",
      "  Breakdown [Reward/NoReward (Success rate)]\n",
      "    explore-local: 1/6 (0.14)\n",
      "    explore-remote: 2/8 (0.20)\n",
      "    explore-connect: 0/4 (0.00)\n",
      "    exploit-local: 0/2 (0.00)\n",
      "    exploit-remote: 0/2 (0.00)\n",
      "    exploit-connect: 0/0 (NaN)\n",
      "  exploit deflected to exploration: 0\n",
      "  ## Episode: 17/100 'DQL' ϵ=0.8386, γ=0.015, lr=0.01, replaymemory=10000,\n",
      "batch=512, target_update=5\n"
     ]
    },
    {
     "name": "stderr",
     "output_type": "stream",
     "text": [
      "Episode 17|Iteration 25|reward:   22.0|last_reward_at:    3|Elapsed Time: 0:00:00||\n"
     ]
    },
    {
     "name": "stdout",
     "output_type": "stream",
     "text": [
      "  Episode 17 stopped at t=25 \n",
      "  Breakdown [Reward/NoReward (Success rate)]\n",
      "    explore-local: 1/15 (0.06)\n",
      "    explore-remote: 1/4 (0.20)\n",
      "    explore-connect: 0/0 (NaN)\n",
      "    exploit-local: 0/3 (0.00)\n",
      "    exploit-remote: 0/1 (0.00)\n",
      "    exploit-connect: 0/0 (NaN)\n",
      "  exploit deflected to exploration: 0\n",
      "  ## Episode: 18/100 'DQL' ϵ=0.8350, γ=0.015, lr=0.01, replaymemory=10000,\n",
      "batch=512, target_update=5\n"
     ]
    },
    {
     "name": "stderr",
     "output_type": "stream",
     "text": [
      "Episode 18|Iteration 25|reward:   22.0|last_reward_at:   25|Elapsed Time: 0:00:00||\n"
     ]
    },
    {
     "name": "stdout",
     "output_type": "stream",
     "text": [
      "  Episode 18 stopped at t=25 \n",
      "  Breakdown [Reward/NoReward (Success rate)]\n",
      "    explore-local: 0/8 (0.00)\n",
      "    explore-remote: 1/4 (0.20)\n",
      "    explore-connect: 0/0 (NaN)\n",
      "    exploit-local: 1/8 (0.11)\n",
      "    exploit-remote: 0/3 (0.00)\n",
      "    exploit-connect: 0/0 (NaN)\n",
      "  exploit deflected to exploration: 0\n",
      "  ## Episode: 19/100 'DQL' ϵ=0.8313, γ=0.015, lr=0.01, replaymemory=10000,\n",
      "batch=512, target_update=5\n"
     ]
    },
    {
     "name": "stderr",
     "output_type": "stream",
     "text": [
      "Episode 19|Iteration 25|reward:   31.0|last_reward_at:   16|Elapsed Time: 0:00:00||\n"
     ]
    },
    {
     "name": "stdout",
     "output_type": "stream",
     "text": [
      "  Episode 19 stopped at t=25 \n",
      "  Breakdown [Reward/NoReward (Success rate)]\n",
      "    explore-local: 0/10 (0.00)\n",
      "    explore-remote: 2/9 (0.18)\n",
      "    explore-connect: 0/2 (0.00)\n",
      "    exploit-local: 1/1 (0.50)\n",
      "    exploit-remote: 0/0 (NaN)\n",
      "    exploit-connect: 0/0 (NaN)\n",
      "  exploit deflected to exploration: 0\n",
      "  ## Episode: 20/100 'DQL' ϵ=0.8276, γ=0.015, lr=0.01, replaymemory=10000,\n",
      "batch=512, target_update=5\n"
     ]
    },
    {
     "name": "stderr",
     "output_type": "stream",
     "text": [
      "Episode 20|Iteration 25|reward:   11.0|last_reward_at:    1|Elapsed Time: 0:00:00||\n"
     ]
    },
    {
     "name": "stdout",
     "output_type": "stream",
     "text": [
      "  Episode 20 stopped at t=25 \n",
      "  Breakdown [Reward/NoReward (Success rate)]\n",
      "    explore-local: 1/11 (0.08)\n",
      "    explore-remote: 0/9 (0.00)\n",
      "    explore-connect: 0/0 (NaN)\n",
      "    exploit-local: 0/3 (0.00)\n",
      "    exploit-remote: 0/1 (0.00)\n",
      "    exploit-connect: 0/0 (NaN)\n",
      "  exploit deflected to exploration: 0\n",
      "  ## Episode: 21/100 'DQL' ϵ=0.8240, γ=0.015, lr=0.01, replaymemory=10000,\n",
      "batch=512, target_update=5\n"
     ]
    },
    {
     "name": "stderr",
     "output_type": "stream",
     "text": [
      "Episode 21|Iteration 25|reward:   22.0|last_reward_at:   10|Elapsed Time: 0:00:00||\n"
     ]
    },
    {
     "name": "stdout",
     "output_type": "stream",
     "text": [
      "  Episode 21 stopped at t=25 \n",
      "  Breakdown [Reward/NoReward (Success rate)]\n",
      "    explore-local: 1/9 (0.10)\n",
      "    explore-remote: 1/12 (0.08)\n",
      "    explore-connect: 0/0 (NaN)\n",
      "    exploit-local: 0/1 (0.00)\n",
      "    exploit-remote: 0/1 (0.00)\n",
      "    exploit-connect: 0/0 (NaN)\n",
      "  exploit deflected to exploration: 2\n",
      "  ## Episode: 22/100 'DQL' ϵ=0.8204, γ=0.015, lr=0.01, replaymemory=10000,\n",
      "batch=512, target_update=5\n"
     ]
    },
    {
     "name": "stderr",
     "output_type": "stream",
     "text": [
      "Episode 22|Iteration 25|reward:   31.0|last_reward_at:   13|Elapsed Time: 0:00:00||\n"
     ]
    },
    {
     "name": "stdout",
     "output_type": "stream",
     "text": [
      "  Episode 22 stopped at t=25 \n",
      "  Breakdown [Reward/NoReward (Success rate)]\n",
      "    explore-local: 1/10 (0.09)\n",
      "    explore-remote: 2/7 (0.22)\n",
      "    explore-connect: 0/3 (0.00)\n",
      "    exploit-local: 0/0 (NaN)\n",
      "    exploit-remote: 0/2 (0.00)\n",
      "    exploit-connect: 0/0 (NaN)\n",
      "  exploit deflected to exploration: 1\n",
      "  ## Episode: 23/100 'DQL' ϵ=0.8168, γ=0.015, lr=0.01, replaymemory=10000,\n",
      "batch=512, target_update=5\n"
     ]
    },
    {
     "name": "stderr",
     "output_type": "stream",
     "text": [
      "Episode 23|Iteration 25|reward: 1031.0|last_reward_at:   13|Elapsed Time: 0:00:00||\n"
     ]
    },
    {
     "name": "stdout",
     "output_type": "stream",
     "text": [
      "  Episode 23 stopped at t=25 \n",
      "  Breakdown [Reward/NoReward (Success rate)]\n",
      "    explore-local: 1/0 (1.00)\n",
      "    explore-remote: 1/13 (0.07)\n",
      "    explore-connect: 0/7 (0.00)\n",
      "    exploit-local: 0/0 (NaN)\n",
      "    exploit-remote: 1/1 (0.50)\n",
      "    exploit-connect: 1/0 (1.00)\n",
      "  exploit deflected to exploration: 3\n",
      "  ## Episode: 24/100 'DQL' ϵ=0.8132, γ=0.015, lr=0.01, replaymemory=10000,\n",
      "batch=512, target_update=5\n"
     ]
    },
    {
     "name": "stderr",
     "output_type": "stream",
     "text": [
      "Episode 24|Iteration 25|reward: 1031.0|last_reward_at:   18|Elapsed Time: 0:00:00||\n"
     ]
    },
    {
     "name": "stdout",
     "output_type": "stream",
     "text": [
      "  Episode 24 stopped at t=25 \n",
      "  Breakdown [Reward/NoReward (Success rate)]\n",
      "    explore-local: 1/5 (0.17)\n",
      "    explore-remote: 2/13 (0.13)\n",
      "    explore-connect: 0/2 (0.00)\n",
      "    exploit-local: 0/1 (0.00)\n",
      "    exploit-remote: 0/0 (NaN)\n",
      "    exploit-connect: 1/0 (1.00)\n",
      "  exploit deflected to exploration: 1\n",
      "  ## Episode: 25/100 'DQL' ϵ=0.8097, γ=0.015, lr=0.01, replaymemory=10000,\n",
      "batch=512, target_update=5\n"
     ]
    },
    {
     "name": "stderr",
     "output_type": "stream",
     "text": [
      "Episode 25|Iteration 25|reward: 1031.0|last_reward_at:   16|Elapsed Time: 0:00:00||\n"
     ]
    },
    {
     "name": "stdout",
     "output_type": "stream",
     "text": [
      "  Episode 25 stopped at t=25 \n",
      "  Breakdown [Reward/NoReward (Success rate)]\n",
      "    explore-local: 1/6 (0.14)\n",
      "    explore-remote: 1/7 (0.12)\n",
      "    explore-connect: 0/4 (0.00)\n",
      "    exploit-local: 0/0 (NaN)\n",
      "    exploit-remote: 1/4 (0.20)\n",
      "    exploit-connect: 1/0 (1.00)\n",
      "  exploit deflected to exploration: 1\n",
      "  ## Episode: 26/100 'DQL' ϵ=0.8061, γ=0.015, lr=0.01, replaymemory=10000,\n",
      "batch=512, target_update=5\n"
     ]
    },
    {
     "name": "stderr",
     "output_type": "stream",
     "text": [
      "Episode 26|Iteration 25|reward: 1031.0|last_reward_at:   20|Elapsed Time: 0:00:00||\n"
     ]
    },
    {
     "name": "stdout",
     "output_type": "stream",
     "text": [
      "  Episode 26 stopped at t=25 \n",
      "  Breakdown [Reward/NoReward (Success rate)]\n",
      "    explore-local: 1/7 (0.12)\n",
      "    explore-remote: 2/8 (0.20)\n",
      "    explore-connect: 0/5 (0.00)\n",
      "    exploit-local: 0/0 (NaN)\n",
      "    exploit-remote: 0/1 (0.00)\n",
      "    exploit-connect: 1/0 (1.00)\n",
      "  exploit deflected to exploration: 3\n",
      "  ## Episode: 27/100 'DQL' ϵ=0.8026, γ=0.015, lr=0.01, replaymemory=10000,\n",
      "batch=512, target_update=5\n"
     ]
    },
    {
     "name": "stderr",
     "output_type": "stream",
     "text": [
      "Episode 27|Iteration 25|reward: 1031.0|last_reward_at:   22|Elapsed Time: 0:00:00||\n"
     ]
    },
    {
     "name": "stdout",
     "output_type": "stream",
     "text": [
      "  Episode 27 stopped at t=25 \n",
      "  Breakdown [Reward/NoReward (Success rate)]\n",
      "    explore-local: 1/5 (0.17)\n",
      "    explore-remote: 2/9 (0.18)\n",
      "    explore-connect: 0/5 (0.00)\n",
      "    exploit-local: 0/0 (NaN)\n",
      "    exploit-remote: 0/2 (0.00)\n",
      "    exploit-connect: 1/0 (1.00)\n",
      "  exploit deflected to exploration: 0\n",
      "  ## Episode: 28/100 'DQL' ϵ=0.7991, γ=0.015, lr=0.01, replaymemory=10000,\n",
      "batch=512, target_update=5\n"
     ]
    },
    {
     "name": "stderr",
     "output_type": "stream",
     "text": [
      "Episode 28|Iteration 25|reward: 1031.0|last_reward_at:   12|Elapsed Time: 0:00:00||\n"
     ]
    },
    {
     "name": "stdout",
     "output_type": "stream",
     "text": [
      "  Episode 28 stopped at t=25 \n",
      "  Breakdown [Reward/NoReward (Success rate)]\n",
      "    explore-local: 1/8 (0.11)\n",
      "    explore-remote: 1/8 (0.11)\n",
      "    explore-connect: 0/4 (0.00)\n",
      "    exploit-local: 0/0 (NaN)\n",
      "    exploit-remote: 1/1 (0.50)\n",
      "    exploit-connect: 1/0 (1.00)\n",
      "  exploit deflected to exploration: 3\n",
      "  ## Episode: 29/100 'DQL' ϵ=0.7956, γ=0.015, lr=0.01, replaymemory=10000,\n",
      "batch=512, target_update=5\n"
     ]
    },
    {
     "name": "stderr",
     "output_type": "stream",
     "text": [
      "Episode 29|Iteration 25|reward: 1031.0|last_reward_at:   16|Elapsed Time: 0:00:00||\n"
     ]
    },
    {
     "name": "stdout",
     "output_type": "stream",
     "text": [
      "  Episode 29 stopped at t=25 \n",
      "  Breakdown [Reward/NoReward (Success rate)]\n",
      "    explore-local: 1/4 (0.20)\n",
      "    explore-remote: 2/5 (0.29)\n",
      "    explore-connect: 0/6 (0.00)\n",
      "    exploit-local: 0/0 (NaN)\n",
      "    exploit-remote: 0/6 (0.00)\n",
      "    exploit-connect: 1/0 (1.00)\n",
      "  exploit deflected to exploration: 0\n",
      "  ## Episode: 30/100 'DQL' ϵ=0.7922, γ=0.015, lr=0.01, replaymemory=10000,\n",
      "batch=512, target_update=5\n"
     ]
    },
    {
     "name": "stderr",
     "output_type": "stream",
     "text": [
      "Episode 30|Iteration 25|reward:   22.0|last_reward_at:    6|Elapsed Time: 0:00:00||\n"
     ]
    },
    {
     "name": "stdout",
     "output_type": "stream",
     "text": [
      "  Episode 30 stopped at t=25 \n",
      "  Breakdown [Reward/NoReward (Success rate)]\n",
      "    explore-local: 1/7 (0.12)\n",
      "    explore-remote: 1/16 (0.06)\n",
      "    explore-connect: 0/0 (NaN)\n",
      "    exploit-local: 0/0 (NaN)\n",
      "    exploit-remote: 0/0 (NaN)\n",
      "    exploit-connect: 0/0 (NaN)\n",
      "  exploit deflected to exploration: 2\n",
      "  ## Episode: 31/100 'DQL' ϵ=0.7887, γ=0.015, lr=0.01, replaymemory=10000,\n",
      "batch=512, target_update=5\n"
     ]
    },
    {
     "name": "stderr",
     "output_type": "stream",
     "text": [
      "Episode 31|Iteration 25|reward:   31.0|last_reward_at:   14|Elapsed Time: 0:00:00||\n"
     ]
    },
    {
     "name": "stdout",
     "output_type": "stream",
     "text": [
      "  Episode 31 stopped at t=25 \n",
      "  Breakdown [Reward/NoReward (Success rate)]\n",
      "    explore-local: 1/7 (0.12)\n",
      "    explore-remote: 2/12 (0.14)\n",
      "    explore-connect: 0/2 (0.00)\n",
      "    exploit-local: 0/0 (NaN)\n",
      "    exploit-remote: 0/1 (0.00)\n",
      "    exploit-connect: 0/0 (NaN)\n",
      "  exploit deflected to exploration: 1\n",
      "  ## Episode: 32/100 'DQL' ϵ=0.7853, γ=0.015, lr=0.01, replaymemory=10000,\n",
      "batch=512, target_update=5\n"
     ]
    },
    {
     "name": "stderr",
     "output_type": "stream",
     "text": [
      "Episode 32|Iteration 25|reward:   22.0|last_reward_at:   12|Elapsed Time: 0:00:00||\n"
     ]
    },
    {
     "name": "stdout",
     "output_type": "stream",
     "text": [
      "  Episode 32 stopped at t=25 \n",
      "  Breakdown [Reward/NoReward (Success rate)]\n",
      "    explore-local: 1/9 (0.10)\n",
      "    explore-remote: 1/12 (0.08)\n",
      "    explore-connect: 0/0 (NaN)\n",
      "    exploit-local: 0/0 (NaN)\n",
      "    exploit-remote: 0/2 (0.00)\n",
      "    exploit-connect: 0/0 (NaN)\n",
      "  exploit deflected to exploration: 3\n",
      "  ## Episode: 33/100 'DQL' ϵ=0.7819, γ=0.015, lr=0.01, replaymemory=10000,\n",
      "batch=512, target_update=5\n"
     ]
    },
    {
     "name": "stderr",
     "output_type": "stream",
     "text": [
      "Episode 33|Iteration 25|reward: 1031.0|last_reward_at:    5|Elapsed Time: 0:00:00||\n"
     ]
    },
    {
     "name": "stdout",
     "output_type": "stream",
     "text": [
      "  Episode 33 stopped at t=25 \n",
      "  Breakdown [Reward/NoReward (Success rate)]\n",
      "    explore-local: 1/3 (0.25)\n",
      "    explore-remote: 0/9 (0.00)\n",
      "    explore-connect: 0/7 (0.00)\n",
      "    exploit-local: 0/1 (0.00)\n",
      "    exploit-remote: 2/1 (0.67)\n",
      "    exploit-connect: 1/0 (1.00)\n",
      "  exploit deflected to exploration: 0\n",
      "  ## Episode: 34/100 'DQL' ϵ=0.7785, γ=0.015, lr=0.01, replaymemory=10000,\n",
      "batch=512, target_update=5\n"
     ]
    },
    {
     "name": "stderr",
     "output_type": "stream",
     "text": [
      "Episode 34|Iteration 25|reward: 1031.0|last_reward_at:   21|Elapsed Time: 0:00:00||\n"
     ]
    },
    {
     "name": "stdout",
     "output_type": "stream",
     "text": [
      "  Episode 34 stopped at t=25 \n",
      "  Breakdown [Reward/NoReward (Success rate)]\n",
      "    explore-local: 0/11 (0.00)\n",
      "    explore-remote: 1/9 (0.10)\n",
      "    explore-connect: 0/0 (NaN)\n",
      "    exploit-local: 1/0 (1.00)\n",
      "    exploit-remote: 1/1 (0.50)\n",
      "    exploit-connect: 1/0 (1.00)\n",
      "  exploit deflected to exploration: 1\n",
      "  ## Episode: 35/100 'DQL' ϵ=0.7751, γ=0.015, lr=0.01, replaymemory=10000,\n",
      "batch=512, target_update=5\n"
     ]
    },
    {
     "name": "stderr",
     "output_type": "stream",
     "text": [
      "Episode 35|Iteration 25|reward: 1031.0|last_reward_at:    9|Elapsed Time: 0:00:00||\n"
     ]
    },
    {
     "name": "stdout",
     "output_type": "stream",
     "text": [
      "  Episode 35 stopped at t=25 \n",
      "  Breakdown [Reward/NoReward (Success rate)]\n",
      "    explore-local: 0/5 (0.00)\n",
      "    explore-remote: 0/6 (0.00)\n",
      "    explore-connect: 1/5 (0.17)\n",
      "    exploit-local: 1/0 (1.00)\n",
      "    exploit-remote: 2/5 (0.29)\n",
      "    exploit-connect: 0/0 (NaN)\n",
      "  exploit deflected to exploration: 1\n",
      "  ## Episode: 36/100 'DQL' ϵ=0.7717, γ=0.015, lr=0.01, replaymemory=10000,\n",
      "batch=512, target_update=5\n"
     ]
    },
    {
     "name": "stderr",
     "output_type": "stream",
     "text": [
      "Episode 36|Iteration 25|reward: 1031.0|last_reward_at:    9|Elapsed Time: 0:00:00||\n"
     ]
    },
    {
     "name": "stdout",
     "output_type": "stream",
     "text": [
      "  Episode 36 stopped at t=25 \n",
      "  Breakdown [Reward/NoReward (Success rate)]\n",
      "    explore-local: 0/6 (0.00)\n",
      "    explore-remote: 1/7 (0.12)\n",
      "    explore-connect: 0/6 (0.00)\n",
      "    exploit-local: 1/0 (1.00)\n",
      "    exploit-remote: 1/2 (0.33)\n",
      "    exploit-connect: 1/0 (1.00)\n",
      "  exploit deflected to exploration: 2\n",
      "  ## Episode: 37/100 'DQL' ϵ=0.7683, γ=0.015, lr=0.01, replaymemory=10000,\n",
      "batch=512, target_update=5\n"
     ]
    },
    {
     "name": "stderr",
     "output_type": "stream",
     "text": [
      "Episode 37|Iteration 25|reward: 1031.0|last_reward_at:   12|Elapsed Time: 0:00:00||\n"
     ]
    },
    {
     "name": "stdout",
     "output_type": "stream",
     "text": [
      "  Episode 37 stopped at t=25 \n",
      "  Breakdown [Reward/NoReward (Success rate)]\n",
      "    explore-local: 1/4 (0.20)\n",
      "    explore-remote: 2/10 (0.17)\n",
      "    explore-connect: 1/4 (0.20)\n",
      "    exploit-local: 0/1 (0.00)\n",
      "    exploit-remote: 0/1 (0.00)\n",
      "    exploit-connect: 0/1 (0.00)\n",
      "  exploit deflected to exploration: 3\n",
      "  ## Episode: 38/100 'DQL' ϵ=0.7650, γ=0.015, lr=0.01, replaymemory=10000,\n",
      "batch=512, target_update=5\n"
     ]
    },
    {
     "name": "stderr",
     "output_type": "stream",
     "text": [
      "Episode 38|Iteration 25|reward:   22.0|last_reward_at:    4|Elapsed Time: 0:00:00||\n"
     ]
    },
    {
     "name": "stdout",
     "output_type": "stream",
     "text": [
      "  Episode 38 stopped at t=25 \n",
      "  Breakdown [Reward/NoReward (Success rate)]\n",
      "    explore-local: 1/14 (0.07)\n",
      "    explore-remote: 0/8 (0.00)\n",
      "    explore-connect: 0/0 (NaN)\n",
      "    exploit-local: 0/0 (NaN)\n",
      "    exploit-remote: 1/1 (0.50)\n",
      "    exploit-connect: 0/0 (NaN)\n",
      "  exploit deflected to exploration: 6\n",
      "  ## Episode: 39/100 'DQL' ϵ=0.7617, γ=0.015, lr=0.01, replaymemory=10000,\n",
      "batch=512, target_update=5\n"
     ]
    },
    {
     "name": "stderr",
     "output_type": "stream",
     "text": [
      "Episode 39|Iteration 25|reward:   22.0|last_reward_at:    5|Elapsed Time: 0:00:00||\n"
     ]
    },
    {
     "name": "stdout",
     "output_type": "stream",
     "text": [
      "  Episode 39 stopped at t=25 \n",
      "  Breakdown [Reward/NoReward (Success rate)]\n",
      "    explore-local: 1/10 (0.09)\n",
      "    explore-remote: 0/13 (0.00)\n",
      "    explore-connect: 0/0 (NaN)\n",
      "    exploit-local: 0/0 (NaN)\n",
      "    exploit-remote: 1/0 (1.00)\n",
      "    exploit-connect: 0/0 (NaN)\n",
      "  exploit deflected to exploration: 3\n",
      "  ## Episode: 40/100 'DQL' ϵ=0.7584, γ=0.015, lr=0.01, replaymemory=10000,\n",
      "batch=512, target_update=5\n"
     ]
    },
    {
     "name": "stderr",
     "output_type": "stream",
     "text": [
      "Episode 40|Iteration 25|reward:   31.0|last_reward_at:   11|Elapsed Time: 0:00:00||\n"
     ]
    },
    {
     "name": "stdout",
     "output_type": "stream",
     "text": [
      "  Episode 40 stopped at t=25 \n",
      "  Breakdown [Reward/NoReward (Success rate)]\n",
      "    explore-local: 1/12 (0.08)\n",
      "    explore-remote: 0/6 (0.00)\n",
      "    explore-connect: 0/2 (0.00)\n",
      "    exploit-local: 0/0 (NaN)\n",
      "    exploit-remote: 2/0 (1.00)\n",
      "    exploit-connect: 0/2 (0.00)\n",
      "  exploit deflected to exploration: 0\n",
      "  ## Episode: 41/100 'DQL' ϵ=0.7551, γ=0.015, lr=0.01, replaymemory=10000,\n",
      "batch=512, target_update=5\n"
     ]
    },
    {
     "name": "stderr",
     "output_type": "stream",
     "text": [
      "Episode 41|Iteration 25|reward: 1031.0|last_reward_at:   10|Elapsed Time: 0:00:00||\n"
     ]
    },
    {
     "name": "stdout",
     "output_type": "stream",
     "text": [
      "  Episode 41 stopped at t=25 \n",
      "  Breakdown [Reward/NoReward (Success rate)]\n",
      "    explore-local: 1/4 (0.20)\n",
      "    explore-remote: 0/10 (0.00)\n",
      "    explore-connect: 0/2 (0.00)\n",
      "    exploit-local: 0/1 (0.00)\n",
      "    exploit-remote: 2/4 (0.33)\n",
      "    exploit-connect: 1/0 (1.00)\n",
      "  exploit deflected to exploration: 0\n",
      "  ## Episode: 42/100 'DQL' ϵ=0.7518, γ=0.015, lr=0.01, replaymemory=10000,\n",
      "batch=512, target_update=5\n"
     ]
    },
    {
     "name": "stderr",
     "output_type": "stream",
     "text": [
      "Episode 42|Iteration 25|reward: 1031.0|last_reward_at:    8|Elapsed Time: 0:00:00||\n"
     ]
    },
    {
     "name": "stdout",
     "output_type": "stream",
     "text": [
      "  Episode 42 stopped at t=25 \n",
      "  Breakdown [Reward/NoReward (Success rate)]\n",
      "    explore-local: 1/6 (0.14)\n",
      "    explore-remote: 1/3 (0.25)\n",
      "    explore-connect: 0/8 (0.00)\n",
      "    exploit-local: 0/0 (NaN)\n",
      "    exploit-remote: 1/4 (0.20)\n",
      "    exploit-connect: 1/0 (1.00)\n",
      "  exploit deflected to exploration: 1\n",
      "  ## Episode: 43/100 'DQL' ϵ=0.7486, γ=0.015, lr=0.01, replaymemory=10000,\n",
      "batch=512, target_update=5\n"
     ]
    },
    {
     "name": "stderr",
     "output_type": "stream",
     "text": [
      "Episode 43|Iteration 25|reward: 1031.0|last_reward_at:   13|Elapsed Time: 0:00:00||\n"
     ]
    },
    {
     "name": "stdout",
     "output_type": "stream",
     "text": [
      "  Episode 43 stopped at t=25 \n",
      "  Breakdown [Reward/NoReward (Success rate)]\n",
      "    explore-local: 1/13 (0.07)\n",
      "    explore-remote: 1/2 (0.33)\n",
      "    explore-connect: 0/4 (0.00)\n",
      "    exploit-local: 0/0 (NaN)\n",
      "    exploit-remote: 1/2 (0.33)\n",
      "    exploit-connect: 1/0 (1.00)\n",
      "  exploit deflected to exploration: 2\n",
      "  ## Episode: 44/100 'DQL' ϵ=0.7454, γ=0.015, lr=0.01, replaymemory=10000,\n",
      "batch=512, target_update=5\n"
     ]
    },
    {
     "name": "stderr",
     "output_type": "stream",
     "text": [
      "Episode 44|Iteration 25|reward: 1031.0|last_reward_at:   14|Elapsed Time: 0:00:00||\n"
     ]
    },
    {
     "name": "stdout",
     "output_type": "stream",
     "text": [
      "  Episode 44 stopped at t=25 \n",
      "  Breakdown [Reward/NoReward (Success rate)]\n",
      "    explore-local: 1/6 (0.14)\n",
      "    explore-remote: 1/6 (0.14)\n",
      "    explore-connect: 0/4 (0.00)\n",
      "    exploit-local: 0/0 (NaN)\n",
      "    exploit-remote: 1/5 (0.17)\n",
      "    exploit-connect: 1/0 (1.00)\n",
      "  exploit deflected to exploration: 0\n",
      "  ## Episode: 45/100 'DQL' ϵ=0.7421, γ=0.015, lr=0.01, replaymemory=10000,\n",
      "batch=512, target_update=5\n"
     ]
    },
    {
     "name": "stderr",
     "output_type": "stream",
     "text": [
      "Episode 45|Iteration 25|reward: 1031.0|last_reward_at:    8|Elapsed Time: 0:00:00||\n"
     ]
    },
    {
     "name": "stdout",
     "output_type": "stream",
     "text": [
      "  Episode 45 stopped at t=25 \n",
      "  Breakdown [Reward/NoReward (Success rate)]\n",
      "    explore-local: 0/2 (0.00)\n",
      "    explore-remote: 0/9 (0.00)\n",
      "    explore-connect: 0/5 (0.00)\n",
      "    exploit-local: 1/0 (1.00)\n",
      "    exploit-remote: 2/5 (0.29)\n",
      "    exploit-connect: 1/0 (1.00)\n",
      "  exploit deflected to exploration: 1\n",
      "  ## Episode: 46/100 'DQL' ϵ=0.7389, γ=0.015, lr=0.01, replaymemory=10000,\n",
      "batch=512, target_update=5\n"
     ]
    },
    {
     "name": "stderr",
     "output_type": "stream",
     "text": [
      "Episode 46|Iteration 25|reward: 1031.0|last_reward_at:   10|Elapsed Time: 0:00:00||\n"
     ]
    },
    {
     "name": "stdout",
     "output_type": "stream",
     "text": [
      "  Episode 46 stopped at t=25 \n",
      "  Breakdown [Reward/NoReward (Success rate)]\n",
      "    explore-local: 1/5 (0.17)\n",
      "    explore-remote: 1/7 (0.12)\n",
      "    explore-connect: 0/7 (0.00)\n",
      "    exploit-local: 0/0 (NaN)\n",
      "    exploit-remote: 1/2 (0.33)\n",
      "    exploit-connect: 1/0 (1.00)\n",
      "  exploit deflected to exploration: 3\n",
      "  ## Episode: 47/100 'DQL' ϵ=0.7358, γ=0.015, lr=0.01, replaymemory=10000,\n",
      "batch=512, target_update=5\n"
     ]
    },
    {
     "name": "stderr",
     "output_type": "stream",
     "text": [
      "Episode 47|Iteration 25|reward: 1031.0|last_reward_at:   14|Elapsed Time: 0:00:00||\n"
     ]
    },
    {
     "name": "stdout",
     "output_type": "stream",
     "text": [
      "  Episode 47 stopped at t=25 \n",
      "  Breakdown [Reward/NoReward (Success rate)]\n",
      "    explore-local: 1/7 (0.12)\n",
      "    explore-remote: 0/8 (0.00)\n",
      "    explore-connect: 1/2 (0.33)\n",
      "    exploit-local: 0/2 (0.00)\n",
      "    exploit-remote: 2/2 (0.50)\n",
      "    exploit-connect: 0/0 (NaN)\n",
      "  exploit deflected to exploration: 2\n",
      "  ## Episode: 48/100 'DQL' ϵ=0.7326, γ=0.015, lr=0.01, replaymemory=10000,\n",
      "batch=512, target_update=5\n"
     ]
    },
    {
     "name": "stderr",
     "output_type": "stream",
     "text": [
      "Episode 48|Iteration 25|reward:   31.0|last_reward_at:   15|Elapsed Time: 0:00:00||\n"
     ]
    },
    {
     "name": "stdout",
     "output_type": "stream",
     "text": [
      "  Episode 48 stopped at t=25 \n",
      "  Breakdown [Reward/NoReward (Success rate)]\n",
      "    explore-local: 0/10 (0.00)\n",
      "    explore-remote: 1/6 (0.14)\n",
      "    explore-connect: 0/3 (0.00)\n",
      "    exploit-local: 1/0 (1.00)\n",
      "    exploit-remote: 1/3 (0.25)\n",
      "    exploit-connect: 0/0 (NaN)\n",
      "  exploit deflected to exploration: 0\n",
      "  ## Episode: 49/100 'DQL' ϵ=0.7294, γ=0.015, lr=0.01, replaymemory=10000,\n",
      "batch=512, target_update=5\n"
     ]
    },
    {
     "name": "stderr",
     "output_type": "stream",
     "text": [
      "Episode 49|Iteration 25|reward: 1031.0|last_reward_at:   11|Elapsed Time: 0:00:00||\n"
     ]
    },
    {
     "name": "stdout",
     "output_type": "stream",
     "text": [
      "  Episode 49 stopped at t=25 \n",
      "  Breakdown [Reward/NoReward (Success rate)]\n",
      "    explore-local: 0/4 (0.00)\n",
      "    explore-remote: 1/8 (0.11)\n",
      "    explore-connect: 0/8 (0.00)\n",
      "    exploit-local: 1/0 (1.00)\n",
      "    exploit-remote: 1/1 (0.50)\n",
      "    exploit-connect: 1/0 (1.00)\n",
      "  exploit deflected to exploration: 0\n",
      "  ## Episode: 50/100 'DQL' ϵ=0.7263, γ=0.015, lr=0.01, replaymemory=10000,\n",
      "batch=512, target_update=5\n"
     ]
    },
    {
     "name": "stderr",
     "output_type": "stream",
     "text": [
      "Episode 50|Iteration 25|reward: 1031.0|last_reward_at:   12|Elapsed Time: 0:00:00||\n"
     ]
    },
    {
     "name": "stdout",
     "output_type": "stream",
     "text": [
      "  Episode 50 stopped at t=25 \n",
      "  Breakdown [Reward/NoReward (Success rate)]\n",
      "    explore-local: 1/3 (0.25)\n",
      "    explore-remote: 2/9 (0.18)\n",
      "    explore-connect: 0/6 (0.00)\n",
      "    exploit-local: 0/0 (NaN)\n",
      "    exploit-remote: 0/3 (0.00)\n",
      "    exploit-connect: 1/0 (1.00)\n",
      "  exploit deflected to exploration: 1\n",
      "  ## Episode: 51/100 'DQL' ϵ=0.7232, γ=0.015, lr=0.01, replaymemory=10000,\n",
      "batch=512, target_update=5\n"
     ]
    },
    {
     "name": "stderr",
     "output_type": "stream",
     "text": [
      "Episode 51|Iteration 25|reward: 1031.0|last_reward_at:    9|Elapsed Time: 0:00:00||\n"
     ]
    },
    {
     "name": "stdout",
     "output_type": "stream",
     "text": [
      "  Episode 51 stopped at t=25 \n",
      "  Breakdown [Reward/NoReward (Success rate)]\n",
      "    explore-local: 0/5 (0.00)\n",
      "    explore-remote: 1/6 (0.14)\n",
      "    explore-connect: 0/5 (0.00)\n",
      "    exploit-local: 1/0 (1.00)\n",
      "    exploit-remote: 1/5 (0.17)\n",
      "    exploit-connect: 1/0 (1.00)\n",
      "  exploit deflected to exploration: 1\n",
      "  ## Episode: 52/100 'DQL' ϵ=0.7201, γ=0.015, lr=0.01, replaymemory=10000,\n",
      "batch=512, target_update=5\n"
     ]
    },
    {
     "name": "stderr",
     "output_type": "stream",
     "text": [
      "Episode 52|Iteration 25|reward: 1031.0|last_reward_at:   12|Elapsed Time: 0:00:00||\n"
     ]
    },
    {
     "name": "stdout",
     "output_type": "stream",
     "text": [
      "  Episode 52 stopped at t=25 \n",
      "  Breakdown [Reward/NoReward (Success rate)]\n",
      "    explore-local: 0/3 (0.00)\n",
      "    explore-remote: 1/8 (0.11)\n",
      "    explore-connect: 0/6 (0.00)\n",
      "    exploit-local: 1/2 (0.33)\n",
      "    exploit-remote: 1/2 (0.33)\n",
      "    exploit-connect: 1/0 (1.00)\n",
      "  exploit deflected to exploration: 1\n",
      "  ## Episode: 53/100 'DQL' ϵ=0.7170, γ=0.015, lr=0.01, replaymemory=10000,\n",
      "batch=512, target_update=5\n"
     ]
    },
    {
     "name": "stderr",
     "output_type": "stream",
     "text": [
      "Episode 53|Iteration 25|reward: 1031.0|last_reward_at:   18|Elapsed Time: 0:00:00||\n"
     ]
    },
    {
     "name": "stdout",
     "output_type": "stream",
     "text": [
      "  Episode 53 stopped at t=25 \n",
      "  Breakdown [Reward/NoReward (Success rate)]\n",
      "    explore-local: 1/6 (0.14)\n",
      "    explore-remote: 1/5 (0.17)\n",
      "    explore-connect: 0/6 (0.00)\n",
      "    exploit-local: 0/0 (NaN)\n",
      "    exploit-remote: 1/4 (0.20)\n",
      "    exploit-connect: 1/0 (1.00)\n",
      "  exploit deflected to exploration: 0\n",
      "  ## Episode: 54/100 'DQL' ϵ=0.7139, γ=0.015, lr=0.01, replaymemory=10000,\n",
      "batch=512, target_update=5\n"
     ]
    },
    {
     "name": "stderr",
     "output_type": "stream",
     "text": [
      "Episode 54|Iteration 25|reward: 1031.0|last_reward_at:   17|Elapsed Time: 0:00:00||\n"
     ]
    },
    {
     "name": "stdout",
     "output_type": "stream",
     "text": [
      "  Episode 54 stopped at t=25 \n",
      "  Breakdown [Reward/NoReward (Success rate)]\n",
      "    explore-local: 0/5 (0.00)\n",
      "    explore-remote: 1/6 (0.14)\n",
      "    explore-connect: 0/4 (0.00)\n",
      "    exploit-local: 1/0 (1.00)\n",
      "    exploit-remote: 1/5 (0.17)\n",
      "    exploit-connect: 1/1 (0.50)\n",
      "  exploit deflected to exploration: 0\n",
      "  ## Episode: 55/100 'DQL' ϵ=0.7108, γ=0.015, lr=0.01, replaymemory=10000,\n",
      "batch=512, target_update=5\n"
     ]
    },
    {
     "name": "stderr",
     "output_type": "stream",
     "text": [
      "Episode 55|Iteration 25|reward: 1031.0|last_reward_at:   15|Elapsed Time: 0:00:00||\n"
     ]
    },
    {
     "name": "stdout",
     "output_type": "stream",
     "text": [
      "  Episode 55 stopped at t=25 \n",
      "  Breakdown [Reward/NoReward (Success rate)]\n",
      "    explore-local: 0/7 (0.00)\n",
      "    explore-remote: 1/6 (0.14)\n",
      "    explore-connect: 1/5 (0.17)\n",
      "    exploit-local: 1/0 (1.00)\n",
      "    exploit-remote: 1/3 (0.25)\n",
      "    exploit-connect: 0/0 (NaN)\n",
      "  exploit deflected to exploration: 2\n",
      "  ## Episode: 56/100 'DQL' ϵ=0.7078, γ=0.015, lr=0.01, replaymemory=10000,\n",
      "batch=512, target_update=5\n"
     ]
    },
    {
     "name": "stderr",
     "output_type": "stream",
     "text": [
      "Episode 56|Iteration 25|reward: 1031.0|last_reward_at:   22|Elapsed Time: 0:00:00||\n"
     ]
    },
    {
     "name": "stdout",
     "output_type": "stream",
     "text": [
      "  Episode 56 stopped at t=25 \n",
      "  Breakdown [Reward/NoReward (Success rate)]\n",
      "    explore-local: 0/9 (0.00)\n",
      "    explore-remote: 1/8 (0.11)\n",
      "    explore-connect: 0/1 (0.00)\n",
      "    exploit-local: 1/0 (1.00)\n",
      "    exploit-remote: 1/3 (0.25)\n",
      "    exploit-connect: 1/0 (1.00)\n",
      "  exploit deflected to exploration: 1\n",
      "  ## Episode: 57/100 'DQL' ϵ=0.7047, γ=0.015, lr=0.01, replaymemory=10000,\n",
      "batch=512, target_update=5\n"
     ]
    },
    {
     "name": "stderr",
     "output_type": "stream",
     "text": [
      "Episode 57|Iteration 25|reward: 1031.0|last_reward_at:   13|Elapsed Time: 0:00:00||\n"
     ]
    },
    {
     "name": "stdout",
     "output_type": "stream",
     "text": [
      "  Episode 57 stopped at t=25 \n",
      "  Breakdown [Reward/NoReward (Success rate)]\n",
      "    explore-local: 1/2 (0.33)\n",
      "    explore-remote: 1/8 (0.11)\n",
      "    explore-connect: 0/7 (0.00)\n",
      "    exploit-local: 0/0 (NaN)\n",
      "    exploit-remote: 1/4 (0.20)\n",
      "    exploit-connect: 1/0 (1.00)\n",
      "  exploit deflected to exploration: 1\n",
      "  ## Episode: 58/100 'DQL' ϵ=0.7017, γ=0.015, lr=0.01, replaymemory=10000,\n",
      "batch=512, target_update=5\n"
     ]
    },
    {
     "name": "stderr",
     "output_type": "stream",
     "text": [
      "Episode 58|Iteration 25|reward: 1031.0|last_reward_at:   13|Elapsed Time: 0:00:00||\n"
     ]
    },
    {
     "name": "stdout",
     "output_type": "stream",
     "text": [
      "  Episode 58 stopped at t=25 \n",
      "  Breakdown [Reward/NoReward (Success rate)]\n",
      "    explore-local: 1/4 (0.20)\n",
      "    explore-remote: 0/4 (0.00)\n",
      "    explore-connect: 0/7 (0.00)\n",
      "    exploit-local: 0/0 (NaN)\n",
      "    exploit-remote: 2/6 (0.25)\n",
      "    exploit-connect: 1/0 (1.00)\n",
      "  exploit deflected to exploration: 0\n",
      "  ## Episode: 59/100 'DQL' ϵ=0.6987, γ=0.015, lr=0.01, replaymemory=10000,\n",
      "batch=512, target_update=5\n"
     ]
    },
    {
     "name": "stderr",
     "output_type": "stream",
     "text": [
      "Episode 59|Iteration 25|reward: 1031.0|last_reward_at:    8|Elapsed Time: 0:00:00||\n"
     ]
    },
    {
     "name": "stdout",
     "output_type": "stream",
     "text": [
      "  Episode 59 stopped at t=25 \n",
      "  Breakdown [Reward/NoReward (Success rate)]\n",
      "    explore-local: 1/2 (0.33)\n",
      "    explore-remote: 1/8 (0.11)\n",
      "    explore-connect: 0/5 (0.00)\n",
      "    exploit-local: 0/0 (NaN)\n",
      "    exploit-remote: 1/6 (0.14)\n",
      "    exploit-connect: 1/0 (1.00)\n",
      "  exploit deflected to exploration: 0\n",
      "  ## Episode: 60/100 'DQL' ϵ=0.6957, γ=0.015, lr=0.01, replaymemory=10000,\n",
      "batch=512, target_update=5\n"
     ]
    },
    {
     "name": "stderr",
     "output_type": "stream",
     "text": [
      "Episode 60|Iteration 25|reward:   22.0|last_reward_at:   17|Elapsed Time: 0:00:00||\n"
     ]
    },
    {
     "name": "stdout",
     "output_type": "stream",
     "text": [
      "  Episode 60 stopped at t=25 \n",
      "  Breakdown [Reward/NoReward (Success rate)]\n",
      "    explore-local: 0/9 (0.00)\n",
      "    explore-remote: 0/9 (0.00)\n",
      "    explore-connect: 0/0 (NaN)\n",
      "    exploit-local: 1/0 (1.00)\n",
      "    exploit-remote: 1/5 (0.17)\n",
      "    exploit-connect: 0/0 (NaN)\n",
      "  exploit deflected to exploration: 1\n",
      "  ## Episode: 61/100 'DQL' ϵ=0.6928, γ=0.015, lr=0.01, replaymemory=10000,\n",
      "batch=512, target_update=5\n"
     ]
    },
    {
     "name": "stderr",
     "output_type": "stream",
     "text": [
      "Episode 61|Iteration 25|reward: 1031.0|last_reward_at:    7|Elapsed Time: 0:00:00||\n"
     ]
    },
    {
     "name": "stdout",
     "output_type": "stream",
     "text": [
      "  Episode 61 stopped at t=25 \n",
      "  Breakdown [Reward/NoReward (Success rate)]\n",
      "    explore-local: 0/4 (0.00)\n",
      "    explore-remote: 0/8 (0.00)\n",
      "    explore-connect: 0/4 (0.00)\n",
      "    exploit-local: 1/0 (1.00)\n",
      "    exploit-remote: 2/5 (0.29)\n",
      "    exploit-connect: 1/0 (1.00)\n",
      "  exploit deflected to exploration: 0\n",
      "  ## Episode: 62/100 'DQL' ϵ=0.6898, γ=0.015, lr=0.01, replaymemory=10000,\n",
      "batch=512, target_update=5\n"
     ]
    },
    {
     "name": "stderr",
     "output_type": "stream",
     "text": [
      "Episode 62|Iteration 25|reward: 1031.0|last_reward_at:   13|Elapsed Time: 0:00:00||\n"
     ]
    },
    {
     "name": "stdout",
     "output_type": "stream",
     "text": [
      "  Episode 62 stopped at t=25 \n",
      "  Breakdown [Reward/NoReward (Success rate)]\n",
      "    explore-local: 1/6 (0.14)\n",
      "    explore-remote: 0/10 (0.00)\n",
      "    explore-connect: 0/2 (0.00)\n",
      "    exploit-local: 0/0 (NaN)\n",
      "    exploit-remote: 2/2 (0.50)\n",
      "    exploit-connect: 1/1 (0.50)\n",
      "  exploit deflected to exploration: 0\n",
      "  ## Episode: 63/100 'DQL' ϵ=0.6869, γ=0.015, lr=0.01, replaymemory=10000,\n",
      "batch=512, target_update=5\n"
     ]
    },
    {
     "name": "stderr",
     "output_type": "stream",
     "text": [
      "Episode 63|Iteration 25|reward: 1031.0|last_reward_at:   12|Elapsed Time: 0:00:00||\n"
     ]
    },
    {
     "name": "stdout",
     "output_type": "stream",
     "text": [
      "  Episode 63 stopped at t=25 \n",
      "  Breakdown [Reward/NoReward (Success rate)]\n",
      "    explore-local: 1/3 (0.25)\n",
      "    explore-remote: 1/10 (0.09)\n",
      "    explore-connect: 0/6 (0.00)\n",
      "    exploit-local: 0/0 (NaN)\n",
      "    exploit-remote: 1/2 (0.33)\n",
      "    exploit-connect: 1/0 (1.00)\n",
      "  exploit deflected to exploration: 0\n",
      "  ## Episode: 64/100 'DQL' ϵ=0.6839, γ=0.015, lr=0.01, replaymemory=10000,\n",
      "batch=512, target_update=5\n"
     ]
    },
    {
     "name": "stderr",
     "output_type": "stream",
     "text": [
      "Episode 64|Iteration 25|reward: 1031.0|last_reward_at:    6|Elapsed Time: 0:00:00||\n"
     ]
    },
    {
     "name": "stdout",
     "output_type": "stream",
     "text": [
      "  Episode 64 stopped at t=25 \n",
      "  Breakdown [Reward/NoReward (Success rate)]\n",
      "    explore-local: 0/2 (0.00)\n",
      "    explore-remote: 1/6 (0.14)\n",
      "    explore-connect: 0/2 (0.00)\n",
      "    exploit-local: 1/0 (1.00)\n",
      "    exploit-remote: 1/11 (0.08)\n",
      "    exploit-connect: 1/0 (1.00)\n",
      "  exploit deflected to exploration: 0\n",
      "  ## Episode: 65/100 'DQL' ϵ=0.6810, γ=0.015, lr=0.01, replaymemory=10000,\n",
      "batch=512, target_update=5\n"
     ]
    },
    {
     "name": "stderr",
     "output_type": "stream",
     "text": [
      "Episode 65|Iteration 25|reward: 1031.0|last_reward_at:    8|Elapsed Time: 0:00:00||\n"
     ]
    },
    {
     "name": "stdout",
     "output_type": "stream",
     "text": [
      "  Episode 65 stopped at t=25 \n",
      "  Breakdown [Reward/NoReward (Success rate)]\n",
      "    explore-local: 0/4 (0.00)\n",
      "    explore-remote: 1/9 (0.10)\n",
      "    explore-connect: 0/2 (0.00)\n",
      "    exploit-local: 1/0 (1.00)\n",
      "    exploit-remote: 1/6 (0.14)\n",
      "    exploit-connect: 1/0 (1.00)\n",
      "  exploit deflected to exploration: 0\n",
      "  ## Episode: 66/100 'DQL' ϵ=0.6781, γ=0.015, lr=0.01, replaymemory=10000,\n",
      "batch=512, target_update=5\n"
     ]
    },
    {
     "name": "stderr",
     "output_type": "stream",
     "text": [
      "Episode 66|Iteration 25|reward:   22.0|last_reward_at:    4|Elapsed Time: 0:00:00||\n"
     ]
    },
    {
     "name": "stdout",
     "output_type": "stream",
     "text": [
      "  Episode 66 stopped at t=25 \n",
      "  Breakdown [Reward/NoReward (Success rate)]\n",
      "    explore-local: 0/10 (0.00)\n",
      "    explore-remote: 0/10 (0.00)\n",
      "    explore-connect: 0/0 (NaN)\n",
      "    exploit-local: 1/0 (1.00)\n",
      "    exploit-remote: 1/3 (0.25)\n",
      "    exploit-connect: 0/0 (NaN)\n",
      "  exploit deflected to exploration: 1\n",
      "  ## Episode: 67/100 'DQL' ϵ=0.6753, γ=0.015, lr=0.01, replaymemory=10000,\n",
      "batch=512, target_update=5\n"
     ]
    },
    {
     "name": "stderr",
     "output_type": "stream",
     "text": [
      "Episode 67|Iteration 25|reward: 1031.0|last_reward_at:   19|Elapsed Time: 0:00:00||\n"
     ]
    },
    {
     "name": "stdout",
     "output_type": "stream",
     "text": [
      "  Episode 67 stopped at t=25 \n",
      "  Breakdown [Reward/NoReward (Success rate)]\n",
      "    explore-local: 1/7 (0.12)\n",
      "    explore-remote: 2/8 (0.20)\n",
      "    explore-connect: 0/4 (0.00)\n",
      "    exploit-local: 0/0 (NaN)\n",
      "    exploit-remote: 0/2 (0.00)\n",
      "    exploit-connect: 1/0 (1.00)\n",
      "  exploit deflected to exploration: 0\n",
      "  ## Episode: 68/100 'DQL' ϵ=0.6724, γ=0.015, lr=0.01, replaymemory=10000,\n",
      "batch=512, target_update=5\n"
     ]
    },
    {
     "name": "stderr",
     "output_type": "stream",
     "text": [
      "Episode 68|Iteration 25|reward: 1031.0|last_reward_at:   17|Elapsed Time: 0:00:00||\n"
     ]
    },
    {
     "name": "stdout",
     "output_type": "stream",
     "text": [
      "  Episode 68 stopped at t=25 \n",
      "  Breakdown [Reward/NoReward (Success rate)]\n",
      "    explore-local: 0/6 (0.00)\n",
      "    explore-remote: 1/6 (0.14)\n",
      "    explore-connect: 0/5 (0.00)\n",
      "    exploit-local: 1/0 (1.00)\n",
      "    exploit-remote: 1/4 (0.20)\n",
      "    exploit-connect: 1/0 (1.00)\n",
      "  exploit deflected to exploration: 0\n",
      "  ## Episode: 69/100 'DQL' ϵ=0.6695, γ=0.015, lr=0.01, replaymemory=10000,\n",
      "batch=512, target_update=5\n"
     ]
    },
    {
     "name": "stderr",
     "output_type": "stream",
     "text": [
      "Episode 69|Iteration 25|reward: 1031.0|last_reward_at:    9|Elapsed Time: 0:00:00||\n"
     ]
    },
    {
     "name": "stdout",
     "output_type": "stream",
     "text": [
      "  Episode 69 stopped at t=25 \n",
      "  Breakdown [Reward/NoReward (Success rate)]\n",
      "    explore-local: 0/3 (0.00)\n",
      "    explore-remote: 2/7 (0.22)\n",
      "    explore-connect: 0/5 (0.00)\n",
      "    exploit-local: 1/0 (1.00)\n",
      "    exploit-remote: 0/6 (0.00)\n",
      "    exploit-connect: 1/0 (1.00)\n",
      "  exploit deflected to exploration: 0\n",
      "  ## Episode: 70/100 'DQL' ϵ=0.6667, γ=0.015, lr=0.01, replaymemory=10000,\n",
      "batch=512, target_update=5\n"
     ]
    },
    {
     "name": "stderr",
     "output_type": "stream",
     "text": [
      "Episode 70|Iteration 25|reward: 1031.0|last_reward_at:   12|Elapsed Time: 0:00:00||\n"
     ]
    },
    {
     "name": "stdout",
     "output_type": "stream",
     "text": [
      "  Episode 70 stopped at t=25 \n",
      "  Breakdown [Reward/NoReward (Success rate)]\n",
      "    explore-local: 0/8 (0.00)\n",
      "    explore-remote: 1/5 (0.17)\n",
      "    explore-connect: 0/6 (0.00)\n",
      "    exploit-local: 1/0 (1.00)\n",
      "    exploit-remote: 1/2 (0.33)\n",
      "    exploit-connect: 1/0 (1.00)\n",
      "  exploit deflected to exploration: 0\n",
      "  ## Episode: 71/100 'DQL' ϵ=0.6639, γ=0.015, lr=0.01, replaymemory=10000,\n",
      "batch=512, target_update=5\n"
     ]
    },
    {
     "name": "stderr",
     "output_type": "stream",
     "text": [
      "Episode 71|Iteration 25|reward: 1031.0|last_reward_at:   17|Elapsed Time: 0:00:00||\n"
     ]
    },
    {
     "name": "stdout",
     "output_type": "stream",
     "text": [
      "  Episode 71 stopped at t=25 \n",
      "  Breakdown [Reward/NoReward (Success rate)]\n",
      "    explore-local: 1/6 (0.14)\n",
      "    explore-remote: 2/7 (0.22)\n",
      "    explore-connect: 0/3 (0.00)\n",
      "    exploit-local: 0/0 (NaN)\n",
      "    exploit-remote: 0/4 (0.00)\n",
      "    exploit-connect: 1/1 (0.50)\n",
      "  exploit deflected to exploration: 0\n",
      "  ## Episode: 72/100 'DQL' ϵ=0.6611, γ=0.015, lr=0.01, replaymemory=10000,\n",
      "batch=512, target_update=5\n"
     ]
    },
    {
     "name": "stderr",
     "output_type": "stream",
     "text": [
      "Episode 72|Iteration 25|reward: 1031.0|last_reward_at:   14|Elapsed Time: 0:00:00||\n"
     ]
    },
    {
     "name": "stdout",
     "output_type": "stream",
     "text": [
      "  Episode 72 stopped at t=25 \n",
      "  Breakdown [Reward/NoReward (Success rate)]\n",
      "    explore-local: 1/7 (0.12)\n",
      "    explore-remote: 1/6 (0.14)\n",
      "    explore-connect: 0/5 (0.00)\n",
      "    exploit-local: 0/0 (NaN)\n",
      "    exploit-remote: 1/3 (0.25)\n",
      "    exploit-connect: 1/0 (1.00)\n",
      "  exploit deflected to exploration: 0\n",
      "  ## Episode: 73/100 'DQL' ϵ=0.6583, γ=0.015, lr=0.01, replaymemory=10000,\n",
      "batch=512, target_update=5\n"
     ]
    },
    {
     "name": "stderr",
     "output_type": "stream",
     "text": [
      "Episode 73|Iteration 25|reward: 1031.0|last_reward_at:    5|Elapsed Time: 0:00:00||\n"
     ]
    },
    {
     "name": "stdout",
     "output_type": "stream",
     "text": [
      "  Episode 73 stopped at t=25 \n",
      "  Breakdown [Reward/NoReward (Success rate)]\n",
      "    explore-local: 0/3 (0.00)\n",
      "    explore-remote: 0/3 (0.00)\n",
      "    explore-connect: 0/6 (0.00)\n",
      "    exploit-local: 1/1 (0.50)\n",
      "    exploit-remote: 2/8 (0.20)\n",
      "    exploit-connect: 1/0 (1.00)\n",
      "  exploit deflected to exploration: 0\n",
      "  ## Episode: 74/100 'DQL' ϵ=0.6555, γ=0.015, lr=0.01, replaymemory=10000,\n",
      "batch=512, target_update=5\n"
     ]
    },
    {
     "name": "stderr",
     "output_type": "stream",
     "text": [
      "Episode 74|Iteration 25|reward: 1031.0|last_reward_at:   13|Elapsed Time: 0:00:00||\n"
     ]
    },
    {
     "name": "stdout",
     "output_type": "stream",
     "text": [
      "  Episode 74 stopped at t=25 \n",
      "  Breakdown [Reward/NoReward (Success rate)]\n",
      "    explore-local: 1/4 (0.20)\n",
      "    explore-remote: 1/7 (0.12)\n",
      "    explore-connect: 0/7 (0.00)\n",
      "    exploit-local: 0/0 (NaN)\n",
      "    exploit-remote: 1/3 (0.25)\n",
      "    exploit-connect: 1/0 (1.00)\n",
      "  exploit deflected to exploration: 0\n",
      "  ## Episode: 75/100 'DQL' ϵ=0.6527, γ=0.015, lr=0.01, replaymemory=10000,\n",
      "batch=512, target_update=5\n"
     ]
    },
    {
     "name": "stderr",
     "output_type": "stream",
     "text": [
      "Episode 75|Iteration 25|reward: 1031.0|last_reward_at:   21|Elapsed Time: 0:00:00||\n"
     ]
    },
    {
     "name": "stdout",
     "output_type": "stream",
     "text": [
      "  Episode 75 stopped at t=25 \n",
      "  Breakdown [Reward/NoReward (Success rate)]\n",
      "    explore-local: 1/10 (0.09)\n",
      "    explore-remote: 1/5 (0.17)\n",
      "    explore-connect: 0/2 (0.00)\n",
      "    exploit-local: 0/0 (NaN)\n",
      "    exploit-remote: 1/2 (0.33)\n",
      "    exploit-connect: 1/2 (0.33)\n",
      "  exploit deflected to exploration: 0\n",
      "  ## Episode: 76/100 'DQL' ϵ=0.6499, γ=0.015, lr=0.01, replaymemory=10000,\n",
      "batch=512, target_update=5\n"
     ]
    },
    {
     "name": "stderr",
     "output_type": "stream",
     "text": [
      "Episode 76|Iteration 25|reward: 1031.0|last_reward_at:   12|Elapsed Time: 0:00:00||\n"
     ]
    },
    {
     "name": "stdout",
     "output_type": "stream",
     "text": [
      "  Episode 76 stopped at t=25 \n",
      "  Breakdown [Reward/NoReward (Success rate)]\n",
      "    explore-local: 1/3 (0.25)\n",
      "    explore-remote: 0/9 (0.00)\n",
      "    explore-connect: 0/2 (0.00)\n",
      "    exploit-local: 0/0 (NaN)\n",
      "    exploit-remote: 2/7 (0.22)\n",
      "    exploit-connect: 1/0 (1.00)\n",
      "  exploit deflected to exploration: 0\n",
      "  ## Episode: 77/100 'DQL' ϵ=0.6472, γ=0.015, lr=0.01, replaymemory=10000,\n",
      "batch=512, target_update=5\n"
     ]
    },
    {
     "name": "stderr",
     "output_type": "stream",
     "text": [
      "Episode 77|Iteration 25|reward: 1031.0|last_reward_at:   18|Elapsed Time: 0:00:00||\n"
     ]
    },
    {
     "name": "stdout",
     "output_type": "stream",
     "text": [
      "  Episode 77 stopped at t=25 \n",
      "  Breakdown [Reward/NoReward (Success rate)]\n",
      "    explore-local: 1/8 (0.11)\n",
      "    explore-remote: 1/5 (0.17)\n",
      "    explore-connect: 0/1 (0.00)\n",
      "    exploit-local: 0/0 (NaN)\n",
      "    exploit-remote: 1/7 (0.12)\n",
      "    exploit-connect: 1/0 (1.00)\n",
      "  exploit deflected to exploration: 0\n",
      "  ## Episode: 78/100 'DQL' ϵ=0.6445, γ=0.015, lr=0.01, replaymemory=10000,\n",
      "batch=512, target_update=5\n"
     ]
    },
    {
     "name": "stderr",
     "output_type": "stream",
     "text": [
      "Episode 78|Iteration 25|reward: 1031.0|last_reward_at:    6|Elapsed Time: 0:00:00||\n"
     ]
    },
    {
     "name": "stdout",
     "output_type": "stream",
     "text": [
      "  Episode 78 stopped at t=25 \n",
      "  Breakdown [Reward/NoReward (Success rate)]\n",
      "    explore-local: 0/3 (0.00)\n",
      "    explore-remote: 0/4 (0.00)\n",
      "    explore-connect: 0/8 (0.00)\n",
      "    exploit-local: 1/0 (1.00)\n",
      "    exploit-remote: 2/6 (0.25)\n",
      "    exploit-connect: 1/0 (1.00)\n",
      "  exploit deflected to exploration: 0\n",
      "  ## Episode: 79/100 'DQL' ϵ=0.6418, γ=0.015, lr=0.01, replaymemory=10000,\n",
      "batch=512, target_update=5\n"
     ]
    },
    {
     "name": "stderr",
     "output_type": "stream",
     "text": [
      "Episode 79|Iteration 25|reward: 1031.0|last_reward_at:    9|Elapsed Time: 0:00:00||\n"
     ]
    },
    {
     "name": "stdout",
     "output_type": "stream",
     "text": [
      "  Episode 79 stopped at t=25 \n",
      "  Breakdown [Reward/NoReward (Success rate)]\n",
      "    explore-local: 1/3 (0.25)\n",
      "    explore-remote: 1/5 (0.17)\n",
      "    explore-connect: 0/2 (0.00)\n",
      "    exploit-local: 0/0 (NaN)\n",
      "    exploit-remote: 1/11 (0.08)\n",
      "    exploit-connect: 1/0 (1.00)\n",
      "  exploit deflected to exploration: 0\n",
      "  ## Episode: 80/100 'DQL' ϵ=0.6391, γ=0.015, lr=0.01, replaymemory=10000,\n",
      "batch=512, target_update=5\n"
     ]
    },
    {
     "name": "stderr",
     "output_type": "stream",
     "text": [
      "Episode 80|Iteration 25|reward: 1031.0|last_reward_at:    7|Elapsed Time: 0:00:00||\n"
     ]
    },
    {
     "name": "stdout",
     "output_type": "stream",
     "text": [
      "  Episode 80 stopped at t=25 \n",
      "  Breakdown [Reward/NoReward (Success rate)]\n",
      "    explore-local: 0/2 (0.00)\n",
      "    explore-remote: 0/8 (0.00)\n",
      "    explore-connect: 0/5 (0.00)\n",
      "    exploit-local: 1/0 (1.00)\n",
      "    exploit-remote: 2/6 (0.25)\n",
      "    exploit-connect: 1/0 (1.00)\n",
      "  exploit deflected to exploration: 0\n",
      "  ## Episode: 81/100 'DQL' ϵ=0.6364, γ=0.015, lr=0.01, replaymemory=10000,\n",
      "batch=512, target_update=5\n"
     ]
    },
    {
     "name": "stderr",
     "output_type": "stream",
     "text": [
      "Episode 81|Iteration 25|reward: 1031.0|last_reward_at:    8|Elapsed Time: 0:00:00||\n"
     ]
    },
    {
     "name": "stdout",
     "output_type": "stream",
     "text": [
      "  Episode 81 stopped at t=25 \n",
      "  Breakdown [Reward/NoReward (Success rate)]\n",
      "    explore-local: 1/4 (0.20)\n",
      "    explore-remote: 0/10 (0.00)\n",
      "    explore-connect: 0/4 (0.00)\n",
      "    exploit-local: 0/0 (NaN)\n",
      "    exploit-remote: 2/3 (0.40)\n",
      "    exploit-connect: 1/0 (1.00)\n",
      "  exploit deflected to exploration: 0\n",
      "  ## Episode: 82/100 'DQL' ϵ=0.6337, γ=0.015, lr=0.01, replaymemory=10000,\n",
      "batch=512, target_update=5\n"
     ]
    },
    {
     "name": "stderr",
     "output_type": "stream",
     "text": [
      "Episode 82|Iteration 25|reward: 1031.0|last_reward_at:    7|Elapsed Time: 0:00:00||\n"
     ]
    },
    {
     "name": "stdout",
     "output_type": "stream",
     "text": [
      "  Episode 82 stopped at t=25 \n",
      "  Breakdown [Reward/NoReward (Success rate)]\n",
      "    explore-local: 1/3 (0.25)\n",
      "    explore-remote: 0/8 (0.00)\n",
      "    explore-connect: 0/3 (0.00)\n",
      "    exploit-local: 0/0 (NaN)\n",
      "    exploit-remote: 2/7 (0.22)\n",
      "    exploit-connect: 1/0 (1.00)\n",
      "  exploit deflected to exploration: 0\n",
      "  ## Episode: 83/100 'DQL' ϵ=0.6310, γ=0.015, lr=0.01, replaymemory=10000,\n",
      "batch=512, target_update=5\n"
     ]
    },
    {
     "name": "stderr",
     "output_type": "stream",
     "text": [
      "Episode 83|Iteration 25|reward: 1031.0|last_reward_at:   17|Elapsed Time: 0:00:00||\n"
     ]
    },
    {
     "name": "stdout",
     "output_type": "stream",
     "text": [
      "  Episode 83 stopped at t=25 \n",
      "  Breakdown [Reward/NoReward (Success rate)]\n",
      "    explore-local: 0/6 (0.00)\n",
      "    explore-remote: 1/8 (0.11)\n",
      "    explore-connect: 0/3 (0.00)\n",
      "    exploit-local: 1/0 (1.00)\n",
      "    exploit-remote: 1/4 (0.20)\n",
      "    exploit-connect: 1/0 (1.00)\n",
      "  exploit deflected to exploration: 0\n",
      "  ## Episode: 84/100 'DQL' ϵ=0.6284, γ=0.015, lr=0.01, replaymemory=10000,\n",
      "batch=512, target_update=5\n"
     ]
    },
    {
     "name": "stderr",
     "output_type": "stream",
     "text": [
      "Episode 84|Iteration 25|reward: 1031.0|last_reward_at:    9|Elapsed Time: 0:00:00||\n"
     ]
    },
    {
     "name": "stdout",
     "output_type": "stream",
     "text": [
      "  Episode 84 stopped at t=25 \n",
      "  Breakdown [Reward/NoReward (Success rate)]\n",
      "    explore-local: 0/3 (0.00)\n",
      "    explore-remote: 1/9 (0.10)\n",
      "    explore-connect: 0/5 (0.00)\n",
      "    exploit-local: 1/0 (1.00)\n",
      "    exploit-remote: 1/4 (0.20)\n",
      "    exploit-connect: 1/0 (1.00)\n",
      "  exploit deflected to exploration: 0\n",
      "  ## Episode: 85/100 'DQL' ϵ=0.6257, γ=0.015, lr=0.01, replaymemory=10000,\n",
      "batch=512, target_update=5\n"
     ]
    },
    {
     "name": "stderr",
     "output_type": "stream",
     "text": [
      "Episode 85|Iteration 25|reward: 1031.0|last_reward_at:   10|Elapsed Time: 0:00:00||\n"
     ]
    },
    {
     "name": "stdout",
     "output_type": "stream",
     "text": [
      "  Episode 85 stopped at t=25 \n",
      "  Breakdown [Reward/NoReward (Success rate)]\n",
      "    explore-local: 1/1 (0.50)\n",
      "    explore-remote: 1/7 (0.12)\n",
      "    explore-connect: 0/7 (0.00)\n",
      "    exploit-local: 0/0 (NaN)\n",
      "    exploit-remote: 1/6 (0.14)\n",
      "    exploit-connect: 1/0 (1.00)\n",
      "  exploit deflected to exploration: 0\n",
      "  ## Episode: 86/100 'DQL' ϵ=0.6231, γ=0.015, lr=0.01, replaymemory=10000,\n",
      "batch=512, target_update=5\n"
     ]
    },
    {
     "name": "stderr",
     "output_type": "stream",
     "text": [
      "Episode 86|Iteration 25|reward: 1031.0|last_reward_at:   13|Elapsed Time: 0:00:00||\n"
     ]
    },
    {
     "name": "stdout",
     "output_type": "stream",
     "text": [
      "  Episode 86 stopped at t=25 \n",
      "  Breakdown [Reward/NoReward (Success rate)]\n",
      "    explore-local: 0/4 (0.00)\n",
      "    explore-remote: 0/8 (0.00)\n",
      "    explore-connect: 0/2 (0.00)\n",
      "    exploit-local: 1/0 (1.00)\n",
      "    exploit-remote: 2/7 (0.22)\n",
      "    exploit-connect: 1/0 (1.00)\n",
      "  exploit deflected to exploration: 0\n",
      "  ## Episode: 87/100 'DQL' ϵ=0.6205, γ=0.015, lr=0.01, replaymemory=10000,\n",
      "batch=512, target_update=5\n"
     ]
    },
    {
     "name": "stderr",
     "output_type": "stream",
     "text": [
      "Episode 87|Iteration 25|reward: 1031.0|last_reward_at:   10|Elapsed Time: 0:00:00||\n"
     ]
    },
    {
     "name": "stdout",
     "output_type": "stream",
     "text": [
      "  Episode 87 stopped at t=25 \n",
      "  Breakdown [Reward/NoReward (Success rate)]\n",
      "    explore-local: 1/5 (0.17)\n",
      "    explore-remote: 1/8 (0.11)\n",
      "    explore-connect: 0/4 (0.00)\n",
      "    exploit-local: 0/0 (NaN)\n",
      "    exploit-remote: 1/4 (0.20)\n",
      "    exploit-connect: 1/0 (1.00)\n",
      "  exploit deflected to exploration: 0\n",
      "  ## Episode: 88/100 'DQL' ϵ=0.6179, γ=0.015, lr=0.01, replaymemory=10000,\n",
      "batch=512, target_update=5\n"
     ]
    },
    {
     "name": "stderr",
     "output_type": "stream",
     "text": [
      "Episode 88|Iteration 25|reward: 1031.0|last_reward_at:    6|Elapsed Time: 0:00:00||\n"
     ]
    },
    {
     "name": "stdout",
     "output_type": "stream",
     "text": [
      "  Episode 88 stopped at t=25 \n",
      "  Breakdown [Reward/NoReward (Success rate)]\n",
      "    explore-local: 1/3 (0.25)\n",
      "    explore-remote: 1/4 (0.20)\n",
      "    explore-connect: 0/7 (0.00)\n",
      "    exploit-local: 0/0 (NaN)\n",
      "    exploit-remote: 1/7 (0.12)\n",
      "    exploit-connect: 1/0 (1.00)\n",
      "  exploit deflected to exploration: 0\n",
      "  ## Episode: 89/100 'DQL' ϵ=0.6153, γ=0.015, lr=0.01, replaymemory=10000,\n",
      "batch=512, target_update=5\n"
     ]
    },
    {
     "name": "stderr",
     "output_type": "stream",
     "text": [
      "Episode 89|Iteration 25|reward: 1031.0|last_reward_at:    9|Elapsed Time: 0:00:00||\n"
     ]
    },
    {
     "name": "stdout",
     "output_type": "stream",
     "text": [
      "  Episode 89 stopped at t=25 \n",
      "  Breakdown [Reward/NoReward (Success rate)]\n",
      "    explore-local: 1/4 (0.20)\n",
      "    explore-remote: 1/10 (0.09)\n",
      "    explore-connect: 0/2 (0.00)\n",
      "    exploit-local: 0/0 (NaN)\n",
      "    exploit-remote: 1/5 (0.17)\n",
      "    exploit-connect: 1/0 (1.00)\n",
      "  exploit deflected to exploration: 0\n",
      "  ## Episode: 90/100 'DQL' ϵ=0.6128, γ=0.015, lr=0.01, replaymemory=10000,\n",
      "batch=512, target_update=5\n"
     ]
    },
    {
     "name": "stderr",
     "output_type": "stream",
     "text": [
      "Episode 90|Iteration 25|reward: 1031.0|last_reward_at:    6|Elapsed Time: 0:00:00||\n"
     ]
    },
    {
     "name": "stdout",
     "output_type": "stream",
     "text": [
      "  Episode 90 stopped at t=25 \n",
      "  Breakdown [Reward/NoReward (Success rate)]\n",
      "    explore-local: 1/2 (0.33)\n",
      "    explore-remote: 1/2 (0.33)\n",
      "    explore-connect: 0/3 (0.00)\n",
      "    exploit-local: 0/0 (NaN)\n",
      "    exploit-remote: 1/14 (0.07)\n",
      "    exploit-connect: 1/0 (1.00)\n",
      "  exploit deflected to exploration: 0\n",
      "  ## Episode: 91/100 'DQL' ϵ=0.6102, γ=0.015, lr=0.01, replaymemory=10000,\n",
      "batch=512, target_update=5\n"
     ]
    },
    {
     "name": "stderr",
     "output_type": "stream",
     "text": [
      "Episode 91|Iteration 25|reward: 1031.0|last_reward_at:   18|Elapsed Time: 0:00:00||\n"
     ]
    },
    {
     "name": "stdout",
     "output_type": "stream",
     "text": [
      "  Episode 91 stopped at t=25 \n",
      "  Breakdown [Reward/NoReward (Success rate)]\n",
      "    explore-local: 0/10 (0.00)\n",
      "    explore-remote: 1/4 (0.20)\n",
      "    explore-connect: 0/5 (0.00)\n",
      "    exploit-local: 1/0 (1.00)\n",
      "    exploit-remote: 1/2 (0.33)\n",
      "    exploit-connect: 1/0 (1.00)\n",
      "  exploit deflected to exploration: 3\n",
      "  ## Episode: 92/100 'DQL' ϵ=0.6077, γ=0.015, lr=0.01, replaymemory=10000,\n",
      "batch=512, target_update=5\n"
     ]
    },
    {
     "name": "stderr",
     "output_type": "stream",
     "text": [
      "Episode 92|Iteration 25|reward: 1031.0|last_reward_at:    7|Elapsed Time: 0:00:00||\n"
     ]
    },
    {
     "name": "stdout",
     "output_type": "stream",
     "text": [
      "  Episode 92 stopped at t=25 \n",
      "  Breakdown [Reward/NoReward (Success rate)]\n",
      "    explore-local: 1/2 (0.33)\n",
      "    explore-remote: 0/7 (0.00)\n",
      "    explore-connect: 0/3 (0.00)\n",
      "    exploit-local: 0/0 (NaN)\n",
      "    exploit-remote: 2/9 (0.18)\n",
      "    exploit-connect: 1/0 (1.00)\n",
      "  exploit deflected to exploration: 0\n",
      "  ## Episode: 93/100 'DQL' ϵ=0.6051, γ=0.015, lr=0.01, replaymemory=10000,\n",
      "batch=512, target_update=5\n"
     ]
    },
    {
     "name": "stderr",
     "output_type": "stream",
     "text": [
      "Episode 93|Iteration 25|reward: 1031.0|last_reward_at:    9|Elapsed Time: 0:00:00||\n"
     ]
    },
    {
     "name": "stdout",
     "output_type": "stream",
     "text": [
      "  Episode 93 stopped at t=25 \n",
      "  Breakdown [Reward/NoReward (Success rate)]\n",
      "    explore-local: 0/2 (0.00)\n",
      "    explore-remote: 0/8 (0.00)\n",
      "    explore-connect: 0/4 (0.00)\n",
      "    exploit-local: 1/0 (1.00)\n",
      "    exploit-remote: 2/7 (0.22)\n",
      "    exploit-connect: 1/0 (1.00)\n",
      "  exploit deflected to exploration: 0\n",
      "  ## Episode: 94/100 'DQL' ϵ=0.6026, γ=0.015, lr=0.01, replaymemory=10000,\n",
      "batch=512, target_update=5\n"
     ]
    },
    {
     "name": "stderr",
     "output_type": "stream",
     "text": [
      "Episode 94|Iteration 25|reward: 1031.0|last_reward_at:    9|Elapsed Time: 0:00:00||\n"
     ]
    },
    {
     "name": "stdout",
     "output_type": "stream",
     "text": [
      "  Episode 94 stopped at t=25 \n",
      "  Breakdown [Reward/NoReward (Success rate)]\n",
      "    explore-local: 0/3 (0.00)\n",
      "    explore-remote: 1/5 (0.17)\n",
      "    explore-connect: 0/4 (0.00)\n",
      "    exploit-local: 1/0 (1.00)\n",
      "    exploit-remote: 1/9 (0.10)\n",
      "    exploit-connect: 1/0 (1.00)\n",
      "  exploit deflected to exploration: 0\n",
      "  ## Episode: 95/100 'DQL' ϵ=0.6001, γ=0.015, lr=0.01, replaymemory=10000,\n",
      "batch=512, target_update=5\n"
     ]
    },
    {
     "name": "stderr",
     "output_type": "stream",
     "text": [
      "Episode 95|Iteration 25|reward: 1031.0|last_reward_at:    8|Elapsed Time: 0:00:00||\n"
     ]
    },
    {
     "name": "stdout",
     "output_type": "stream",
     "text": [
      "  Episode 95 stopped at t=25 \n",
      "  Breakdown [Reward/NoReward (Success rate)]\n",
      "    explore-local: 1/1 (0.50)\n",
      "    explore-remote: 0/6 (0.00)\n",
      "    explore-connect: 0/5 (0.00)\n",
      "    exploit-local: 0/0 (NaN)\n",
      "    exploit-remote: 2/9 (0.18)\n",
      "    exploit-connect: 1/0 (1.00)\n",
      "  exploit deflected to exploration: 0\n",
      "  ## Episode: 96/100 'DQL' ϵ=0.5976, γ=0.015, lr=0.01, replaymemory=10000,\n",
      "batch=512, target_update=5\n"
     ]
    },
    {
     "name": "stderr",
     "output_type": "stream",
     "text": [
      "Episode 96|Iteration 25|reward: 1031.0|last_reward_at:    7|Elapsed Time: 0:00:00||\n"
     ]
    },
    {
     "name": "stdout",
     "output_type": "stream",
     "text": [
      "  Episode 96 stopped at t=25 \n",
      "  Breakdown [Reward/NoReward (Success rate)]\n",
      "    explore-local: 0/2 (0.00)\n",
      "    explore-remote: 0/6 (0.00)\n",
      "    explore-connect: 1/5 (0.17)\n",
      "    exploit-local: 1/0 (1.00)\n",
      "    exploit-remote: 2/8 (0.20)\n",
      "    exploit-connect: 0/0 (NaN)\n",
      "  exploit deflected to exploration: 0\n",
      "  ## Episode: 97/100 'DQL' ϵ=0.5951, γ=0.015, lr=0.01, replaymemory=10000,\n",
      "batch=512, target_update=5\n"
     ]
    },
    {
     "name": "stderr",
     "output_type": "stream",
     "text": [
      "Episode 97|Iteration 25|reward: 1031.0|last_reward_at:    9|Elapsed Time: 0:00:00||\n"
     ]
    },
    {
     "name": "stdout",
     "output_type": "stream",
     "text": [
      "  Episode 97 stopped at t=25 \n",
      "  Breakdown [Reward/NoReward (Success rate)]\n",
      "    explore-local: 1/4 (0.20)\n",
      "    explore-remote: 0/7 (0.00)\n",
      "    explore-connect: 0/5 (0.00)\n",
      "    exploit-local: 0/0 (NaN)\n",
      "    exploit-remote: 2/5 (0.29)\n",
      "    exploit-connect: 1/0 (1.00)\n",
      "  exploit deflected to exploration: 0\n",
      "  ## Episode: 98/100 'DQL' ϵ=0.5927, γ=0.015, lr=0.01, replaymemory=10000,\n",
      "batch=512, target_update=5\n"
     ]
    },
    {
     "name": "stderr",
     "output_type": "stream",
     "text": [
      "Episode 98|Iteration 25|reward: 1031.0|last_reward_at:   11|Elapsed Time: 0:00:00||\n"
     ]
    },
    {
     "name": "stdout",
     "output_type": "stream",
     "text": [
      "  Episode 98 stopped at t=25 \n",
      "  Breakdown [Reward/NoReward (Success rate)]\n",
      "    explore-local: 1/4 (0.20)\n",
      "    explore-remote: 1/7 (0.12)\n",
      "    explore-connect: 0/6 (0.00)\n",
      "    exploit-local: 0/0 (NaN)\n",
      "    exploit-remote: 1/4 (0.20)\n",
      "    exploit-connect: 1/0 (1.00)\n",
      "  exploit deflected to exploration: 0\n",
      "  ## Episode: 99/100 'DQL' ϵ=0.5902, γ=0.015, lr=0.01, replaymemory=10000,\n",
      "batch=512, target_update=5\n"
     ]
    },
    {
     "name": "stderr",
     "output_type": "stream",
     "text": [
      "Episode 99|Iteration 25|reward: 1031.0|last_reward_at:    7|Elapsed Time: 0:00:00||\n"
     ]
    },
    {
     "name": "stdout",
     "output_type": "stream",
     "text": [
      "  Episode 99 stopped at t=25 \n",
      "  Breakdown [Reward/NoReward (Success rate)]\n",
      "    explore-local: 0/3 (0.00)\n",
      "    explore-remote: 0/8 (0.00)\n",
      "    explore-connect: 0/4 (0.00)\n",
      "    exploit-local: 1/0 (1.00)\n",
      "    exploit-remote: 2/6 (0.25)\n",
      "    exploit-connect: 1/0 (1.00)\n",
      "  exploit deflected to exploration: 0\n",
      "  ## Episode: 100/100 'DQL' ϵ=0.5878, γ=0.015, lr=0.01, replaymemory=10000,\n",
      "batch=512, target_update=5\n"
     ]
    },
    {
     "name": "stderr",
     "output_type": "stream",
     "text": [
      "Episode 100|Iteration 25|reward: 1031.0|last_reward_at:    6|Elapsed Time: 0:00:00||\n"
     ]
    },
    {
     "name": "stdout",
     "output_type": "stream",
     "text": [
      "  Episode 100 stopped at t=25 \n",
      "  Breakdown [Reward/NoReward (Success rate)]\n",
      "    explore-local: 0/2 (0.00)\n",
      "    explore-remote: 0/2 (0.00)\n",
      "    explore-connect: 1/7 (0.12)\n",
      "    exploit-local: 1/0 (1.00)\n",
      "    exploit-remote: 2/10 (0.17)\n",
      "    exploit-connect: 0/0 (NaN)\n",
      "  exploit deflected to exploration: 0\n",
      "simulation ended\n"
     ]
    }
   ],
   "source": [
    "# Evaluate the Deep Q-learning agent\n",
    "dqn_learning_run = learner.epsilon_greedy_search(\n",
    "    cyberbattle_gym_env=ctf_env,\n",
    "    environment_properties=ep,\n",
    "    learner=dqla.DeepQLearnerPolicy(\n",
    "        ep=ep,\n",
    "        gamma=0.015,\n",
    "        replay_memory_size=10000,\n",
    "        target_update=5,\n",
    "        batch_size=512,\n",
    "        learning_rate=0.01  # torch default learning rate is 1e-2\n",
    "    ),\n",
    "    episode_count=training_episode_count,\n",
    "    iteration_count=iteration_count,\n",
    "    epsilon=0.90,\n",
    "    epsilon_exponential_decay=5000,\n",
    "    epsilon_minimum=0.10,\n",
    "    verbosity=Verbosity.Quiet,\n",
    "    render=False,\n",
    "    plot_episodes_length=False,\n",
    "    title=\"DQL\"\n",
    ")"
   ]
  },
  {
   "cell_type": "markdown",
   "id": "d65245db",
   "metadata": {},
   "source": [
    "### Display attack path and learned agent knowledge == env.state as observation"
   ]
  },
  {
   "cell_type": "code",
   "execution_count": 54,
   "id": "26e3c2d6",
   "metadata": {
    "execution": {
     "iopub.execute_input": "2021-09-06T20:23:21.083354Z",
     "iopub.status.busy": "2021-09-06T20:23:21.082755Z",
     "iopub.status.idle": "2021-09-06T20:23:21.084789Z",
     "shell.execute_reply": "2021-09-06T20:23:21.085330Z"
    },
    "papermill": {
     "duration": 0.081578,
     "end_time": "2021-09-06T20:23:21.085468",
     "exception": false,
     "start_time": "2021-09-06T20:23:21.003890",
     "status": "completed"
    },
    "scrolled": false,
    "tags": []
   },
   "outputs": [
    {
     "name": "stdout",
     "output_type": "stream",
     "text": [
      "\n",
      "Step: 0, sample all actions under action_mask(bruteforce search)\n",
      "\t{'local_vulnerability': array([0, 0], dtype=int32)}\tlocal_vulnerability(`client, SearchEdgeHistory)\n",
      "\t{'remote_vulnerability': array([0, 0, 1], dtype=int32)}\tremote_vulnerability(`client, `client, ScanPageSource)\n",
      "\t{'remote_vulnerability': array([0, 0, 0], dtype=int32)}\tremote_vulnerability(`client, `client, NavigateWebDirectoryFurther)\n",
      "\n",
      "Executed: \n",
      " + t=0 exploit r=11.0 cum_reward:11.0 a=[abstract_action=0, actor=0, state=[0. 0. 0. 0. 0. 0. 0. 0. 0. 0. 0. 0. 0. 1. 0. 0. 0. 0. 0.]]-{'local_vulnerability': array([0, 0])} creds=0  \n"
     ]
    },
    {
     "data": {
      "text/html": [
       "<div>\n",
       "<style scoped>\n",
       "    .dataframe tbody tr th:only-of-type {\n",
       "        vertical-align: middle;\n",
       "    }\n",
       "\n",
       "    .dataframe tbody tr th {\n",
       "        vertical-align: top;\n",
       "    }\n",
       "\n",
       "    .dataframe thead th {\n",
       "        text-align: right;\n",
       "    }\n",
       "</style>\n",
       "<table border=\"1\" class=\"dataframe\">\n",
       "  <thead>\n",
       "    <tr style=\"text-align: right;\">\n",
       "      <th></th>\n",
       "      <th>internal index</th>\n",
       "      <th>status</th>\n",
       "      <th>properties</th>\n",
       "      <th>discovered node properties</th>\n",
       "      <th>local_attacks</th>\n",
       "      <th>remote_attacks</th>\n",
       "      <th>gathered_credentials (no restrict to node)</th>\n",
       "      <th>discovered profiles</th>\n",
       "    </tr>\n",
       "    <tr>\n",
       "      <th>id</th>\n",
       "      <th></th>\n",
       "      <th></th>\n",
       "      <th></th>\n",
       "      <th></th>\n",
       "      <th></th>\n",
       "      <th></th>\n",
       "      <th></th>\n",
       "      <th></th>\n",
       "    </tr>\n",
       "  </thead>\n",
       "  <tbody>\n",
       "    <tr>\n",
       "      <th>client</th>\n",
       "      <td>0</td>\n",
       "      <td>owned</td>\n",
       "      <td>[CLIENT:Win10]</td>\n",
       "      <td>[CLIENT:Win10]</td>\n",
       "      <td>[SearchEdgeHistory]</td>\n",
       "      <td>[]</td>\n",
       "      <td>{}</td>\n",
       "      <td></td>\n",
       "    </tr>\n",
       "    <tr>\n",
       "      <th>Website</th>\n",
       "      <td>1</td>\n",
       "      <td>discovered</td>\n",
       "      <td>[MySql, Ubuntu, nginx/1.10.3]</td>\n",
       "      <td>[]</td>\n",
       "      <td>None</td>\n",
       "      <td>[ScanPageSource]</td>\n",
       "      <td>{}</td>\n",
       "      <td></td>\n",
       "    </tr>\n",
       "  </tbody>\n",
       "</table>\n",
       "</div>"
      ],
      "text/plain": [
       "         internal index      status                     properties  \\\n",
       "id                                                                   \n",
       "client                0       owned                 [CLIENT:Win10]   \n",
       "Website               1  discovered  [MySql, Ubuntu, nginx/1.10.3]   \n",
       "\n",
       "        discovered node properties        local_attacks    remote_attacks  \\\n",
       "id                                                                          \n",
       "client              [CLIENT:Win10]  [SearchEdgeHistory]                []   \n",
       "Website                         []                 None  [ScanPageSource]   \n",
       "\n",
       "        gathered_credentials (no restrict to node) discovered profiles  \n",
       "id                                                                      \n",
       "client                                          {}                      \n",
       "Website                                         {}                      "
      ]
     },
     "metadata": {},
     "output_type": "display_data"
    },
    {
     "data": {
      "application/vnd.plotly.v1+json": {
       "config": {
        "plotlyServerURL": "https://plot.ly"
       },
       "data": [
        {
         "name": "cumulative reward",
         "type": "scatter",
         "xaxis": "x",
         "y": [
          11
         ],
         "yaxis": "y"
        },
        {
         "line": {
          "color": "gray"
         },
         "mode": "lines",
         "name": "KNOWS",
         "type": "scatter",
         "x": [
          0
         ],
         "xaxis": "x2",
         "y": [
          0
         ],
         "yaxis": "y2"
        },
        {
         "line": {
          "color": "orange"
         },
         "mode": "lines",
         "name": "REMOTE_EXPLOIT",
         "type": "scatter",
         "x": [
          0
         ],
         "xaxis": "x2",
         "y": [
          0
         ],
         "yaxis": "y2"
        },
        {
         "line": {
          "color": "red"
         },
         "mode": "lines",
         "name": "LATERAL_MOVE",
         "type": "scatter",
         "x": [
          0
         ],
         "xaxis": "x2",
         "y": [
          0
         ],
         "yaxis": "y2"
        },
        {
         "hoverinfo": "text",
         "marker": {
          "color": "#D32F2E",
          "line": {
           "color": "rgb(255,0,0)",
           "width": 8
          },
          "size": 5,
          "symbol": "circle-dot"
         },
         "mode": "markers+text",
         "name": "owned",
         "text": [
          "client"
         ],
         "textposition": "bottom center",
         "type": "scatter",
         "x": [
          0
         ],
         "xaxis": "x2",
         "y": [
          0
         ],
         "yaxis": "y2"
        },
        {
         "hoverinfo": "text",
         "marker": {
          "color": "#0e9d00",
          "line": {
           "color": "rgb(0,255,0)",
           "width": 8
          },
          "size": 5,
          "symbol": "circle-dot"
         },
         "mode": "markers+text",
         "name": "discovered",
         "text": [
          "Website"
         ],
         "textposition": "bottom center",
         "type": "scatter",
         "x": [
          -0.5
         ],
         "xaxis": "x2",
         "y": [
          -4.371138828673793e-08
         ],
         "yaxis": "y2"
        }
       ],
       "layout": {
        "annotations": [
         {
          "align": "center",
          "arrowcolor": "gray",
          "arrowhead": 1,
          "arrowsize": 1,
          "arrowwidth": 1,
          "ax": 0,
          "axref": "x2",
          "ay": 0,
          "ayref": "y2",
          "hovertext": "KNOWS",
          "opacity": 1,
          "showarrow": true,
          "standoff": 10,
          "startstandoff": 10,
          "x": -0.5,
          "xref": "x2",
          "y": -4.371138828673793e-08,
          "yref": "y2"
         }
        ],
        "autosize": false,
        "font": {
         "size": 10
        },
        "height": 400,
        "hovermode": "closest",
        "margin": {
         "b": 15,
         "l": 2,
         "r": 2,
         "t": 35
        },
        "showlegend": true,
        "template": {
         "data": {
          "bar": [
           {
            "error_x": {
             "color": "#2a3f5f"
            },
            "error_y": {
             "color": "#2a3f5f"
            },
            "marker": {
             "line": {
              "color": "#E5ECF6",
              "width": 0.5
             }
            },
            "type": "bar"
           }
          ],
          "barpolar": [
           {
            "marker": {
             "line": {
              "color": "#E5ECF6",
              "width": 0.5
             }
            },
            "type": "barpolar"
           }
          ],
          "carpet": [
           {
            "aaxis": {
             "endlinecolor": "#2a3f5f",
             "gridcolor": "white",
             "linecolor": "white",
             "minorgridcolor": "white",
             "startlinecolor": "#2a3f5f"
            },
            "baxis": {
             "endlinecolor": "#2a3f5f",
             "gridcolor": "white",
             "linecolor": "white",
             "minorgridcolor": "white",
             "startlinecolor": "#2a3f5f"
            },
            "type": "carpet"
           }
          ],
          "choropleth": [
           {
            "colorbar": {
             "outlinewidth": 0,
             "ticks": ""
            },
            "type": "choropleth"
           }
          ],
          "contour": [
           {
            "colorbar": {
             "outlinewidth": 0,
             "ticks": ""
            },
            "colorscale": [
             [
              0,
              "#0d0887"
             ],
             [
              0.1111111111111111,
              "#46039f"
             ],
             [
              0.2222222222222222,
              "#7201a8"
             ],
             [
              0.3333333333333333,
              "#9c179e"
             ],
             [
              0.4444444444444444,
              "#bd3786"
             ],
             [
              0.5555555555555556,
              "#d8576b"
             ],
             [
              0.6666666666666666,
              "#ed7953"
             ],
             [
              0.7777777777777778,
              "#fb9f3a"
             ],
             [
              0.8888888888888888,
              "#fdca26"
             ],
             [
              1,
              "#f0f921"
             ]
            ],
            "type": "contour"
           }
          ],
          "contourcarpet": [
           {
            "colorbar": {
             "outlinewidth": 0,
             "ticks": ""
            },
            "type": "contourcarpet"
           }
          ],
          "heatmap": [
           {
            "colorbar": {
             "outlinewidth": 0,
             "ticks": ""
            },
            "colorscale": [
             [
              0,
              "#0d0887"
             ],
             [
              0.1111111111111111,
              "#46039f"
             ],
             [
              0.2222222222222222,
              "#7201a8"
             ],
             [
              0.3333333333333333,
              "#9c179e"
             ],
             [
              0.4444444444444444,
              "#bd3786"
             ],
             [
              0.5555555555555556,
              "#d8576b"
             ],
             [
              0.6666666666666666,
              "#ed7953"
             ],
             [
              0.7777777777777778,
              "#fb9f3a"
             ],
             [
              0.8888888888888888,
              "#fdca26"
             ],
             [
              1,
              "#f0f921"
             ]
            ],
            "type": "heatmap"
           }
          ],
          "heatmapgl": [
           {
            "colorbar": {
             "outlinewidth": 0,
             "ticks": ""
            },
            "colorscale": [
             [
              0,
              "#0d0887"
             ],
             [
              0.1111111111111111,
              "#46039f"
             ],
             [
              0.2222222222222222,
              "#7201a8"
             ],
             [
              0.3333333333333333,
              "#9c179e"
             ],
             [
              0.4444444444444444,
              "#bd3786"
             ],
             [
              0.5555555555555556,
              "#d8576b"
             ],
             [
              0.6666666666666666,
              "#ed7953"
             ],
             [
              0.7777777777777778,
              "#fb9f3a"
             ],
             [
              0.8888888888888888,
              "#fdca26"
             ],
             [
              1,
              "#f0f921"
             ]
            ],
            "type": "heatmapgl"
           }
          ],
          "histogram": [
           {
            "marker": {
             "colorbar": {
              "outlinewidth": 0,
              "ticks": ""
             }
            },
            "type": "histogram"
           }
          ],
          "histogram2d": [
           {
            "colorbar": {
             "outlinewidth": 0,
             "ticks": ""
            },
            "colorscale": [
             [
              0,
              "#0d0887"
             ],
             [
              0.1111111111111111,
              "#46039f"
             ],
             [
              0.2222222222222222,
              "#7201a8"
             ],
             [
              0.3333333333333333,
              "#9c179e"
             ],
             [
              0.4444444444444444,
              "#bd3786"
             ],
             [
              0.5555555555555556,
              "#d8576b"
             ],
             [
              0.6666666666666666,
              "#ed7953"
             ],
             [
              0.7777777777777778,
              "#fb9f3a"
             ],
             [
              0.8888888888888888,
              "#fdca26"
             ],
             [
              1,
              "#f0f921"
             ]
            ],
            "type": "histogram2d"
           }
          ],
          "histogram2dcontour": [
           {
            "colorbar": {
             "outlinewidth": 0,
             "ticks": ""
            },
            "colorscale": [
             [
              0,
              "#0d0887"
             ],
             [
              0.1111111111111111,
              "#46039f"
             ],
             [
              0.2222222222222222,
              "#7201a8"
             ],
             [
              0.3333333333333333,
              "#9c179e"
             ],
             [
              0.4444444444444444,
              "#bd3786"
             ],
             [
              0.5555555555555556,
              "#d8576b"
             ],
             [
              0.6666666666666666,
              "#ed7953"
             ],
             [
              0.7777777777777778,
              "#fb9f3a"
             ],
             [
              0.8888888888888888,
              "#fdca26"
             ],
             [
              1,
              "#f0f921"
             ]
            ],
            "type": "histogram2dcontour"
           }
          ],
          "mesh3d": [
           {
            "colorbar": {
             "outlinewidth": 0,
             "ticks": ""
            },
            "type": "mesh3d"
           }
          ],
          "parcoords": [
           {
            "line": {
             "colorbar": {
              "outlinewidth": 0,
              "ticks": ""
             }
            },
            "type": "parcoords"
           }
          ],
          "pie": [
           {
            "automargin": true,
            "type": "pie"
           }
          ],
          "scatter": [
           {
            "marker": {
             "colorbar": {
              "outlinewidth": 0,
              "ticks": ""
             }
            },
            "type": "scatter"
           }
          ],
          "scatter3d": [
           {
            "line": {
             "colorbar": {
              "outlinewidth": 0,
              "ticks": ""
             }
            },
            "marker": {
             "colorbar": {
              "outlinewidth": 0,
              "ticks": ""
             }
            },
            "type": "scatter3d"
           }
          ],
          "scattercarpet": [
           {
            "marker": {
             "colorbar": {
              "outlinewidth": 0,
              "ticks": ""
             }
            },
            "type": "scattercarpet"
           }
          ],
          "scattergeo": [
           {
            "marker": {
             "colorbar": {
              "outlinewidth": 0,
              "ticks": ""
             }
            },
            "type": "scattergeo"
           }
          ],
          "scattergl": [
           {
            "marker": {
             "colorbar": {
              "outlinewidth": 0,
              "ticks": ""
             }
            },
            "type": "scattergl"
           }
          ],
          "scattermapbox": [
           {
            "marker": {
             "colorbar": {
              "outlinewidth": 0,
              "ticks": ""
             }
            },
            "type": "scattermapbox"
           }
          ],
          "scatterpolar": [
           {
            "marker": {
             "colorbar": {
              "outlinewidth": 0,
              "ticks": ""
             }
            },
            "type": "scatterpolar"
           }
          ],
          "scatterpolargl": [
           {
            "marker": {
             "colorbar": {
              "outlinewidth": 0,
              "ticks": ""
             }
            },
            "type": "scatterpolargl"
           }
          ],
          "scatterternary": [
           {
            "marker": {
             "colorbar": {
              "outlinewidth": 0,
              "ticks": ""
             }
            },
            "type": "scatterternary"
           }
          ],
          "surface": [
           {
            "colorbar": {
             "outlinewidth": 0,
             "ticks": ""
            },
            "colorscale": [
             [
              0,
              "#0d0887"
             ],
             [
              0.1111111111111111,
              "#46039f"
             ],
             [
              0.2222222222222222,
              "#7201a8"
             ],
             [
              0.3333333333333333,
              "#9c179e"
             ],
             [
              0.4444444444444444,
              "#bd3786"
             ],
             [
              0.5555555555555556,
              "#d8576b"
             ],
             [
              0.6666666666666666,
              "#ed7953"
             ],
             [
              0.7777777777777778,
              "#fb9f3a"
             ],
             [
              0.8888888888888888,
              "#fdca26"
             ],
             [
              1,
              "#f0f921"
             ]
            ],
            "type": "surface"
           }
          ],
          "table": [
           {
            "cells": {
             "fill": {
              "color": "#EBF0F8"
             },
             "line": {
              "color": "white"
             }
            },
            "header": {
             "fill": {
              "color": "#C8D4E3"
             },
             "line": {
              "color": "white"
             }
            },
            "type": "table"
           }
          ]
         },
         "layout": {
          "annotationdefaults": {
           "arrowcolor": "#2a3f5f",
           "arrowhead": 0,
           "arrowwidth": 1
          },
          "coloraxis": {
           "colorbar": {
            "outlinewidth": 0,
            "ticks": ""
           }
          },
          "colorscale": {
           "diverging": [
            [
             0,
             "#8e0152"
            ],
            [
             0.1,
             "#c51b7d"
            ],
            [
             0.2,
             "#de77ae"
            ],
            [
             0.3,
             "#f1b6da"
            ],
            [
             0.4,
             "#fde0ef"
            ],
            [
             0.5,
             "#f7f7f7"
            ],
            [
             0.6,
             "#e6f5d0"
            ],
            [
             0.7,
             "#b8e186"
            ],
            [
             0.8,
             "#7fbc41"
            ],
            [
             0.9,
             "#4d9221"
            ],
            [
             1,
             "#276419"
            ]
           ],
           "sequential": [
            [
             0,
             "#0d0887"
            ],
            [
             0.1111111111111111,
             "#46039f"
            ],
            [
             0.2222222222222222,
             "#7201a8"
            ],
            [
             0.3333333333333333,
             "#9c179e"
            ],
            [
             0.4444444444444444,
             "#bd3786"
            ],
            [
             0.5555555555555556,
             "#d8576b"
            ],
            [
             0.6666666666666666,
             "#ed7953"
            ],
            [
             0.7777777777777778,
             "#fb9f3a"
            ],
            [
             0.8888888888888888,
             "#fdca26"
            ],
            [
             1,
             "#f0f921"
            ]
           ],
           "sequentialminus": [
            [
             0,
             "#0d0887"
            ],
            [
             0.1111111111111111,
             "#46039f"
            ],
            [
             0.2222222222222222,
             "#7201a8"
            ],
            [
             0.3333333333333333,
             "#9c179e"
            ],
            [
             0.4444444444444444,
             "#bd3786"
            ],
            [
             0.5555555555555556,
             "#d8576b"
            ],
            [
             0.6666666666666666,
             "#ed7953"
            ],
            [
             0.7777777777777778,
             "#fb9f3a"
            ],
            [
             0.8888888888888888,
             "#fdca26"
            ],
            [
             1,
             "#f0f921"
            ]
           ]
          },
          "colorway": [
           "#636efa",
           "#EF553B",
           "#00cc96",
           "#ab63fa",
           "#FFA15A",
           "#19d3f3",
           "#FF6692",
           "#B6E880",
           "#FF97FF",
           "#FECB52"
          ],
          "font": {
           "color": "#2a3f5f"
          },
          "geo": {
           "bgcolor": "white",
           "lakecolor": "white",
           "landcolor": "#E5ECF6",
           "showlakes": true,
           "showland": true,
           "subunitcolor": "white"
          },
          "hoverlabel": {
           "align": "left"
          },
          "hovermode": "closest",
          "mapbox": {
           "style": "light"
          },
          "paper_bgcolor": "white",
          "plot_bgcolor": "#E5ECF6",
          "polar": {
           "angularaxis": {
            "gridcolor": "white",
            "linecolor": "white",
            "ticks": ""
           },
           "bgcolor": "#E5ECF6",
           "radialaxis": {
            "gridcolor": "white",
            "linecolor": "white",
            "ticks": ""
           }
          },
          "scene": {
           "xaxis": {
            "backgroundcolor": "#E5ECF6",
            "gridcolor": "white",
            "gridwidth": 2,
            "linecolor": "white",
            "showbackground": true,
            "ticks": "",
            "zerolinecolor": "white"
           },
           "yaxis": {
            "backgroundcolor": "#E5ECF6",
            "gridcolor": "white",
            "gridwidth": 2,
            "linecolor": "white",
            "showbackground": true,
            "ticks": "",
            "zerolinecolor": "white"
           },
           "zaxis": {
            "backgroundcolor": "#E5ECF6",
            "gridcolor": "white",
            "gridwidth": 2,
            "linecolor": "white",
            "showbackground": true,
            "ticks": "",
            "zerolinecolor": "white"
           }
          },
          "shapedefaults": {
           "line": {
            "color": "#2a3f5f"
           }
          },
          "ternary": {
           "aaxis": {
            "gridcolor": "white",
            "linecolor": "white",
            "ticks": ""
           },
           "baxis": {
            "gridcolor": "white",
            "linecolor": "white",
            "ticks": ""
           },
           "bgcolor": "#E5ECF6",
           "caxis": {
            "gridcolor": "white",
            "linecolor": "white",
            "ticks": ""
           }
          },
          "title": {
           "x": 0.05
          },
          "xaxis": {
           "automargin": true,
           "gridcolor": "white",
           "linecolor": "white",
           "ticks": "",
           "title": {
            "standoff": 15
           },
           "zerolinecolor": "white",
           "zerolinewidth": 2
          },
          "yaxis": {
           "automargin": true,
           "gridcolor": "white",
           "linecolor": "white",
           "ticks": "",
           "title": {
            "standoff": 15
           },
           "zerolinecolor": "white",
           "zerolinewidth": 2
          }
         }
        },
        "title": {
         "text": "CyberBattle simulation"
        },
        "width": 800,
        "xaxis": {
         "anchor": "y",
         "domain": [
          0,
          0.45
         ]
        },
        "xaxis2": {
         "anchor": "y2",
         "domain": [
          0.55,
          1
         ]
        },
        "yaxis": {
         "anchor": "x",
         "domain": [
          0,
          1
         ]
        },
        "yaxis2": {
         "anchor": "x2",
         "domain": [
          0,
          1
         ]
        }
       }
      },
      "text/html": [
       "<div>                            <div id=\"a7f96723-acfe-4b63-9140-3505f0eba8dd\" class=\"plotly-graph-div\" style=\"height:400px; width:800px;\"></div>            <script type=\"text/javascript\">                require([\"plotly\"], function(Plotly) {                    window.PLOTLYENV=window.PLOTLYENV || {};                                    if (document.getElementById(\"a7f96723-acfe-4b63-9140-3505f0eba8dd\")) {                    Plotly.newPlot(                        \"a7f96723-acfe-4b63-9140-3505f0eba8dd\",                        [{\"name\": \"cumulative reward\", \"type\": \"scatter\", \"xaxis\": \"x\", \"y\": [11.0], \"yaxis\": \"y\"}, {\"line\": {\"color\": \"gray\"}, \"mode\": \"lines\", \"name\": \"KNOWS\", \"type\": \"scatter\", \"x\": [0], \"xaxis\": \"x2\", \"y\": [0], \"yaxis\": \"y2\"}, {\"line\": {\"color\": \"orange\"}, \"mode\": \"lines\", \"name\": \"REMOTE_EXPLOIT\", \"type\": \"scatter\", \"x\": [0], \"xaxis\": \"x2\", \"y\": [0], \"yaxis\": \"y2\"}, {\"line\": {\"color\": \"red\"}, \"mode\": \"lines\", \"name\": \"LATERAL_MOVE\", \"type\": \"scatter\", \"x\": [0], \"xaxis\": \"x2\", \"y\": [0], \"yaxis\": \"y2\"}, {\"hoverinfo\": \"text\", \"marker\": {\"color\": \"#D32F2E\", \"line\": {\"color\": \"rgb(255,0,0)\", \"width\": 8}, \"size\": 5, \"symbol\": \"circle-dot\"}, \"mode\": \"markers+text\", \"name\": \"owned\", \"text\": [\"client\"], \"textposition\": \"bottom center\", \"type\": \"scatter\", \"x\": [0.0], \"xaxis\": \"x2\", \"y\": [0.0], \"yaxis\": \"y2\"}, {\"hoverinfo\": \"text\", \"marker\": {\"color\": \"#0e9d00\", \"line\": {\"color\": \"rgb(0,255,0)\", \"width\": 8}, \"size\": 5, \"symbol\": \"circle-dot\"}, \"mode\": \"markers+text\", \"name\": \"discovered\", \"text\": [\"Website\"], \"textposition\": \"bottom center\", \"type\": \"scatter\", \"x\": [-0.5], \"xaxis\": \"x2\", \"y\": [-4.371138828673793e-08], \"yaxis\": \"y2\"}],                        {\"annotations\": [{\"align\": \"center\", \"arrowcolor\": \"gray\", \"arrowhead\": 1, \"arrowsize\": 1, \"arrowwidth\": 1, \"ax\": 0.0, \"axref\": \"x2\", \"ay\": 0.0, \"ayref\": \"y2\", \"hovertext\": \"KNOWS\", \"opacity\": 1, \"showarrow\": true, \"standoff\": 10, \"startstandoff\": 10, \"x\": -0.5, \"xref\": \"x2\", \"y\": -4.371138828673793e-08, \"yref\": \"y2\"}], \"autosize\": false, \"font\": {\"size\": 10}, \"height\": 400, \"hovermode\": \"closest\", \"margin\": {\"b\": 15, \"l\": 2, \"r\": 2, \"t\": 35}, \"showlegend\": true, \"template\": {\"data\": {\"bar\": [{\"error_x\": {\"color\": \"#2a3f5f\"}, \"error_y\": {\"color\": \"#2a3f5f\"}, \"marker\": {\"line\": {\"color\": \"#E5ECF6\", \"width\": 0.5}}, \"type\": \"bar\"}], \"barpolar\": [{\"marker\": {\"line\": {\"color\": \"#E5ECF6\", \"width\": 0.5}}, \"type\": \"barpolar\"}], \"carpet\": [{\"aaxis\": {\"endlinecolor\": \"#2a3f5f\", \"gridcolor\": \"white\", \"linecolor\": \"white\", \"minorgridcolor\": \"white\", \"startlinecolor\": \"#2a3f5f\"}, \"baxis\": {\"endlinecolor\": \"#2a3f5f\", \"gridcolor\": \"white\", \"linecolor\": \"white\", \"minorgridcolor\": \"white\", \"startlinecolor\": \"#2a3f5f\"}, \"type\": \"carpet\"}], \"choropleth\": [{\"colorbar\": {\"outlinewidth\": 0, \"ticks\": \"\"}, \"type\": \"choropleth\"}], \"contour\": [{\"colorbar\": {\"outlinewidth\": 0, \"ticks\": \"\"}, \"colorscale\": [[0.0, \"#0d0887\"], [0.1111111111111111, \"#46039f\"], [0.2222222222222222, \"#7201a8\"], [0.3333333333333333, \"#9c179e\"], [0.4444444444444444, \"#bd3786\"], [0.5555555555555556, \"#d8576b\"], [0.6666666666666666, \"#ed7953\"], [0.7777777777777778, \"#fb9f3a\"], [0.8888888888888888, \"#fdca26\"], [1.0, \"#f0f921\"]], \"type\": \"contour\"}], \"contourcarpet\": [{\"colorbar\": {\"outlinewidth\": 0, \"ticks\": \"\"}, \"type\": \"contourcarpet\"}], \"heatmap\": [{\"colorbar\": {\"outlinewidth\": 0, \"ticks\": \"\"}, \"colorscale\": [[0.0, \"#0d0887\"], [0.1111111111111111, \"#46039f\"], [0.2222222222222222, \"#7201a8\"], [0.3333333333333333, \"#9c179e\"], [0.4444444444444444, \"#bd3786\"], [0.5555555555555556, \"#d8576b\"], [0.6666666666666666, \"#ed7953\"], [0.7777777777777778, \"#fb9f3a\"], [0.8888888888888888, \"#fdca26\"], [1.0, \"#f0f921\"]], \"type\": \"heatmap\"}], \"heatmapgl\": [{\"colorbar\": {\"outlinewidth\": 0, \"ticks\": \"\"}, \"colorscale\": [[0.0, \"#0d0887\"], [0.1111111111111111, \"#46039f\"], [0.2222222222222222, \"#7201a8\"], [0.3333333333333333, \"#9c179e\"], [0.4444444444444444, \"#bd3786\"], [0.5555555555555556, \"#d8576b\"], [0.6666666666666666, \"#ed7953\"], [0.7777777777777778, \"#fb9f3a\"], [0.8888888888888888, \"#fdca26\"], [1.0, \"#f0f921\"]], \"type\": \"heatmapgl\"}], \"histogram\": [{\"marker\": {\"colorbar\": {\"outlinewidth\": 0, \"ticks\": \"\"}}, \"type\": \"histogram\"}], \"histogram2d\": [{\"colorbar\": {\"outlinewidth\": 0, \"ticks\": \"\"}, \"colorscale\": [[0.0, \"#0d0887\"], [0.1111111111111111, \"#46039f\"], [0.2222222222222222, \"#7201a8\"], [0.3333333333333333, \"#9c179e\"], [0.4444444444444444, \"#bd3786\"], [0.5555555555555556, \"#d8576b\"], [0.6666666666666666, \"#ed7953\"], [0.7777777777777778, \"#fb9f3a\"], [0.8888888888888888, \"#fdca26\"], [1.0, \"#f0f921\"]], \"type\": \"histogram2d\"}], \"histogram2dcontour\": [{\"colorbar\": {\"outlinewidth\": 0, \"ticks\": \"\"}, \"colorscale\": [[0.0, \"#0d0887\"], [0.1111111111111111, \"#46039f\"], [0.2222222222222222, \"#7201a8\"], [0.3333333333333333, \"#9c179e\"], [0.4444444444444444, \"#bd3786\"], [0.5555555555555556, \"#d8576b\"], [0.6666666666666666, \"#ed7953\"], [0.7777777777777778, \"#fb9f3a\"], [0.8888888888888888, \"#fdca26\"], [1.0, \"#f0f921\"]], \"type\": \"histogram2dcontour\"}], \"mesh3d\": [{\"colorbar\": {\"outlinewidth\": 0, \"ticks\": \"\"}, \"type\": \"mesh3d\"}], \"parcoords\": [{\"line\": {\"colorbar\": {\"outlinewidth\": 0, \"ticks\": \"\"}}, \"type\": \"parcoords\"}], \"pie\": [{\"automargin\": true, \"type\": \"pie\"}], \"scatter\": [{\"marker\": {\"colorbar\": {\"outlinewidth\": 0, \"ticks\": \"\"}}, \"type\": \"scatter\"}], \"scatter3d\": [{\"line\": {\"colorbar\": {\"outlinewidth\": 0, \"ticks\": \"\"}}, \"marker\": {\"colorbar\": {\"outlinewidth\": 0, \"ticks\": \"\"}}, \"type\": \"scatter3d\"}], \"scattercarpet\": [{\"marker\": {\"colorbar\": {\"outlinewidth\": 0, \"ticks\": \"\"}}, \"type\": \"scattercarpet\"}], \"scattergeo\": [{\"marker\": {\"colorbar\": {\"outlinewidth\": 0, \"ticks\": \"\"}}, \"type\": \"scattergeo\"}], \"scattergl\": [{\"marker\": {\"colorbar\": {\"outlinewidth\": 0, \"ticks\": \"\"}}, \"type\": \"scattergl\"}], \"scattermapbox\": [{\"marker\": {\"colorbar\": {\"outlinewidth\": 0, \"ticks\": \"\"}}, \"type\": \"scattermapbox\"}], \"scatterpolar\": [{\"marker\": {\"colorbar\": {\"outlinewidth\": 0, \"ticks\": \"\"}}, \"type\": \"scatterpolar\"}], \"scatterpolargl\": [{\"marker\": {\"colorbar\": {\"outlinewidth\": 0, \"ticks\": \"\"}}, \"type\": \"scatterpolargl\"}], \"scatterternary\": [{\"marker\": {\"colorbar\": {\"outlinewidth\": 0, \"ticks\": \"\"}}, \"type\": \"scatterternary\"}], \"surface\": [{\"colorbar\": {\"outlinewidth\": 0, \"ticks\": \"\"}, \"colorscale\": [[0.0, \"#0d0887\"], [0.1111111111111111, \"#46039f\"], [0.2222222222222222, \"#7201a8\"], [0.3333333333333333, \"#9c179e\"], [0.4444444444444444, \"#bd3786\"], [0.5555555555555556, \"#d8576b\"], [0.6666666666666666, \"#ed7953\"], [0.7777777777777778, \"#fb9f3a\"], [0.8888888888888888, \"#fdca26\"], [1.0, \"#f0f921\"]], \"type\": \"surface\"}], \"table\": [{\"cells\": {\"fill\": {\"color\": \"#EBF0F8\"}, \"line\": {\"color\": \"white\"}}, \"header\": {\"fill\": {\"color\": \"#C8D4E3\"}, \"line\": {\"color\": \"white\"}}, \"type\": \"table\"}]}, \"layout\": {\"annotationdefaults\": {\"arrowcolor\": \"#2a3f5f\", \"arrowhead\": 0, \"arrowwidth\": 1}, \"coloraxis\": {\"colorbar\": {\"outlinewidth\": 0, \"ticks\": \"\"}}, \"colorscale\": {\"diverging\": [[0, \"#8e0152\"], [0.1, \"#c51b7d\"], [0.2, \"#de77ae\"], [0.3, \"#f1b6da\"], [0.4, \"#fde0ef\"], [0.5, \"#f7f7f7\"], [0.6, \"#e6f5d0\"], [0.7, \"#b8e186\"], [0.8, \"#7fbc41\"], [0.9, \"#4d9221\"], [1, \"#276419\"]], \"sequential\": [[0.0, \"#0d0887\"], [0.1111111111111111, \"#46039f\"], [0.2222222222222222, \"#7201a8\"], [0.3333333333333333, \"#9c179e\"], [0.4444444444444444, \"#bd3786\"], [0.5555555555555556, \"#d8576b\"], [0.6666666666666666, \"#ed7953\"], [0.7777777777777778, \"#fb9f3a\"], [0.8888888888888888, \"#fdca26\"], [1.0, \"#f0f921\"]], \"sequentialminus\": [[0.0, \"#0d0887\"], [0.1111111111111111, \"#46039f\"], [0.2222222222222222, \"#7201a8\"], [0.3333333333333333, \"#9c179e\"], [0.4444444444444444, \"#bd3786\"], [0.5555555555555556, \"#d8576b\"], [0.6666666666666666, \"#ed7953\"], [0.7777777777777778, \"#fb9f3a\"], [0.8888888888888888, \"#fdca26\"], [1.0, \"#f0f921\"]]}, \"colorway\": [\"#636efa\", \"#EF553B\", \"#00cc96\", \"#ab63fa\", \"#FFA15A\", \"#19d3f3\", \"#FF6692\", \"#B6E880\", \"#FF97FF\", \"#FECB52\"], \"font\": {\"color\": \"#2a3f5f\"}, \"geo\": {\"bgcolor\": \"white\", \"lakecolor\": \"white\", \"landcolor\": \"#E5ECF6\", \"showlakes\": true, \"showland\": true, \"subunitcolor\": \"white\"}, \"hoverlabel\": {\"align\": \"left\"}, \"hovermode\": \"closest\", \"mapbox\": {\"style\": \"light\"}, \"paper_bgcolor\": \"white\", \"plot_bgcolor\": \"#E5ECF6\", \"polar\": {\"angularaxis\": {\"gridcolor\": \"white\", \"linecolor\": \"white\", \"ticks\": \"\"}, \"bgcolor\": \"#E5ECF6\", \"radialaxis\": {\"gridcolor\": \"white\", \"linecolor\": \"white\", \"ticks\": \"\"}}, \"scene\": {\"xaxis\": {\"backgroundcolor\": \"#E5ECF6\", \"gridcolor\": \"white\", \"gridwidth\": 2, \"linecolor\": \"white\", \"showbackground\": true, \"ticks\": \"\", \"zerolinecolor\": \"white\"}, \"yaxis\": {\"backgroundcolor\": \"#E5ECF6\", \"gridcolor\": \"white\", \"gridwidth\": 2, \"linecolor\": \"white\", \"showbackground\": true, \"ticks\": \"\", \"zerolinecolor\": \"white\"}, \"zaxis\": {\"backgroundcolor\": \"#E5ECF6\", \"gridcolor\": \"white\", \"gridwidth\": 2, \"linecolor\": \"white\", \"showbackground\": true, \"ticks\": \"\", \"zerolinecolor\": \"white\"}}, \"shapedefaults\": {\"line\": {\"color\": \"#2a3f5f\"}}, \"ternary\": {\"aaxis\": {\"gridcolor\": \"white\", \"linecolor\": \"white\", \"ticks\": \"\"}, \"baxis\": {\"gridcolor\": \"white\", \"linecolor\": \"white\", \"ticks\": \"\"}, \"bgcolor\": \"#E5ECF6\", \"caxis\": {\"gridcolor\": \"white\", \"linecolor\": \"white\", \"ticks\": \"\"}}, \"title\": {\"x\": 0.05}, \"xaxis\": {\"automargin\": true, \"gridcolor\": \"white\", \"linecolor\": \"white\", \"ticks\": \"\", \"title\": {\"standoff\": 15}, \"zerolinecolor\": \"white\", \"zerolinewidth\": 2}, \"yaxis\": {\"automargin\": true, \"gridcolor\": \"white\", \"linecolor\": \"white\", \"ticks\": \"\", \"title\": {\"standoff\": 15}, \"zerolinecolor\": \"white\", \"zerolinewidth\": 2}}}, \"title\": {\"text\": \"CyberBattle simulation\"}, \"width\": 800, \"xaxis\": {\"anchor\": \"y\", \"domain\": [0.0, 0.45]}, \"xaxis2\": {\"anchor\": \"y2\", \"domain\": [0.55, 1.0]}, \"yaxis\": {\"anchor\": \"x\", \"domain\": [0.0, 1.0]}, \"yaxis2\": {\"anchor\": \"x2\", \"domain\": [0.0, 1.0]}},                        {\"responsive\": true}                    ).then(function(){\n",
       "                            \n",
       "var gd = document.getElementById('a7f96723-acfe-4b63-9140-3505f0eba8dd');\n",
       "var x = new MutationObserver(function (mutations, observer) {{\n",
       "        var display = window.getComputedStyle(gd).display;\n",
       "        if (!display || display === 'none') {{\n",
       "            console.log([gd, 'removed!']);\n",
       "            Plotly.purge(gd);\n",
       "            observer.disconnect();\n",
       "        }}\n",
       "}});\n",
       "\n",
       "// Listen for the removal of the full notebook cells\n",
       "var notebookContainer = gd.closest('#notebook-container');\n",
       "if (notebookContainer) {{\n",
       "    x.observe(notebookContainer, {childList: true});\n",
       "}}\n",
       "\n",
       "// Listen for the clearing of the current output cell\n",
       "var outputEl = gd.closest('.output');\n",
       "if (outputEl) {{\n",
       "    x.observe(outputEl, {childList: true});\n",
       "}}\n",
       "\n",
       "                        })                };                });            </script>        </div>"
      ]
     },
     "metadata": {},
     "output_type": "display_data"
    },
    {
     "name": "stdout",
     "output_type": "stream",
     "text": [
      "\n",
      "Step: 1, sample all actions under action_mask(bruteforce search)\n",
      "\t{'local_vulnerability': array([0, 0], dtype=int32)}\tlocal_vulnerability(`client, SearchEdgeHistory)\n",
      "\t{'remote_vulnerability': array([0, 1, 1], dtype=int32)}\tremote_vulnerability(`client, `Website, ScanPageSource)\n",
      "\t{'remote_vulnerability': array([0, 0, 1], dtype=int32)}\tremote_vulnerability(`client, `client, ScanPageSource)\n",
      "\t{'remote_vulnerability': array([0, 0, 0], dtype=int32)}\tremote_vulnerability(`client, `client, NavigateWebDirectoryFurther)\n",
      "\t{'remote_vulnerability': array([0, 1, 0], dtype=int32)}\tremote_vulnerability(`client, `Website, NavigateWebDirectoryFurther)\n",
      "\n",
      "Executed: \n",
      " + t=1 exploit r=11.0 cum_reward:22.0 a=[abstract_action=2, actor=0, state=[1. 1. 0. 0. 0. 0. 0. 0. 0. 0. 0. 0. 0. 1. 0. 0. 0. 0. 1.]]-{'remote_vulnerability': array([0, 1, 1])} creds=0  \n"
     ]
    },
    {
     "data": {
      "text/html": [
       "<div>\n",
       "<style scoped>\n",
       "    .dataframe tbody tr th:only-of-type {\n",
       "        vertical-align: middle;\n",
       "    }\n",
       "\n",
       "    .dataframe tbody tr th {\n",
       "        vertical-align: top;\n",
       "    }\n",
       "\n",
       "    .dataframe thead th {\n",
       "        text-align: right;\n",
       "    }\n",
       "</style>\n",
       "<table border=\"1\" class=\"dataframe\">\n",
       "  <thead>\n",
       "    <tr style=\"text-align: right;\">\n",
       "      <th></th>\n",
       "      <th>internal index</th>\n",
       "      <th>status</th>\n",
       "      <th>properties</th>\n",
       "      <th>discovered node properties</th>\n",
       "      <th>local_attacks</th>\n",
       "      <th>remote_attacks</th>\n",
       "      <th>gathered_credentials (no restrict to node)</th>\n",
       "      <th>discovered profiles</th>\n",
       "    </tr>\n",
       "    <tr>\n",
       "      <th>id</th>\n",
       "      <th></th>\n",
       "      <th></th>\n",
       "      <th></th>\n",
       "      <th></th>\n",
       "      <th></th>\n",
       "      <th></th>\n",
       "      <th></th>\n",
       "      <th></th>\n",
       "    </tr>\n",
       "  </thead>\n",
       "  <tbody>\n",
       "    <tr>\n",
       "      <th>client</th>\n",
       "      <td>0</td>\n",
       "      <td>owned</td>\n",
       "      <td>[CLIENT:Win10]</td>\n",
       "      <td>[CLIENT:Win10]</td>\n",
       "      <td>[SearchEdgeHistory]</td>\n",
       "      <td>[]</td>\n",
       "      <td>{}</td>\n",
       "      <td></td>\n",
       "    </tr>\n",
       "    <tr>\n",
       "      <th>Website</th>\n",
       "      <td>1</td>\n",
       "      <td>discovered</td>\n",
       "      <td>[MySql, Ubuntu, nginx/1.10.3]</td>\n",
       "      <td>[]</td>\n",
       "      <td>None</td>\n",
       "      <td>[ScanPageSource]</td>\n",
       "      <td>{}</td>\n",
       "      <td></td>\n",
       "    </tr>\n",
       "    <tr>\n",
       "      <th>Website.Directory</th>\n",
       "      <td>2</td>\n",
       "      <td>discovered</td>\n",
       "      <td>[Ubuntu, nginx/1.10.3, CTFFLAG:Readme.txt-Disc...</td>\n",
       "      <td>[]</td>\n",
       "      <td>None</td>\n",
       "      <td>[NavigateWebDirectoryFurther]</td>\n",
       "      <td>{}</td>\n",
       "      <td></td>\n",
       "    </tr>\n",
       "  </tbody>\n",
       "</table>\n",
       "</div>"
      ],
      "text/plain": [
       "                   internal index      status  \\\n",
       "id                                              \n",
       "client                          0       owned   \n",
       "Website                         1  discovered   \n",
       "Website.Directory               2  discovered   \n",
       "\n",
       "                                                          properties  \\\n",
       "id                                                                     \n",
       "client                                                [CLIENT:Win10]   \n",
       "Website                                [MySql, Ubuntu, nginx/1.10.3]   \n",
       "Website.Directory  [Ubuntu, nginx/1.10.3, CTFFLAG:Readme.txt-Disc...   \n",
       "\n",
       "                  discovered node properties        local_attacks  \\\n",
       "id                                                                  \n",
       "client                        [CLIENT:Win10]  [SearchEdgeHistory]   \n",
       "Website                                   []                 None   \n",
       "Website.Directory                         []                 None   \n",
       "\n",
       "                                  remote_attacks  \\\n",
       "id                                                 \n",
       "client                                        []   \n",
       "Website                         [ScanPageSource]   \n",
       "Website.Directory  [NavigateWebDirectoryFurther]   \n",
       "\n",
       "                  gathered_credentials (no restrict to node)  \\\n",
       "id                                                             \n",
       "client                                                    {}   \n",
       "Website                                                   {}   \n",
       "Website.Directory                                         {}   \n",
       "\n",
       "                  discovered profiles  \n",
       "id                                     \n",
       "client                                 \n",
       "Website                                \n",
       "Website.Directory                      "
      ]
     },
     "metadata": {},
     "output_type": "display_data"
    },
    {
     "data": {
      "application/vnd.plotly.v1+json": {
       "config": {
        "plotlyServerURL": "https://plot.ly"
       },
       "data": [
        {
         "name": "cumulative reward",
         "type": "scatter",
         "xaxis": "x",
         "y": [
          11,
          22
         ],
         "yaxis": "y"
        },
        {
         "line": {
          "color": "gray"
         },
         "mode": "lines",
         "name": "KNOWS",
         "type": "scatter",
         "x": [
          0
         ],
         "xaxis": "x2",
         "y": [
          0
         ],
         "yaxis": "y2"
        },
        {
         "line": {
          "color": "orange"
         },
         "mode": "lines",
         "name": "REMOTE_EXPLOIT",
         "type": "scatter",
         "x": [
          0
         ],
         "xaxis": "x2",
         "y": [
          0
         ],
         "yaxis": "y2"
        },
        {
         "line": {
          "color": "red"
         },
         "mode": "lines",
         "name": "LATERAL_MOVE",
         "type": "scatter",
         "x": [
          0
         ],
         "xaxis": "x2",
         "y": [
          0
         ],
         "yaxis": "y2"
        },
        {
         "hoverinfo": "text",
         "marker": {
          "color": "#D32F2E",
          "line": {
           "color": "rgb(255,0,0)",
           "width": 8
          },
          "size": 5,
          "symbol": "circle-dot"
         },
         "mode": "markers+text",
         "name": "owned",
         "text": [
          "client"
         ],
         "textposition": "bottom center",
         "type": "scatter",
         "x": [
          0
         ],
         "xaxis": "x2",
         "y": [
          0
         ],
         "yaxis": "y2"
        },
        {
         "hoverinfo": "text",
         "marker": {
          "color": "#0e9d00",
          "line": {
           "color": "rgb(0,255,0)",
           "width": 8
          },
          "size": 5,
          "symbol": "circle-dot"
         },
         "mode": "markers+text",
         "name": "discovered",
         "text": [
          "Website",
          "Website.Directory"
         ],
         "textposition": "bottom center",
         "type": "scatter",
         "x": [
          -0.5,
          0.5
         ],
         "xaxis": "x2",
         "y": [
          -4.371138828673793e-08,
          8.742277657347586e-08
         ],
         "yaxis": "y2"
        }
       ],
       "layout": {
        "annotations": [
         {
          "align": "center",
          "arrowcolor": "gray",
          "arrowhead": 1,
          "arrowsize": 1,
          "arrowwidth": 1,
          "ax": -0.5,
          "axref": "x2",
          "ay": -4.371138828673793e-08,
          "ayref": "y2",
          "hovertext": "KNOWS",
          "opacity": 1,
          "showarrow": true,
          "standoff": 10,
          "startstandoff": 10,
          "x": 0.5,
          "xref": "x2",
          "y": 8.742277657347586e-08,
          "yref": "y2"
         },
         {
          "align": "center",
          "arrowcolor": "orange",
          "arrowhead": 1,
          "arrowsize": 1,
          "arrowwidth": 1,
          "ax": 0,
          "axref": "x2",
          "ay": 0,
          "ayref": "y2",
          "hovertext": "REMOTE_EXPLOIT",
          "opacity": 1,
          "showarrow": true,
          "standoff": 10,
          "startstandoff": 10,
          "x": -0.5,
          "xref": "x2",
          "y": -4.371138828673793e-08,
          "yref": "y2"
         }
        ],
        "autosize": false,
        "font": {
         "size": 10
        },
        "height": 400,
        "hovermode": "closest",
        "margin": {
         "b": 15,
         "l": 2,
         "r": 2,
         "t": 35
        },
        "showlegend": true,
        "template": {
         "data": {
          "bar": [
           {
            "error_x": {
             "color": "#2a3f5f"
            },
            "error_y": {
             "color": "#2a3f5f"
            },
            "marker": {
             "line": {
              "color": "#E5ECF6",
              "width": 0.5
             }
            },
            "type": "bar"
           }
          ],
          "barpolar": [
           {
            "marker": {
             "line": {
              "color": "#E5ECF6",
              "width": 0.5
             }
            },
            "type": "barpolar"
           }
          ],
          "carpet": [
           {
            "aaxis": {
             "endlinecolor": "#2a3f5f",
             "gridcolor": "white",
             "linecolor": "white",
             "minorgridcolor": "white",
             "startlinecolor": "#2a3f5f"
            },
            "baxis": {
             "endlinecolor": "#2a3f5f",
             "gridcolor": "white",
             "linecolor": "white",
             "minorgridcolor": "white",
             "startlinecolor": "#2a3f5f"
            },
            "type": "carpet"
           }
          ],
          "choropleth": [
           {
            "colorbar": {
             "outlinewidth": 0,
             "ticks": ""
            },
            "type": "choropleth"
           }
          ],
          "contour": [
           {
            "colorbar": {
             "outlinewidth": 0,
             "ticks": ""
            },
            "colorscale": [
             [
              0,
              "#0d0887"
             ],
             [
              0.1111111111111111,
              "#46039f"
             ],
             [
              0.2222222222222222,
              "#7201a8"
             ],
             [
              0.3333333333333333,
              "#9c179e"
             ],
             [
              0.4444444444444444,
              "#bd3786"
             ],
             [
              0.5555555555555556,
              "#d8576b"
             ],
             [
              0.6666666666666666,
              "#ed7953"
             ],
             [
              0.7777777777777778,
              "#fb9f3a"
             ],
             [
              0.8888888888888888,
              "#fdca26"
             ],
             [
              1,
              "#f0f921"
             ]
            ],
            "type": "contour"
           }
          ],
          "contourcarpet": [
           {
            "colorbar": {
             "outlinewidth": 0,
             "ticks": ""
            },
            "type": "contourcarpet"
           }
          ],
          "heatmap": [
           {
            "colorbar": {
             "outlinewidth": 0,
             "ticks": ""
            },
            "colorscale": [
             [
              0,
              "#0d0887"
             ],
             [
              0.1111111111111111,
              "#46039f"
             ],
             [
              0.2222222222222222,
              "#7201a8"
             ],
             [
              0.3333333333333333,
              "#9c179e"
             ],
             [
              0.4444444444444444,
              "#bd3786"
             ],
             [
              0.5555555555555556,
              "#d8576b"
             ],
             [
              0.6666666666666666,
              "#ed7953"
             ],
             [
              0.7777777777777778,
              "#fb9f3a"
             ],
             [
              0.8888888888888888,
              "#fdca26"
             ],
             [
              1,
              "#f0f921"
             ]
            ],
            "type": "heatmap"
           }
          ],
          "heatmapgl": [
           {
            "colorbar": {
             "outlinewidth": 0,
             "ticks": ""
            },
            "colorscale": [
             [
              0,
              "#0d0887"
             ],
             [
              0.1111111111111111,
              "#46039f"
             ],
             [
              0.2222222222222222,
              "#7201a8"
             ],
             [
              0.3333333333333333,
              "#9c179e"
             ],
             [
              0.4444444444444444,
              "#bd3786"
             ],
             [
              0.5555555555555556,
              "#d8576b"
             ],
             [
              0.6666666666666666,
              "#ed7953"
             ],
             [
              0.7777777777777778,
              "#fb9f3a"
             ],
             [
              0.8888888888888888,
              "#fdca26"
             ],
             [
              1,
              "#f0f921"
             ]
            ],
            "type": "heatmapgl"
           }
          ],
          "histogram": [
           {
            "marker": {
             "colorbar": {
              "outlinewidth": 0,
              "ticks": ""
             }
            },
            "type": "histogram"
           }
          ],
          "histogram2d": [
           {
            "colorbar": {
             "outlinewidth": 0,
             "ticks": ""
            },
            "colorscale": [
             [
              0,
              "#0d0887"
             ],
             [
              0.1111111111111111,
              "#46039f"
             ],
             [
              0.2222222222222222,
              "#7201a8"
             ],
             [
              0.3333333333333333,
              "#9c179e"
             ],
             [
              0.4444444444444444,
              "#bd3786"
             ],
             [
              0.5555555555555556,
              "#d8576b"
             ],
             [
              0.6666666666666666,
              "#ed7953"
             ],
             [
              0.7777777777777778,
              "#fb9f3a"
             ],
             [
              0.8888888888888888,
              "#fdca26"
             ],
             [
              1,
              "#f0f921"
             ]
            ],
            "type": "histogram2d"
           }
          ],
          "histogram2dcontour": [
           {
            "colorbar": {
             "outlinewidth": 0,
             "ticks": ""
            },
            "colorscale": [
             [
              0,
              "#0d0887"
             ],
             [
              0.1111111111111111,
              "#46039f"
             ],
             [
              0.2222222222222222,
              "#7201a8"
             ],
             [
              0.3333333333333333,
              "#9c179e"
             ],
             [
              0.4444444444444444,
              "#bd3786"
             ],
             [
              0.5555555555555556,
              "#d8576b"
             ],
             [
              0.6666666666666666,
              "#ed7953"
             ],
             [
              0.7777777777777778,
              "#fb9f3a"
             ],
             [
              0.8888888888888888,
              "#fdca26"
             ],
             [
              1,
              "#f0f921"
             ]
            ],
            "type": "histogram2dcontour"
           }
          ],
          "mesh3d": [
           {
            "colorbar": {
             "outlinewidth": 0,
             "ticks": ""
            },
            "type": "mesh3d"
           }
          ],
          "parcoords": [
           {
            "line": {
             "colorbar": {
              "outlinewidth": 0,
              "ticks": ""
             }
            },
            "type": "parcoords"
           }
          ],
          "pie": [
           {
            "automargin": true,
            "type": "pie"
           }
          ],
          "scatter": [
           {
            "marker": {
             "colorbar": {
              "outlinewidth": 0,
              "ticks": ""
             }
            },
            "type": "scatter"
           }
          ],
          "scatter3d": [
           {
            "line": {
             "colorbar": {
              "outlinewidth": 0,
              "ticks": ""
             }
            },
            "marker": {
             "colorbar": {
              "outlinewidth": 0,
              "ticks": ""
             }
            },
            "type": "scatter3d"
           }
          ],
          "scattercarpet": [
           {
            "marker": {
             "colorbar": {
              "outlinewidth": 0,
              "ticks": ""
             }
            },
            "type": "scattercarpet"
           }
          ],
          "scattergeo": [
           {
            "marker": {
             "colorbar": {
              "outlinewidth": 0,
              "ticks": ""
             }
            },
            "type": "scattergeo"
           }
          ],
          "scattergl": [
           {
            "marker": {
             "colorbar": {
              "outlinewidth": 0,
              "ticks": ""
             }
            },
            "type": "scattergl"
           }
          ],
          "scattermapbox": [
           {
            "marker": {
             "colorbar": {
              "outlinewidth": 0,
              "ticks": ""
             }
            },
            "type": "scattermapbox"
           }
          ],
          "scatterpolar": [
           {
            "marker": {
             "colorbar": {
              "outlinewidth": 0,
              "ticks": ""
             }
            },
            "type": "scatterpolar"
           }
          ],
          "scatterpolargl": [
           {
            "marker": {
             "colorbar": {
              "outlinewidth": 0,
              "ticks": ""
             }
            },
            "type": "scatterpolargl"
           }
          ],
          "scatterternary": [
           {
            "marker": {
             "colorbar": {
              "outlinewidth": 0,
              "ticks": ""
             }
            },
            "type": "scatterternary"
           }
          ],
          "surface": [
           {
            "colorbar": {
             "outlinewidth": 0,
             "ticks": ""
            },
            "colorscale": [
             [
              0,
              "#0d0887"
             ],
             [
              0.1111111111111111,
              "#46039f"
             ],
             [
              0.2222222222222222,
              "#7201a8"
             ],
             [
              0.3333333333333333,
              "#9c179e"
             ],
             [
              0.4444444444444444,
              "#bd3786"
             ],
             [
              0.5555555555555556,
              "#d8576b"
             ],
             [
              0.6666666666666666,
              "#ed7953"
             ],
             [
              0.7777777777777778,
              "#fb9f3a"
             ],
             [
              0.8888888888888888,
              "#fdca26"
             ],
             [
              1,
              "#f0f921"
             ]
            ],
            "type": "surface"
           }
          ],
          "table": [
           {
            "cells": {
             "fill": {
              "color": "#EBF0F8"
             },
             "line": {
              "color": "white"
             }
            },
            "header": {
             "fill": {
              "color": "#C8D4E3"
             },
             "line": {
              "color": "white"
             }
            },
            "type": "table"
           }
          ]
         },
         "layout": {
          "annotationdefaults": {
           "arrowcolor": "#2a3f5f",
           "arrowhead": 0,
           "arrowwidth": 1
          },
          "coloraxis": {
           "colorbar": {
            "outlinewidth": 0,
            "ticks": ""
           }
          },
          "colorscale": {
           "diverging": [
            [
             0,
             "#8e0152"
            ],
            [
             0.1,
             "#c51b7d"
            ],
            [
             0.2,
             "#de77ae"
            ],
            [
             0.3,
             "#f1b6da"
            ],
            [
             0.4,
             "#fde0ef"
            ],
            [
             0.5,
             "#f7f7f7"
            ],
            [
             0.6,
             "#e6f5d0"
            ],
            [
             0.7,
             "#b8e186"
            ],
            [
             0.8,
             "#7fbc41"
            ],
            [
             0.9,
             "#4d9221"
            ],
            [
             1,
             "#276419"
            ]
           ],
           "sequential": [
            [
             0,
             "#0d0887"
            ],
            [
             0.1111111111111111,
             "#46039f"
            ],
            [
             0.2222222222222222,
             "#7201a8"
            ],
            [
             0.3333333333333333,
             "#9c179e"
            ],
            [
             0.4444444444444444,
             "#bd3786"
            ],
            [
             0.5555555555555556,
             "#d8576b"
            ],
            [
             0.6666666666666666,
             "#ed7953"
            ],
            [
             0.7777777777777778,
             "#fb9f3a"
            ],
            [
             0.8888888888888888,
             "#fdca26"
            ],
            [
             1,
             "#f0f921"
            ]
           ],
           "sequentialminus": [
            [
             0,
             "#0d0887"
            ],
            [
             0.1111111111111111,
             "#46039f"
            ],
            [
             0.2222222222222222,
             "#7201a8"
            ],
            [
             0.3333333333333333,
             "#9c179e"
            ],
            [
             0.4444444444444444,
             "#bd3786"
            ],
            [
             0.5555555555555556,
             "#d8576b"
            ],
            [
             0.6666666666666666,
             "#ed7953"
            ],
            [
             0.7777777777777778,
             "#fb9f3a"
            ],
            [
             0.8888888888888888,
             "#fdca26"
            ],
            [
             1,
             "#f0f921"
            ]
           ]
          },
          "colorway": [
           "#636efa",
           "#EF553B",
           "#00cc96",
           "#ab63fa",
           "#FFA15A",
           "#19d3f3",
           "#FF6692",
           "#B6E880",
           "#FF97FF",
           "#FECB52"
          ],
          "font": {
           "color": "#2a3f5f"
          },
          "geo": {
           "bgcolor": "white",
           "lakecolor": "white",
           "landcolor": "#E5ECF6",
           "showlakes": true,
           "showland": true,
           "subunitcolor": "white"
          },
          "hoverlabel": {
           "align": "left"
          },
          "hovermode": "closest",
          "mapbox": {
           "style": "light"
          },
          "paper_bgcolor": "white",
          "plot_bgcolor": "#E5ECF6",
          "polar": {
           "angularaxis": {
            "gridcolor": "white",
            "linecolor": "white",
            "ticks": ""
           },
           "bgcolor": "#E5ECF6",
           "radialaxis": {
            "gridcolor": "white",
            "linecolor": "white",
            "ticks": ""
           }
          },
          "scene": {
           "xaxis": {
            "backgroundcolor": "#E5ECF6",
            "gridcolor": "white",
            "gridwidth": 2,
            "linecolor": "white",
            "showbackground": true,
            "ticks": "",
            "zerolinecolor": "white"
           },
           "yaxis": {
            "backgroundcolor": "#E5ECF6",
            "gridcolor": "white",
            "gridwidth": 2,
            "linecolor": "white",
            "showbackground": true,
            "ticks": "",
            "zerolinecolor": "white"
           },
           "zaxis": {
            "backgroundcolor": "#E5ECF6",
            "gridcolor": "white",
            "gridwidth": 2,
            "linecolor": "white",
            "showbackground": true,
            "ticks": "",
            "zerolinecolor": "white"
           }
          },
          "shapedefaults": {
           "line": {
            "color": "#2a3f5f"
           }
          },
          "ternary": {
           "aaxis": {
            "gridcolor": "white",
            "linecolor": "white",
            "ticks": ""
           },
           "baxis": {
            "gridcolor": "white",
            "linecolor": "white",
            "ticks": ""
           },
           "bgcolor": "#E5ECF6",
           "caxis": {
            "gridcolor": "white",
            "linecolor": "white",
            "ticks": ""
           }
          },
          "title": {
           "x": 0.05
          },
          "xaxis": {
           "automargin": true,
           "gridcolor": "white",
           "linecolor": "white",
           "ticks": "",
           "title": {
            "standoff": 15
           },
           "zerolinecolor": "white",
           "zerolinewidth": 2
          },
          "yaxis": {
           "automargin": true,
           "gridcolor": "white",
           "linecolor": "white",
           "ticks": "",
           "title": {
            "standoff": 15
           },
           "zerolinecolor": "white",
           "zerolinewidth": 2
          }
         }
        },
        "title": {
         "text": "CyberBattle simulation"
        },
        "width": 800,
        "xaxis": {
         "anchor": "y",
         "domain": [
          0,
          0.45
         ]
        },
        "xaxis2": {
         "anchor": "y2",
         "domain": [
          0.55,
          1
         ]
        },
        "yaxis": {
         "anchor": "x",
         "domain": [
          0,
          1
         ]
        },
        "yaxis2": {
         "anchor": "x2",
         "domain": [
          0,
          1
         ]
        }
       }
      },
      "text/html": [
       "<div>                            <div id=\"688dc879-85d3-4262-8a57-a47d23a4e3d0\" class=\"plotly-graph-div\" style=\"height:400px; width:800px;\"></div>            <script type=\"text/javascript\">                require([\"plotly\"], function(Plotly) {                    window.PLOTLYENV=window.PLOTLYENV || {};                                    if (document.getElementById(\"688dc879-85d3-4262-8a57-a47d23a4e3d0\")) {                    Plotly.newPlot(                        \"688dc879-85d3-4262-8a57-a47d23a4e3d0\",                        [{\"name\": \"cumulative reward\", \"type\": \"scatter\", \"xaxis\": \"x\", \"y\": [11.0, 22.0], \"yaxis\": \"y\"}, {\"line\": {\"color\": \"gray\"}, \"mode\": \"lines\", \"name\": \"KNOWS\", \"type\": \"scatter\", \"x\": [0], \"xaxis\": \"x2\", \"y\": [0], \"yaxis\": \"y2\"}, {\"line\": {\"color\": \"orange\"}, \"mode\": \"lines\", \"name\": \"REMOTE_EXPLOIT\", \"type\": \"scatter\", \"x\": [0], \"xaxis\": \"x2\", \"y\": [0], \"yaxis\": \"y2\"}, {\"line\": {\"color\": \"red\"}, \"mode\": \"lines\", \"name\": \"LATERAL_MOVE\", \"type\": \"scatter\", \"x\": [0], \"xaxis\": \"x2\", \"y\": [0], \"yaxis\": \"y2\"}, {\"hoverinfo\": \"text\", \"marker\": {\"color\": \"#D32F2E\", \"line\": {\"color\": \"rgb(255,0,0)\", \"width\": 8}, \"size\": 5, \"symbol\": \"circle-dot\"}, \"mode\": \"markers+text\", \"name\": \"owned\", \"text\": [\"client\"], \"textposition\": \"bottom center\", \"type\": \"scatter\", \"x\": [0.0], \"xaxis\": \"x2\", \"y\": [0.0], \"yaxis\": \"y2\"}, {\"hoverinfo\": \"text\", \"marker\": {\"color\": \"#0e9d00\", \"line\": {\"color\": \"rgb(0,255,0)\", \"width\": 8}, \"size\": 5, \"symbol\": \"circle-dot\"}, \"mode\": \"markers+text\", \"name\": \"discovered\", \"text\": [\"Website\", \"Website.Directory\"], \"textposition\": \"bottom center\", \"type\": \"scatter\", \"x\": [-0.5, 0.5], \"xaxis\": \"x2\", \"y\": [-4.371138828673793e-08, 8.742277657347586e-08], \"yaxis\": \"y2\"}],                        {\"annotations\": [{\"align\": \"center\", \"arrowcolor\": \"gray\", \"arrowhead\": 1, \"arrowsize\": 1, \"arrowwidth\": 1, \"ax\": -0.5, \"axref\": \"x2\", \"ay\": -4.371138828673793e-08, \"ayref\": \"y2\", \"hovertext\": \"KNOWS\", \"opacity\": 1, \"showarrow\": true, \"standoff\": 10, \"startstandoff\": 10, \"x\": 0.5, \"xref\": \"x2\", \"y\": 8.742277657347586e-08, \"yref\": \"y2\"}, {\"align\": \"center\", \"arrowcolor\": \"orange\", \"arrowhead\": 1, \"arrowsize\": 1, \"arrowwidth\": 1, \"ax\": 0.0, \"axref\": \"x2\", \"ay\": 0.0, \"ayref\": \"y2\", \"hovertext\": \"REMOTE_EXPLOIT\", \"opacity\": 1, \"showarrow\": true, \"standoff\": 10, \"startstandoff\": 10, \"x\": -0.5, \"xref\": \"x2\", \"y\": -4.371138828673793e-08, \"yref\": \"y2\"}], \"autosize\": false, \"font\": {\"size\": 10}, \"height\": 400, \"hovermode\": \"closest\", \"margin\": {\"b\": 15, \"l\": 2, \"r\": 2, \"t\": 35}, \"showlegend\": true, \"template\": {\"data\": {\"bar\": [{\"error_x\": {\"color\": \"#2a3f5f\"}, \"error_y\": {\"color\": \"#2a3f5f\"}, \"marker\": {\"line\": {\"color\": \"#E5ECF6\", \"width\": 0.5}}, \"type\": \"bar\"}], \"barpolar\": [{\"marker\": {\"line\": {\"color\": \"#E5ECF6\", \"width\": 0.5}}, \"type\": \"barpolar\"}], \"carpet\": [{\"aaxis\": {\"endlinecolor\": \"#2a3f5f\", \"gridcolor\": \"white\", \"linecolor\": \"white\", \"minorgridcolor\": \"white\", \"startlinecolor\": \"#2a3f5f\"}, \"baxis\": {\"endlinecolor\": \"#2a3f5f\", \"gridcolor\": \"white\", \"linecolor\": \"white\", \"minorgridcolor\": \"white\", \"startlinecolor\": \"#2a3f5f\"}, \"type\": \"carpet\"}], \"choropleth\": [{\"colorbar\": {\"outlinewidth\": 0, \"ticks\": \"\"}, \"type\": \"choropleth\"}], \"contour\": [{\"colorbar\": {\"outlinewidth\": 0, \"ticks\": \"\"}, \"colorscale\": [[0.0, \"#0d0887\"], [0.1111111111111111, \"#46039f\"], [0.2222222222222222, \"#7201a8\"], [0.3333333333333333, \"#9c179e\"], [0.4444444444444444, \"#bd3786\"], [0.5555555555555556, \"#d8576b\"], [0.6666666666666666, \"#ed7953\"], [0.7777777777777778, \"#fb9f3a\"], [0.8888888888888888, \"#fdca26\"], [1.0, \"#f0f921\"]], \"type\": \"contour\"}], \"contourcarpet\": [{\"colorbar\": {\"outlinewidth\": 0, \"ticks\": \"\"}, \"type\": \"contourcarpet\"}], \"heatmap\": [{\"colorbar\": {\"outlinewidth\": 0, \"ticks\": \"\"}, \"colorscale\": [[0.0, \"#0d0887\"], [0.1111111111111111, \"#46039f\"], [0.2222222222222222, \"#7201a8\"], [0.3333333333333333, \"#9c179e\"], [0.4444444444444444, \"#bd3786\"], [0.5555555555555556, \"#d8576b\"], [0.6666666666666666, \"#ed7953\"], [0.7777777777777778, \"#fb9f3a\"], [0.8888888888888888, \"#fdca26\"], [1.0, \"#f0f921\"]], \"type\": \"heatmap\"}], \"heatmapgl\": [{\"colorbar\": {\"outlinewidth\": 0, \"ticks\": \"\"}, \"colorscale\": [[0.0, \"#0d0887\"], [0.1111111111111111, \"#46039f\"], [0.2222222222222222, \"#7201a8\"], [0.3333333333333333, \"#9c179e\"], [0.4444444444444444, \"#bd3786\"], [0.5555555555555556, \"#d8576b\"], [0.6666666666666666, \"#ed7953\"], [0.7777777777777778, \"#fb9f3a\"], [0.8888888888888888, \"#fdca26\"], [1.0, \"#f0f921\"]], \"type\": \"heatmapgl\"}], \"histogram\": [{\"marker\": {\"colorbar\": {\"outlinewidth\": 0, \"ticks\": \"\"}}, \"type\": \"histogram\"}], \"histogram2d\": [{\"colorbar\": {\"outlinewidth\": 0, \"ticks\": \"\"}, \"colorscale\": [[0.0, \"#0d0887\"], [0.1111111111111111, \"#46039f\"], [0.2222222222222222, \"#7201a8\"], [0.3333333333333333, \"#9c179e\"], [0.4444444444444444, \"#bd3786\"], [0.5555555555555556, \"#d8576b\"], [0.6666666666666666, \"#ed7953\"], [0.7777777777777778, \"#fb9f3a\"], [0.8888888888888888, \"#fdca26\"], [1.0, \"#f0f921\"]], \"type\": \"histogram2d\"}], \"histogram2dcontour\": [{\"colorbar\": {\"outlinewidth\": 0, \"ticks\": \"\"}, \"colorscale\": [[0.0, \"#0d0887\"], [0.1111111111111111, \"#46039f\"], [0.2222222222222222, \"#7201a8\"], [0.3333333333333333, \"#9c179e\"], [0.4444444444444444, \"#bd3786\"], [0.5555555555555556, \"#d8576b\"], [0.6666666666666666, \"#ed7953\"], [0.7777777777777778, \"#fb9f3a\"], [0.8888888888888888, \"#fdca26\"], [1.0, \"#f0f921\"]], \"type\": \"histogram2dcontour\"}], \"mesh3d\": [{\"colorbar\": {\"outlinewidth\": 0, \"ticks\": \"\"}, \"type\": \"mesh3d\"}], \"parcoords\": [{\"line\": {\"colorbar\": {\"outlinewidth\": 0, \"ticks\": \"\"}}, \"type\": \"parcoords\"}], \"pie\": [{\"automargin\": true, \"type\": \"pie\"}], \"scatter\": [{\"marker\": {\"colorbar\": {\"outlinewidth\": 0, \"ticks\": \"\"}}, \"type\": \"scatter\"}], \"scatter3d\": [{\"line\": {\"colorbar\": {\"outlinewidth\": 0, \"ticks\": \"\"}}, \"marker\": {\"colorbar\": {\"outlinewidth\": 0, \"ticks\": \"\"}}, \"type\": \"scatter3d\"}], \"scattercarpet\": [{\"marker\": {\"colorbar\": {\"outlinewidth\": 0, \"ticks\": \"\"}}, \"type\": \"scattercarpet\"}], \"scattergeo\": [{\"marker\": {\"colorbar\": {\"outlinewidth\": 0, \"ticks\": \"\"}}, \"type\": \"scattergeo\"}], \"scattergl\": [{\"marker\": {\"colorbar\": {\"outlinewidth\": 0, \"ticks\": \"\"}}, \"type\": \"scattergl\"}], \"scattermapbox\": [{\"marker\": {\"colorbar\": {\"outlinewidth\": 0, \"ticks\": \"\"}}, \"type\": \"scattermapbox\"}], \"scatterpolar\": [{\"marker\": {\"colorbar\": {\"outlinewidth\": 0, \"ticks\": \"\"}}, \"type\": \"scatterpolar\"}], \"scatterpolargl\": [{\"marker\": {\"colorbar\": {\"outlinewidth\": 0, \"ticks\": \"\"}}, \"type\": \"scatterpolargl\"}], \"scatterternary\": [{\"marker\": {\"colorbar\": {\"outlinewidth\": 0, \"ticks\": \"\"}}, \"type\": \"scatterternary\"}], \"surface\": [{\"colorbar\": {\"outlinewidth\": 0, \"ticks\": \"\"}, \"colorscale\": [[0.0, \"#0d0887\"], [0.1111111111111111, \"#46039f\"], [0.2222222222222222, \"#7201a8\"], [0.3333333333333333, \"#9c179e\"], [0.4444444444444444, \"#bd3786\"], [0.5555555555555556, \"#d8576b\"], [0.6666666666666666, \"#ed7953\"], [0.7777777777777778, \"#fb9f3a\"], [0.8888888888888888, \"#fdca26\"], [1.0, \"#f0f921\"]], \"type\": \"surface\"}], \"table\": [{\"cells\": {\"fill\": {\"color\": \"#EBF0F8\"}, \"line\": {\"color\": \"white\"}}, \"header\": {\"fill\": {\"color\": \"#C8D4E3\"}, \"line\": {\"color\": \"white\"}}, \"type\": \"table\"}]}, \"layout\": {\"annotationdefaults\": {\"arrowcolor\": \"#2a3f5f\", \"arrowhead\": 0, \"arrowwidth\": 1}, \"coloraxis\": {\"colorbar\": {\"outlinewidth\": 0, \"ticks\": \"\"}}, \"colorscale\": {\"diverging\": [[0, \"#8e0152\"], [0.1, \"#c51b7d\"], [0.2, \"#de77ae\"], [0.3, \"#f1b6da\"], [0.4, \"#fde0ef\"], [0.5, \"#f7f7f7\"], [0.6, \"#e6f5d0\"], [0.7, \"#b8e186\"], [0.8, \"#7fbc41\"], [0.9, \"#4d9221\"], [1, \"#276419\"]], \"sequential\": [[0.0, \"#0d0887\"], [0.1111111111111111, \"#46039f\"], [0.2222222222222222, \"#7201a8\"], [0.3333333333333333, \"#9c179e\"], [0.4444444444444444, \"#bd3786\"], [0.5555555555555556, \"#d8576b\"], [0.6666666666666666, \"#ed7953\"], [0.7777777777777778, \"#fb9f3a\"], [0.8888888888888888, \"#fdca26\"], [1.0, \"#f0f921\"]], \"sequentialminus\": [[0.0, \"#0d0887\"], [0.1111111111111111, \"#46039f\"], [0.2222222222222222, \"#7201a8\"], [0.3333333333333333, \"#9c179e\"], [0.4444444444444444, \"#bd3786\"], [0.5555555555555556, \"#d8576b\"], [0.6666666666666666, \"#ed7953\"], [0.7777777777777778, \"#fb9f3a\"], [0.8888888888888888, \"#fdca26\"], [1.0, \"#f0f921\"]]}, \"colorway\": [\"#636efa\", \"#EF553B\", \"#00cc96\", \"#ab63fa\", \"#FFA15A\", \"#19d3f3\", \"#FF6692\", \"#B6E880\", \"#FF97FF\", \"#FECB52\"], \"font\": {\"color\": \"#2a3f5f\"}, \"geo\": {\"bgcolor\": \"white\", \"lakecolor\": \"white\", \"landcolor\": \"#E5ECF6\", \"showlakes\": true, \"showland\": true, \"subunitcolor\": \"white\"}, \"hoverlabel\": {\"align\": \"left\"}, \"hovermode\": \"closest\", \"mapbox\": {\"style\": \"light\"}, \"paper_bgcolor\": \"white\", \"plot_bgcolor\": \"#E5ECF6\", \"polar\": {\"angularaxis\": {\"gridcolor\": \"white\", \"linecolor\": \"white\", \"ticks\": \"\"}, \"bgcolor\": \"#E5ECF6\", \"radialaxis\": {\"gridcolor\": \"white\", \"linecolor\": \"white\", \"ticks\": \"\"}}, \"scene\": {\"xaxis\": {\"backgroundcolor\": \"#E5ECF6\", \"gridcolor\": \"white\", \"gridwidth\": 2, \"linecolor\": \"white\", \"showbackground\": true, \"ticks\": \"\", \"zerolinecolor\": \"white\"}, \"yaxis\": {\"backgroundcolor\": \"#E5ECF6\", \"gridcolor\": \"white\", \"gridwidth\": 2, \"linecolor\": \"white\", \"showbackground\": true, \"ticks\": \"\", \"zerolinecolor\": \"white\"}, \"zaxis\": {\"backgroundcolor\": \"#E5ECF6\", \"gridcolor\": \"white\", \"gridwidth\": 2, \"linecolor\": \"white\", \"showbackground\": true, \"ticks\": \"\", \"zerolinecolor\": \"white\"}}, \"shapedefaults\": {\"line\": {\"color\": \"#2a3f5f\"}}, \"ternary\": {\"aaxis\": {\"gridcolor\": \"white\", \"linecolor\": \"white\", \"ticks\": \"\"}, \"baxis\": {\"gridcolor\": \"white\", \"linecolor\": \"white\", \"ticks\": \"\"}, \"bgcolor\": \"#E5ECF6\", \"caxis\": {\"gridcolor\": \"white\", \"linecolor\": \"white\", \"ticks\": \"\"}}, \"title\": {\"x\": 0.05}, \"xaxis\": {\"automargin\": true, \"gridcolor\": \"white\", \"linecolor\": \"white\", \"ticks\": \"\", \"title\": {\"standoff\": 15}, \"zerolinecolor\": \"white\", \"zerolinewidth\": 2}, \"yaxis\": {\"automargin\": true, \"gridcolor\": \"white\", \"linecolor\": \"white\", \"ticks\": \"\", \"title\": {\"standoff\": 15}, \"zerolinecolor\": \"white\", \"zerolinewidth\": 2}}}, \"title\": {\"text\": \"CyberBattle simulation\"}, \"width\": 800, \"xaxis\": {\"anchor\": \"y\", \"domain\": [0.0, 0.45]}, \"xaxis2\": {\"anchor\": \"y2\", \"domain\": [0.55, 1.0]}, \"yaxis\": {\"anchor\": \"x\", \"domain\": [0.0, 1.0]}, \"yaxis2\": {\"anchor\": \"x2\", \"domain\": [0.0, 1.0]}},                        {\"responsive\": true}                    ).then(function(){\n",
       "                            \n",
       "var gd = document.getElementById('688dc879-85d3-4262-8a57-a47d23a4e3d0');\n",
       "var x = new MutationObserver(function (mutations, observer) {{\n",
       "        var display = window.getComputedStyle(gd).display;\n",
       "        if (!display || display === 'none') {{\n",
       "            console.log([gd, 'removed!']);\n",
       "            Plotly.purge(gd);\n",
       "            observer.disconnect();\n",
       "        }}\n",
       "}});\n",
       "\n",
       "// Listen for the removal of the full notebook cells\n",
       "var notebookContainer = gd.closest('#notebook-container');\n",
       "if (notebookContainer) {{\n",
       "    x.observe(notebookContainer, {childList: true});\n",
       "}}\n",
       "\n",
       "// Listen for the clearing of the current output cell\n",
       "var outputEl = gd.closest('.output');\n",
       "if (outputEl) {{\n",
       "    x.observe(outputEl, {childList: true});\n",
       "}}\n",
       "\n",
       "                        })                };                });            </script>        </div>"
      ]
     },
     "metadata": {},
     "output_type": "display_data"
    },
    {
     "name": "stdout",
     "output_type": "stream",
     "text": [
      "\n",
      "Step: 2, sample all actions under action_mask(bruteforce search)\n",
      "\t{'local_vulnerability': array([0, 0], dtype=int32)}\tlocal_vulnerability(`client, SearchEdgeHistory)\n",
      "\t{'remote_vulnerability': array([0, 1, 1], dtype=int32)}\tremote_vulnerability(`client, `Website, ScanPageSource)\n",
      "\t{'remote_vulnerability': array([0, 1, 0], dtype=int32)}\tremote_vulnerability(`client, `Website, NavigateWebDirectoryFurther)\n",
      "\t{'remote_vulnerability': array([0, 0, 0], dtype=int32)}\tremote_vulnerability(`client, `client, NavigateWebDirectoryFurther)\n",
      "\t{'remote_vulnerability': array([0, 0, 1], dtype=int32)}\tremote_vulnerability(`client, `client, ScanPageSource)\n",
      "\t{'remote_vulnerability': array([0, 2, 1], dtype=int32)}\tremote_vulnerability(`client, `Website.Directory, ScanPageSource)\n",
      "\t{'remote_vulnerability': array([0, 2, 0], dtype=int32)}\tremote_vulnerability(`client, `Website.Directory, NavigateWebDirectoryFurther)\n",
      "\n",
      "Executed: \n",
      " = t=2 exploit r=0.0 cum_reward:22.0 a=[abstract_action=1, actor=0, state=[2. 1. 0. 1. 0. 0. 0. 0. 0. 0. 0. 0. 0. 1. 0. 0. 0. 0. 2.]]-{'remote_vulnerability': array([0, 1, 0])} creds=0  \n"
     ]
    },
    {
     "data": {
      "text/html": [
       "<div>\n",
       "<style scoped>\n",
       "    .dataframe tbody tr th:only-of-type {\n",
       "        vertical-align: middle;\n",
       "    }\n",
       "\n",
       "    .dataframe tbody tr th {\n",
       "        vertical-align: top;\n",
       "    }\n",
       "\n",
       "    .dataframe thead th {\n",
       "        text-align: right;\n",
       "    }\n",
       "</style>\n",
       "<table border=\"1\" class=\"dataframe\">\n",
       "  <thead>\n",
       "    <tr style=\"text-align: right;\">\n",
       "      <th></th>\n",
       "      <th>internal index</th>\n",
       "      <th>status</th>\n",
       "      <th>properties</th>\n",
       "      <th>discovered node properties</th>\n",
       "      <th>local_attacks</th>\n",
       "      <th>remote_attacks</th>\n",
       "      <th>gathered_credentials (no restrict to node)</th>\n",
       "      <th>discovered profiles</th>\n",
       "    </tr>\n",
       "    <tr>\n",
       "      <th>id</th>\n",
       "      <th></th>\n",
       "      <th></th>\n",
       "      <th></th>\n",
       "      <th></th>\n",
       "      <th></th>\n",
       "      <th></th>\n",
       "      <th></th>\n",
       "      <th></th>\n",
       "    </tr>\n",
       "  </thead>\n",
       "  <tbody>\n",
       "    <tr>\n",
       "      <th>client</th>\n",
       "      <td>0</td>\n",
       "      <td>owned</td>\n",
       "      <td>[CLIENT:Win10]</td>\n",
       "      <td>[CLIENT:Win10]</td>\n",
       "      <td>[SearchEdgeHistory]</td>\n",
       "      <td>[]</td>\n",
       "      <td>{}</td>\n",
       "      <td></td>\n",
       "    </tr>\n",
       "    <tr>\n",
       "      <th>Website</th>\n",
       "      <td>1</td>\n",
       "      <td>discovered</td>\n",
       "      <td>[MySql, Ubuntu, nginx/1.10.3]</td>\n",
       "      <td>[]</td>\n",
       "      <td>None</td>\n",
       "      <td>[ScanPageSource]</td>\n",
       "      <td>{}</td>\n",
       "      <td></td>\n",
       "    </tr>\n",
       "    <tr>\n",
       "      <th>Website.Directory</th>\n",
       "      <td>2</td>\n",
       "      <td>discovered</td>\n",
       "      <td>[Ubuntu, nginx/1.10.3, CTFFLAG:Readme.txt-Disc...</td>\n",
       "      <td>[]</td>\n",
       "      <td>None</td>\n",
       "      <td>[NavigateWebDirectoryFurther]</td>\n",
       "      <td>{}</td>\n",
       "      <td></td>\n",
       "    </tr>\n",
       "  </tbody>\n",
       "</table>\n",
       "</div>"
      ],
      "text/plain": [
       "                   internal index      status  \\\n",
       "id                                              \n",
       "client                          0       owned   \n",
       "Website                         1  discovered   \n",
       "Website.Directory               2  discovered   \n",
       "\n",
       "                                                          properties  \\\n",
       "id                                                                     \n",
       "client                                                [CLIENT:Win10]   \n",
       "Website                                [MySql, Ubuntu, nginx/1.10.3]   \n",
       "Website.Directory  [Ubuntu, nginx/1.10.3, CTFFLAG:Readme.txt-Disc...   \n",
       "\n",
       "                  discovered node properties        local_attacks  \\\n",
       "id                                                                  \n",
       "client                        [CLIENT:Win10]  [SearchEdgeHistory]   \n",
       "Website                                   []                 None   \n",
       "Website.Directory                         []                 None   \n",
       "\n",
       "                                  remote_attacks  \\\n",
       "id                                                 \n",
       "client                                        []   \n",
       "Website                         [ScanPageSource]   \n",
       "Website.Directory  [NavigateWebDirectoryFurther]   \n",
       "\n",
       "                  gathered_credentials (no restrict to node)  \\\n",
       "id                                                             \n",
       "client                                                    {}   \n",
       "Website                                                   {}   \n",
       "Website.Directory                                         {}   \n",
       "\n",
       "                  discovered profiles  \n",
       "id                                     \n",
       "client                                 \n",
       "Website                                \n",
       "Website.Directory                      "
      ]
     },
     "metadata": {},
     "output_type": "display_data"
    },
    {
     "data": {
      "application/vnd.plotly.v1+json": {
       "config": {
        "plotlyServerURL": "https://plot.ly"
       },
       "data": [
        {
         "name": "cumulative reward",
         "type": "scatter",
         "xaxis": "x",
         "y": [
          11,
          22,
          22
         ],
         "yaxis": "y"
        },
        {
         "line": {
          "color": "gray"
         },
         "mode": "lines",
         "name": "KNOWS",
         "type": "scatter",
         "x": [
          0
         ],
         "xaxis": "x2",
         "y": [
          0
         ],
         "yaxis": "y2"
        },
        {
         "line": {
          "color": "orange"
         },
         "mode": "lines",
         "name": "REMOTE_EXPLOIT",
         "type": "scatter",
         "x": [
          0
         ],
         "xaxis": "x2",
         "y": [
          0
         ],
         "yaxis": "y2"
        },
        {
         "line": {
          "color": "red"
         },
         "mode": "lines",
         "name": "LATERAL_MOVE",
         "type": "scatter",
         "x": [
          0
         ],
         "xaxis": "x2",
         "y": [
          0
         ],
         "yaxis": "y2"
        },
        {
         "hoverinfo": "text",
         "marker": {
          "color": "#D32F2E",
          "line": {
           "color": "rgb(255,0,0)",
           "width": 8
          },
          "size": 5,
          "symbol": "circle-dot"
         },
         "mode": "markers+text",
         "name": "owned",
         "text": [
          "client"
         ],
         "textposition": "bottom center",
         "type": "scatter",
         "x": [
          0
         ],
         "xaxis": "x2",
         "y": [
          0
         ],
         "yaxis": "y2"
        },
        {
         "hoverinfo": "text",
         "marker": {
          "color": "#0e9d00",
          "line": {
           "color": "rgb(0,255,0)",
           "width": 8
          },
          "size": 5,
          "symbol": "circle-dot"
         },
         "mode": "markers+text",
         "name": "discovered",
         "text": [
          "Website",
          "Website.Directory"
         ],
         "textposition": "bottom center",
         "type": "scatter",
         "x": [
          -0.5,
          0.5
         ],
         "xaxis": "x2",
         "y": [
          -4.371138828673793e-08,
          8.742277657347586e-08
         ],
         "yaxis": "y2"
        }
       ],
       "layout": {
        "annotations": [
         {
          "align": "center",
          "arrowcolor": "gray",
          "arrowhead": 1,
          "arrowsize": 1,
          "arrowwidth": 1,
          "ax": -0.5,
          "axref": "x2",
          "ay": -4.371138828673793e-08,
          "ayref": "y2",
          "hovertext": "KNOWS",
          "opacity": 1,
          "showarrow": true,
          "standoff": 10,
          "startstandoff": 10,
          "x": 0.5,
          "xref": "x2",
          "y": 8.742277657347586e-08,
          "yref": "y2"
         },
         {
          "align": "center",
          "arrowcolor": "orange",
          "arrowhead": 1,
          "arrowsize": 1,
          "arrowwidth": 1,
          "ax": 0,
          "axref": "x2",
          "ay": 0,
          "ayref": "y2",
          "hovertext": "REMOTE_EXPLOIT",
          "opacity": 1,
          "showarrow": true,
          "standoff": 10,
          "startstandoff": 10,
          "x": -0.5,
          "xref": "x2",
          "y": -4.371138828673793e-08,
          "yref": "y2"
         }
        ],
        "autosize": false,
        "font": {
         "size": 10
        },
        "height": 400,
        "hovermode": "closest",
        "margin": {
         "b": 15,
         "l": 2,
         "r": 2,
         "t": 35
        },
        "showlegend": true,
        "template": {
         "data": {
          "bar": [
           {
            "error_x": {
             "color": "#2a3f5f"
            },
            "error_y": {
             "color": "#2a3f5f"
            },
            "marker": {
             "line": {
              "color": "#E5ECF6",
              "width": 0.5
             }
            },
            "type": "bar"
           }
          ],
          "barpolar": [
           {
            "marker": {
             "line": {
              "color": "#E5ECF6",
              "width": 0.5
             }
            },
            "type": "barpolar"
           }
          ],
          "carpet": [
           {
            "aaxis": {
             "endlinecolor": "#2a3f5f",
             "gridcolor": "white",
             "linecolor": "white",
             "minorgridcolor": "white",
             "startlinecolor": "#2a3f5f"
            },
            "baxis": {
             "endlinecolor": "#2a3f5f",
             "gridcolor": "white",
             "linecolor": "white",
             "minorgridcolor": "white",
             "startlinecolor": "#2a3f5f"
            },
            "type": "carpet"
           }
          ],
          "choropleth": [
           {
            "colorbar": {
             "outlinewidth": 0,
             "ticks": ""
            },
            "type": "choropleth"
           }
          ],
          "contour": [
           {
            "colorbar": {
             "outlinewidth": 0,
             "ticks": ""
            },
            "colorscale": [
             [
              0,
              "#0d0887"
             ],
             [
              0.1111111111111111,
              "#46039f"
             ],
             [
              0.2222222222222222,
              "#7201a8"
             ],
             [
              0.3333333333333333,
              "#9c179e"
             ],
             [
              0.4444444444444444,
              "#bd3786"
             ],
             [
              0.5555555555555556,
              "#d8576b"
             ],
             [
              0.6666666666666666,
              "#ed7953"
             ],
             [
              0.7777777777777778,
              "#fb9f3a"
             ],
             [
              0.8888888888888888,
              "#fdca26"
             ],
             [
              1,
              "#f0f921"
             ]
            ],
            "type": "contour"
           }
          ],
          "contourcarpet": [
           {
            "colorbar": {
             "outlinewidth": 0,
             "ticks": ""
            },
            "type": "contourcarpet"
           }
          ],
          "heatmap": [
           {
            "colorbar": {
             "outlinewidth": 0,
             "ticks": ""
            },
            "colorscale": [
             [
              0,
              "#0d0887"
             ],
             [
              0.1111111111111111,
              "#46039f"
             ],
             [
              0.2222222222222222,
              "#7201a8"
             ],
             [
              0.3333333333333333,
              "#9c179e"
             ],
             [
              0.4444444444444444,
              "#bd3786"
             ],
             [
              0.5555555555555556,
              "#d8576b"
             ],
             [
              0.6666666666666666,
              "#ed7953"
             ],
             [
              0.7777777777777778,
              "#fb9f3a"
             ],
             [
              0.8888888888888888,
              "#fdca26"
             ],
             [
              1,
              "#f0f921"
             ]
            ],
            "type": "heatmap"
           }
          ],
          "heatmapgl": [
           {
            "colorbar": {
             "outlinewidth": 0,
             "ticks": ""
            },
            "colorscale": [
             [
              0,
              "#0d0887"
             ],
             [
              0.1111111111111111,
              "#46039f"
             ],
             [
              0.2222222222222222,
              "#7201a8"
             ],
             [
              0.3333333333333333,
              "#9c179e"
             ],
             [
              0.4444444444444444,
              "#bd3786"
             ],
             [
              0.5555555555555556,
              "#d8576b"
             ],
             [
              0.6666666666666666,
              "#ed7953"
             ],
             [
              0.7777777777777778,
              "#fb9f3a"
             ],
             [
              0.8888888888888888,
              "#fdca26"
             ],
             [
              1,
              "#f0f921"
             ]
            ],
            "type": "heatmapgl"
           }
          ],
          "histogram": [
           {
            "marker": {
             "colorbar": {
              "outlinewidth": 0,
              "ticks": ""
             }
            },
            "type": "histogram"
           }
          ],
          "histogram2d": [
           {
            "colorbar": {
             "outlinewidth": 0,
             "ticks": ""
            },
            "colorscale": [
             [
              0,
              "#0d0887"
             ],
             [
              0.1111111111111111,
              "#46039f"
             ],
             [
              0.2222222222222222,
              "#7201a8"
             ],
             [
              0.3333333333333333,
              "#9c179e"
             ],
             [
              0.4444444444444444,
              "#bd3786"
             ],
             [
              0.5555555555555556,
              "#d8576b"
             ],
             [
              0.6666666666666666,
              "#ed7953"
             ],
             [
              0.7777777777777778,
              "#fb9f3a"
             ],
             [
              0.8888888888888888,
              "#fdca26"
             ],
             [
              1,
              "#f0f921"
             ]
            ],
            "type": "histogram2d"
           }
          ],
          "histogram2dcontour": [
           {
            "colorbar": {
             "outlinewidth": 0,
             "ticks": ""
            },
            "colorscale": [
             [
              0,
              "#0d0887"
             ],
             [
              0.1111111111111111,
              "#46039f"
             ],
             [
              0.2222222222222222,
              "#7201a8"
             ],
             [
              0.3333333333333333,
              "#9c179e"
             ],
             [
              0.4444444444444444,
              "#bd3786"
             ],
             [
              0.5555555555555556,
              "#d8576b"
             ],
             [
              0.6666666666666666,
              "#ed7953"
             ],
             [
              0.7777777777777778,
              "#fb9f3a"
             ],
             [
              0.8888888888888888,
              "#fdca26"
             ],
             [
              1,
              "#f0f921"
             ]
            ],
            "type": "histogram2dcontour"
           }
          ],
          "mesh3d": [
           {
            "colorbar": {
             "outlinewidth": 0,
             "ticks": ""
            },
            "type": "mesh3d"
           }
          ],
          "parcoords": [
           {
            "line": {
             "colorbar": {
              "outlinewidth": 0,
              "ticks": ""
             }
            },
            "type": "parcoords"
           }
          ],
          "pie": [
           {
            "automargin": true,
            "type": "pie"
           }
          ],
          "scatter": [
           {
            "marker": {
             "colorbar": {
              "outlinewidth": 0,
              "ticks": ""
             }
            },
            "type": "scatter"
           }
          ],
          "scatter3d": [
           {
            "line": {
             "colorbar": {
              "outlinewidth": 0,
              "ticks": ""
             }
            },
            "marker": {
             "colorbar": {
              "outlinewidth": 0,
              "ticks": ""
             }
            },
            "type": "scatter3d"
           }
          ],
          "scattercarpet": [
           {
            "marker": {
             "colorbar": {
              "outlinewidth": 0,
              "ticks": ""
             }
            },
            "type": "scattercarpet"
           }
          ],
          "scattergeo": [
           {
            "marker": {
             "colorbar": {
              "outlinewidth": 0,
              "ticks": ""
             }
            },
            "type": "scattergeo"
           }
          ],
          "scattergl": [
           {
            "marker": {
             "colorbar": {
              "outlinewidth": 0,
              "ticks": ""
             }
            },
            "type": "scattergl"
           }
          ],
          "scattermapbox": [
           {
            "marker": {
             "colorbar": {
              "outlinewidth": 0,
              "ticks": ""
             }
            },
            "type": "scattermapbox"
           }
          ],
          "scatterpolar": [
           {
            "marker": {
             "colorbar": {
              "outlinewidth": 0,
              "ticks": ""
             }
            },
            "type": "scatterpolar"
           }
          ],
          "scatterpolargl": [
           {
            "marker": {
             "colorbar": {
              "outlinewidth": 0,
              "ticks": ""
             }
            },
            "type": "scatterpolargl"
           }
          ],
          "scatterternary": [
           {
            "marker": {
             "colorbar": {
              "outlinewidth": 0,
              "ticks": ""
             }
            },
            "type": "scatterternary"
           }
          ],
          "surface": [
           {
            "colorbar": {
             "outlinewidth": 0,
             "ticks": ""
            },
            "colorscale": [
             [
              0,
              "#0d0887"
             ],
             [
              0.1111111111111111,
              "#46039f"
             ],
             [
              0.2222222222222222,
              "#7201a8"
             ],
             [
              0.3333333333333333,
              "#9c179e"
             ],
             [
              0.4444444444444444,
              "#bd3786"
             ],
             [
              0.5555555555555556,
              "#d8576b"
             ],
             [
              0.6666666666666666,
              "#ed7953"
             ],
             [
              0.7777777777777778,
              "#fb9f3a"
             ],
             [
              0.8888888888888888,
              "#fdca26"
             ],
             [
              1,
              "#f0f921"
             ]
            ],
            "type": "surface"
           }
          ],
          "table": [
           {
            "cells": {
             "fill": {
              "color": "#EBF0F8"
             },
             "line": {
              "color": "white"
             }
            },
            "header": {
             "fill": {
              "color": "#C8D4E3"
             },
             "line": {
              "color": "white"
             }
            },
            "type": "table"
           }
          ]
         },
         "layout": {
          "annotationdefaults": {
           "arrowcolor": "#2a3f5f",
           "arrowhead": 0,
           "arrowwidth": 1
          },
          "coloraxis": {
           "colorbar": {
            "outlinewidth": 0,
            "ticks": ""
           }
          },
          "colorscale": {
           "diverging": [
            [
             0,
             "#8e0152"
            ],
            [
             0.1,
             "#c51b7d"
            ],
            [
             0.2,
             "#de77ae"
            ],
            [
             0.3,
             "#f1b6da"
            ],
            [
             0.4,
             "#fde0ef"
            ],
            [
             0.5,
             "#f7f7f7"
            ],
            [
             0.6,
             "#e6f5d0"
            ],
            [
             0.7,
             "#b8e186"
            ],
            [
             0.8,
             "#7fbc41"
            ],
            [
             0.9,
             "#4d9221"
            ],
            [
             1,
             "#276419"
            ]
           ],
           "sequential": [
            [
             0,
             "#0d0887"
            ],
            [
             0.1111111111111111,
             "#46039f"
            ],
            [
             0.2222222222222222,
             "#7201a8"
            ],
            [
             0.3333333333333333,
             "#9c179e"
            ],
            [
             0.4444444444444444,
             "#bd3786"
            ],
            [
             0.5555555555555556,
             "#d8576b"
            ],
            [
             0.6666666666666666,
             "#ed7953"
            ],
            [
             0.7777777777777778,
             "#fb9f3a"
            ],
            [
             0.8888888888888888,
             "#fdca26"
            ],
            [
             1,
             "#f0f921"
            ]
           ],
           "sequentialminus": [
            [
             0,
             "#0d0887"
            ],
            [
             0.1111111111111111,
             "#46039f"
            ],
            [
             0.2222222222222222,
             "#7201a8"
            ],
            [
             0.3333333333333333,
             "#9c179e"
            ],
            [
             0.4444444444444444,
             "#bd3786"
            ],
            [
             0.5555555555555556,
             "#d8576b"
            ],
            [
             0.6666666666666666,
             "#ed7953"
            ],
            [
             0.7777777777777778,
             "#fb9f3a"
            ],
            [
             0.8888888888888888,
             "#fdca26"
            ],
            [
             1,
             "#f0f921"
            ]
           ]
          },
          "colorway": [
           "#636efa",
           "#EF553B",
           "#00cc96",
           "#ab63fa",
           "#FFA15A",
           "#19d3f3",
           "#FF6692",
           "#B6E880",
           "#FF97FF",
           "#FECB52"
          ],
          "font": {
           "color": "#2a3f5f"
          },
          "geo": {
           "bgcolor": "white",
           "lakecolor": "white",
           "landcolor": "#E5ECF6",
           "showlakes": true,
           "showland": true,
           "subunitcolor": "white"
          },
          "hoverlabel": {
           "align": "left"
          },
          "hovermode": "closest",
          "mapbox": {
           "style": "light"
          },
          "paper_bgcolor": "white",
          "plot_bgcolor": "#E5ECF6",
          "polar": {
           "angularaxis": {
            "gridcolor": "white",
            "linecolor": "white",
            "ticks": ""
           },
           "bgcolor": "#E5ECF6",
           "radialaxis": {
            "gridcolor": "white",
            "linecolor": "white",
            "ticks": ""
           }
          },
          "scene": {
           "xaxis": {
            "backgroundcolor": "#E5ECF6",
            "gridcolor": "white",
            "gridwidth": 2,
            "linecolor": "white",
            "showbackground": true,
            "ticks": "",
            "zerolinecolor": "white"
           },
           "yaxis": {
            "backgroundcolor": "#E5ECF6",
            "gridcolor": "white",
            "gridwidth": 2,
            "linecolor": "white",
            "showbackground": true,
            "ticks": "",
            "zerolinecolor": "white"
           },
           "zaxis": {
            "backgroundcolor": "#E5ECF6",
            "gridcolor": "white",
            "gridwidth": 2,
            "linecolor": "white",
            "showbackground": true,
            "ticks": "",
            "zerolinecolor": "white"
           }
          },
          "shapedefaults": {
           "line": {
            "color": "#2a3f5f"
           }
          },
          "ternary": {
           "aaxis": {
            "gridcolor": "white",
            "linecolor": "white",
            "ticks": ""
           },
           "baxis": {
            "gridcolor": "white",
            "linecolor": "white",
            "ticks": ""
           },
           "bgcolor": "#E5ECF6",
           "caxis": {
            "gridcolor": "white",
            "linecolor": "white",
            "ticks": ""
           }
          },
          "title": {
           "x": 0.05
          },
          "xaxis": {
           "automargin": true,
           "gridcolor": "white",
           "linecolor": "white",
           "ticks": "",
           "title": {
            "standoff": 15
           },
           "zerolinecolor": "white",
           "zerolinewidth": 2
          },
          "yaxis": {
           "automargin": true,
           "gridcolor": "white",
           "linecolor": "white",
           "ticks": "",
           "title": {
            "standoff": 15
           },
           "zerolinecolor": "white",
           "zerolinewidth": 2
          }
         }
        },
        "title": {
         "text": "CyberBattle simulation"
        },
        "width": 800,
        "xaxis": {
         "anchor": "y",
         "domain": [
          0,
          0.45
         ]
        },
        "xaxis2": {
         "anchor": "y2",
         "domain": [
          0.55,
          1
         ]
        },
        "yaxis": {
         "anchor": "x",
         "domain": [
          0,
          1
         ]
        },
        "yaxis2": {
         "anchor": "x2",
         "domain": [
          0,
          1
         ]
        }
       }
      },
      "text/html": [
       "<div>                            <div id=\"011261e6-d113-4087-9373-2407e188d884\" class=\"plotly-graph-div\" style=\"height:400px; width:800px;\"></div>            <script type=\"text/javascript\">                require([\"plotly\"], function(Plotly) {                    window.PLOTLYENV=window.PLOTLYENV || {};                                    if (document.getElementById(\"011261e6-d113-4087-9373-2407e188d884\")) {                    Plotly.newPlot(                        \"011261e6-d113-4087-9373-2407e188d884\",                        [{\"name\": \"cumulative reward\", \"type\": \"scatter\", \"xaxis\": \"x\", \"y\": [11.0, 22.0, 22.0], \"yaxis\": \"y\"}, {\"line\": {\"color\": \"gray\"}, \"mode\": \"lines\", \"name\": \"KNOWS\", \"type\": \"scatter\", \"x\": [0], \"xaxis\": \"x2\", \"y\": [0], \"yaxis\": \"y2\"}, {\"line\": {\"color\": \"orange\"}, \"mode\": \"lines\", \"name\": \"REMOTE_EXPLOIT\", \"type\": \"scatter\", \"x\": [0], \"xaxis\": \"x2\", \"y\": [0], \"yaxis\": \"y2\"}, {\"line\": {\"color\": \"red\"}, \"mode\": \"lines\", \"name\": \"LATERAL_MOVE\", \"type\": \"scatter\", \"x\": [0], \"xaxis\": \"x2\", \"y\": [0], \"yaxis\": \"y2\"}, {\"hoverinfo\": \"text\", \"marker\": {\"color\": \"#D32F2E\", \"line\": {\"color\": \"rgb(255,0,0)\", \"width\": 8}, \"size\": 5, \"symbol\": \"circle-dot\"}, \"mode\": \"markers+text\", \"name\": \"owned\", \"text\": [\"client\"], \"textposition\": \"bottom center\", \"type\": \"scatter\", \"x\": [0.0], \"xaxis\": \"x2\", \"y\": [0.0], \"yaxis\": \"y2\"}, {\"hoverinfo\": \"text\", \"marker\": {\"color\": \"#0e9d00\", \"line\": {\"color\": \"rgb(0,255,0)\", \"width\": 8}, \"size\": 5, \"symbol\": \"circle-dot\"}, \"mode\": \"markers+text\", \"name\": \"discovered\", \"text\": [\"Website\", \"Website.Directory\"], \"textposition\": \"bottom center\", \"type\": \"scatter\", \"x\": [-0.5, 0.5], \"xaxis\": \"x2\", \"y\": [-4.371138828673793e-08, 8.742277657347586e-08], \"yaxis\": \"y2\"}],                        {\"annotations\": [{\"align\": \"center\", \"arrowcolor\": \"gray\", \"arrowhead\": 1, \"arrowsize\": 1, \"arrowwidth\": 1, \"ax\": -0.5, \"axref\": \"x2\", \"ay\": -4.371138828673793e-08, \"ayref\": \"y2\", \"hovertext\": \"KNOWS\", \"opacity\": 1, \"showarrow\": true, \"standoff\": 10, \"startstandoff\": 10, \"x\": 0.5, \"xref\": \"x2\", \"y\": 8.742277657347586e-08, \"yref\": \"y2\"}, {\"align\": \"center\", \"arrowcolor\": \"orange\", \"arrowhead\": 1, \"arrowsize\": 1, \"arrowwidth\": 1, \"ax\": 0.0, \"axref\": \"x2\", \"ay\": 0.0, \"ayref\": \"y2\", \"hovertext\": \"REMOTE_EXPLOIT\", \"opacity\": 1, \"showarrow\": true, \"standoff\": 10, \"startstandoff\": 10, \"x\": -0.5, \"xref\": \"x2\", \"y\": -4.371138828673793e-08, \"yref\": \"y2\"}], \"autosize\": false, \"font\": {\"size\": 10}, \"height\": 400, \"hovermode\": \"closest\", \"margin\": {\"b\": 15, \"l\": 2, \"r\": 2, \"t\": 35}, \"showlegend\": true, \"template\": {\"data\": {\"bar\": [{\"error_x\": {\"color\": \"#2a3f5f\"}, \"error_y\": {\"color\": \"#2a3f5f\"}, \"marker\": {\"line\": {\"color\": \"#E5ECF6\", \"width\": 0.5}}, \"type\": \"bar\"}], \"barpolar\": [{\"marker\": {\"line\": {\"color\": \"#E5ECF6\", \"width\": 0.5}}, \"type\": \"barpolar\"}], \"carpet\": [{\"aaxis\": {\"endlinecolor\": \"#2a3f5f\", \"gridcolor\": \"white\", \"linecolor\": \"white\", \"minorgridcolor\": \"white\", \"startlinecolor\": \"#2a3f5f\"}, \"baxis\": {\"endlinecolor\": \"#2a3f5f\", \"gridcolor\": \"white\", \"linecolor\": \"white\", \"minorgridcolor\": \"white\", \"startlinecolor\": \"#2a3f5f\"}, \"type\": \"carpet\"}], \"choropleth\": [{\"colorbar\": {\"outlinewidth\": 0, \"ticks\": \"\"}, \"type\": \"choropleth\"}], \"contour\": [{\"colorbar\": {\"outlinewidth\": 0, \"ticks\": \"\"}, \"colorscale\": [[0.0, \"#0d0887\"], [0.1111111111111111, \"#46039f\"], [0.2222222222222222, \"#7201a8\"], [0.3333333333333333, \"#9c179e\"], [0.4444444444444444, \"#bd3786\"], [0.5555555555555556, \"#d8576b\"], [0.6666666666666666, \"#ed7953\"], [0.7777777777777778, \"#fb9f3a\"], [0.8888888888888888, \"#fdca26\"], [1.0, \"#f0f921\"]], \"type\": \"contour\"}], \"contourcarpet\": [{\"colorbar\": {\"outlinewidth\": 0, \"ticks\": \"\"}, \"type\": \"contourcarpet\"}], \"heatmap\": [{\"colorbar\": {\"outlinewidth\": 0, \"ticks\": \"\"}, \"colorscale\": [[0.0, \"#0d0887\"], [0.1111111111111111, \"#46039f\"], [0.2222222222222222, \"#7201a8\"], [0.3333333333333333, \"#9c179e\"], [0.4444444444444444, \"#bd3786\"], [0.5555555555555556, \"#d8576b\"], [0.6666666666666666, \"#ed7953\"], [0.7777777777777778, \"#fb9f3a\"], [0.8888888888888888, \"#fdca26\"], [1.0, \"#f0f921\"]], \"type\": \"heatmap\"}], \"heatmapgl\": [{\"colorbar\": {\"outlinewidth\": 0, \"ticks\": \"\"}, \"colorscale\": [[0.0, \"#0d0887\"], [0.1111111111111111, \"#46039f\"], [0.2222222222222222, \"#7201a8\"], [0.3333333333333333, \"#9c179e\"], [0.4444444444444444, \"#bd3786\"], [0.5555555555555556, \"#d8576b\"], [0.6666666666666666, \"#ed7953\"], [0.7777777777777778, \"#fb9f3a\"], [0.8888888888888888, \"#fdca26\"], [1.0, \"#f0f921\"]], \"type\": \"heatmapgl\"}], \"histogram\": [{\"marker\": {\"colorbar\": {\"outlinewidth\": 0, \"ticks\": \"\"}}, \"type\": \"histogram\"}], \"histogram2d\": [{\"colorbar\": {\"outlinewidth\": 0, \"ticks\": \"\"}, \"colorscale\": [[0.0, \"#0d0887\"], [0.1111111111111111, \"#46039f\"], [0.2222222222222222, \"#7201a8\"], [0.3333333333333333, \"#9c179e\"], [0.4444444444444444, \"#bd3786\"], [0.5555555555555556, \"#d8576b\"], [0.6666666666666666, \"#ed7953\"], [0.7777777777777778, \"#fb9f3a\"], [0.8888888888888888, \"#fdca26\"], [1.0, \"#f0f921\"]], \"type\": \"histogram2d\"}], \"histogram2dcontour\": [{\"colorbar\": {\"outlinewidth\": 0, \"ticks\": \"\"}, \"colorscale\": [[0.0, \"#0d0887\"], [0.1111111111111111, \"#46039f\"], [0.2222222222222222, \"#7201a8\"], [0.3333333333333333, \"#9c179e\"], [0.4444444444444444, \"#bd3786\"], [0.5555555555555556, \"#d8576b\"], [0.6666666666666666, \"#ed7953\"], [0.7777777777777778, \"#fb9f3a\"], [0.8888888888888888, \"#fdca26\"], [1.0, \"#f0f921\"]], \"type\": \"histogram2dcontour\"}], \"mesh3d\": [{\"colorbar\": {\"outlinewidth\": 0, \"ticks\": \"\"}, \"type\": \"mesh3d\"}], \"parcoords\": [{\"line\": {\"colorbar\": {\"outlinewidth\": 0, \"ticks\": \"\"}}, \"type\": \"parcoords\"}], \"pie\": [{\"automargin\": true, \"type\": \"pie\"}], \"scatter\": [{\"marker\": {\"colorbar\": {\"outlinewidth\": 0, \"ticks\": \"\"}}, \"type\": \"scatter\"}], \"scatter3d\": [{\"line\": {\"colorbar\": {\"outlinewidth\": 0, \"ticks\": \"\"}}, \"marker\": {\"colorbar\": {\"outlinewidth\": 0, \"ticks\": \"\"}}, \"type\": \"scatter3d\"}], \"scattercarpet\": [{\"marker\": {\"colorbar\": {\"outlinewidth\": 0, \"ticks\": \"\"}}, \"type\": \"scattercarpet\"}], \"scattergeo\": [{\"marker\": {\"colorbar\": {\"outlinewidth\": 0, \"ticks\": \"\"}}, \"type\": \"scattergeo\"}], \"scattergl\": [{\"marker\": {\"colorbar\": {\"outlinewidth\": 0, \"ticks\": \"\"}}, \"type\": \"scattergl\"}], \"scattermapbox\": [{\"marker\": {\"colorbar\": {\"outlinewidth\": 0, \"ticks\": \"\"}}, \"type\": \"scattermapbox\"}], \"scatterpolar\": [{\"marker\": {\"colorbar\": {\"outlinewidth\": 0, \"ticks\": \"\"}}, \"type\": \"scatterpolar\"}], \"scatterpolargl\": [{\"marker\": {\"colorbar\": {\"outlinewidth\": 0, \"ticks\": \"\"}}, \"type\": \"scatterpolargl\"}], \"scatterternary\": [{\"marker\": {\"colorbar\": {\"outlinewidth\": 0, \"ticks\": \"\"}}, \"type\": \"scatterternary\"}], \"surface\": [{\"colorbar\": {\"outlinewidth\": 0, \"ticks\": \"\"}, \"colorscale\": [[0.0, \"#0d0887\"], [0.1111111111111111, \"#46039f\"], [0.2222222222222222, \"#7201a8\"], [0.3333333333333333, \"#9c179e\"], [0.4444444444444444, \"#bd3786\"], [0.5555555555555556, \"#d8576b\"], [0.6666666666666666, \"#ed7953\"], [0.7777777777777778, \"#fb9f3a\"], [0.8888888888888888, \"#fdca26\"], [1.0, \"#f0f921\"]], \"type\": \"surface\"}], \"table\": [{\"cells\": {\"fill\": {\"color\": \"#EBF0F8\"}, \"line\": {\"color\": \"white\"}}, \"header\": {\"fill\": {\"color\": \"#C8D4E3\"}, \"line\": {\"color\": \"white\"}}, \"type\": \"table\"}]}, \"layout\": {\"annotationdefaults\": {\"arrowcolor\": \"#2a3f5f\", \"arrowhead\": 0, \"arrowwidth\": 1}, \"coloraxis\": {\"colorbar\": {\"outlinewidth\": 0, \"ticks\": \"\"}}, \"colorscale\": {\"diverging\": [[0, \"#8e0152\"], [0.1, \"#c51b7d\"], [0.2, \"#de77ae\"], [0.3, \"#f1b6da\"], [0.4, \"#fde0ef\"], [0.5, \"#f7f7f7\"], [0.6, \"#e6f5d0\"], [0.7, \"#b8e186\"], [0.8, \"#7fbc41\"], [0.9, \"#4d9221\"], [1, \"#276419\"]], \"sequential\": [[0.0, \"#0d0887\"], [0.1111111111111111, \"#46039f\"], [0.2222222222222222, \"#7201a8\"], [0.3333333333333333, \"#9c179e\"], [0.4444444444444444, \"#bd3786\"], [0.5555555555555556, \"#d8576b\"], [0.6666666666666666, \"#ed7953\"], [0.7777777777777778, \"#fb9f3a\"], [0.8888888888888888, \"#fdca26\"], [1.0, \"#f0f921\"]], \"sequentialminus\": [[0.0, \"#0d0887\"], [0.1111111111111111, \"#46039f\"], [0.2222222222222222, \"#7201a8\"], [0.3333333333333333, \"#9c179e\"], [0.4444444444444444, \"#bd3786\"], [0.5555555555555556, \"#d8576b\"], [0.6666666666666666, \"#ed7953\"], [0.7777777777777778, \"#fb9f3a\"], [0.8888888888888888, \"#fdca26\"], [1.0, \"#f0f921\"]]}, \"colorway\": [\"#636efa\", \"#EF553B\", \"#00cc96\", \"#ab63fa\", \"#FFA15A\", \"#19d3f3\", \"#FF6692\", \"#B6E880\", \"#FF97FF\", \"#FECB52\"], \"font\": {\"color\": \"#2a3f5f\"}, \"geo\": {\"bgcolor\": \"white\", \"lakecolor\": \"white\", \"landcolor\": \"#E5ECF6\", \"showlakes\": true, \"showland\": true, \"subunitcolor\": \"white\"}, \"hoverlabel\": {\"align\": \"left\"}, \"hovermode\": \"closest\", \"mapbox\": {\"style\": \"light\"}, \"paper_bgcolor\": \"white\", \"plot_bgcolor\": \"#E5ECF6\", \"polar\": {\"angularaxis\": {\"gridcolor\": \"white\", \"linecolor\": \"white\", \"ticks\": \"\"}, \"bgcolor\": \"#E5ECF6\", \"radialaxis\": {\"gridcolor\": \"white\", \"linecolor\": \"white\", \"ticks\": \"\"}}, \"scene\": {\"xaxis\": {\"backgroundcolor\": \"#E5ECF6\", \"gridcolor\": \"white\", \"gridwidth\": 2, \"linecolor\": \"white\", \"showbackground\": true, \"ticks\": \"\", \"zerolinecolor\": \"white\"}, \"yaxis\": {\"backgroundcolor\": \"#E5ECF6\", \"gridcolor\": \"white\", \"gridwidth\": 2, \"linecolor\": \"white\", \"showbackground\": true, \"ticks\": \"\", \"zerolinecolor\": \"white\"}, \"zaxis\": {\"backgroundcolor\": \"#E5ECF6\", \"gridcolor\": \"white\", \"gridwidth\": 2, \"linecolor\": \"white\", \"showbackground\": true, \"ticks\": \"\", \"zerolinecolor\": \"white\"}}, \"shapedefaults\": {\"line\": {\"color\": \"#2a3f5f\"}}, \"ternary\": {\"aaxis\": {\"gridcolor\": \"white\", \"linecolor\": \"white\", \"ticks\": \"\"}, \"baxis\": {\"gridcolor\": \"white\", \"linecolor\": \"white\", \"ticks\": \"\"}, \"bgcolor\": \"#E5ECF6\", \"caxis\": {\"gridcolor\": \"white\", \"linecolor\": \"white\", \"ticks\": \"\"}}, \"title\": {\"x\": 0.05}, \"xaxis\": {\"automargin\": true, \"gridcolor\": \"white\", \"linecolor\": \"white\", \"ticks\": \"\", \"title\": {\"standoff\": 15}, \"zerolinecolor\": \"white\", \"zerolinewidth\": 2}, \"yaxis\": {\"automargin\": true, \"gridcolor\": \"white\", \"linecolor\": \"white\", \"ticks\": \"\", \"title\": {\"standoff\": 15}, \"zerolinecolor\": \"white\", \"zerolinewidth\": 2}}}, \"title\": {\"text\": \"CyberBattle simulation\"}, \"width\": 800, \"xaxis\": {\"anchor\": \"y\", \"domain\": [0.0, 0.45]}, \"xaxis2\": {\"anchor\": \"y2\", \"domain\": [0.55, 1.0]}, \"yaxis\": {\"anchor\": \"x\", \"domain\": [0.0, 1.0]}, \"yaxis2\": {\"anchor\": \"x2\", \"domain\": [0.0, 1.0]}},                        {\"responsive\": true}                    ).then(function(){\n",
       "                            \n",
       "var gd = document.getElementById('011261e6-d113-4087-9373-2407e188d884');\n",
       "var x = new MutationObserver(function (mutations, observer) {{\n",
       "        var display = window.getComputedStyle(gd).display;\n",
       "        if (!display || display === 'none') {{\n",
       "            console.log([gd, 'removed!']);\n",
       "            Plotly.purge(gd);\n",
       "            observer.disconnect();\n",
       "        }}\n",
       "}});\n",
       "\n",
       "// Listen for the removal of the full notebook cells\n",
       "var notebookContainer = gd.closest('#notebook-container');\n",
       "if (notebookContainer) {{\n",
       "    x.observe(notebookContainer, {childList: true});\n",
       "}}\n",
       "\n",
       "// Listen for the clearing of the current output cell\n",
       "var outputEl = gd.closest('.output');\n",
       "if (outputEl) {{\n",
       "    x.observe(outputEl, {childList: true});\n",
       "}}\n",
       "\n",
       "                        })                };                });            </script>        </div>"
      ]
     },
     "metadata": {},
     "output_type": "display_data"
    },
    {
     "name": "stdout",
     "output_type": "stream",
     "text": [
      "\n",
      "Step: 3, sample all actions under action_mask(bruteforce search)\n",
      "\t{'local_vulnerability': array([0, 0], dtype=int32)}\tlocal_vulnerability(`client, SearchEdgeHistory)\n",
      "\t{'remote_vulnerability': array([0, 2, 1], dtype=int32)}\tremote_vulnerability(`client, `Website.Directory, ScanPageSource)\n",
      "\t{'remote_vulnerability': array([0, 1, 1], dtype=int32)}\tremote_vulnerability(`client, `Website, ScanPageSource)\n",
      "\t{'remote_vulnerability': array([0, 1, 0], dtype=int32)}\tremote_vulnerability(`client, `Website, NavigateWebDirectoryFurther)\n",
      "\t{'remote_vulnerability': array([0, 0, 0], dtype=int32)}\tremote_vulnerability(`client, `client, NavigateWebDirectoryFurther)\n",
      "\t{'remote_vulnerability': array([0, 2, 0], dtype=int32)}\tremote_vulnerability(`client, `Website.Directory, NavigateWebDirectoryFurther)\n",
      "\t{'remote_vulnerability': array([0, 0, 1], dtype=int32)}\tremote_vulnerability(`client, `client, ScanPageSource)\n",
      "\n",
      "Executed: \n",
      " + t=3 exploit r=9.0 cum_reward:31.0 a=[abstract_action=1, actor=0, state=[2. 1. 0. 1. 0. 0. 0. 0. 1. 0. 0. 0. 0. 1. 0. 0. 0. 0. 2.]]-{'remote_vulnerability': array([0, 2, 0])} creds=1  \n"
     ]
    },
    {
     "data": {
      "text/html": [
       "<div>\n",
       "<style scoped>\n",
       "    .dataframe tbody tr th:only-of-type {\n",
       "        vertical-align: middle;\n",
       "    }\n",
       "\n",
       "    .dataframe tbody tr th {\n",
       "        vertical-align: top;\n",
       "    }\n",
       "\n",
       "    .dataframe thead th {\n",
       "        text-align: right;\n",
       "    }\n",
       "</style>\n",
       "<table border=\"1\" class=\"dataframe\">\n",
       "  <thead>\n",
       "    <tr style=\"text-align: right;\">\n",
       "      <th></th>\n",
       "      <th>internal index</th>\n",
       "      <th>status</th>\n",
       "      <th>properties</th>\n",
       "      <th>discovered node properties</th>\n",
       "      <th>local_attacks</th>\n",
       "      <th>remote_attacks</th>\n",
       "      <th>gathered_credentials (no restrict to node)</th>\n",
       "      <th>discovered profiles</th>\n",
       "    </tr>\n",
       "    <tr>\n",
       "      <th>id</th>\n",
       "      <th></th>\n",
       "      <th></th>\n",
       "      <th></th>\n",
       "      <th></th>\n",
       "      <th></th>\n",
       "      <th></th>\n",
       "      <th></th>\n",
       "      <th></th>\n",
       "    </tr>\n",
       "  </thead>\n",
       "  <tbody>\n",
       "    <tr>\n",
       "      <th>client</th>\n",
       "      <td>0</td>\n",
       "      <td>owned</td>\n",
       "      <td>[CLIENT:Win10]</td>\n",
       "      <td>[CLIENT:Win10]</td>\n",
       "      <td>[SearchEdgeHistory]</td>\n",
       "      <td>[]</td>\n",
       "      <td>{ReusedMySqlCred-web}</td>\n",
       "      <td></td>\n",
       "    </tr>\n",
       "    <tr>\n",
       "      <th>Website</th>\n",
       "      <td>1</td>\n",
       "      <td>discovered</td>\n",
       "      <td>[MySql, Ubuntu, nginx/1.10.3]</td>\n",
       "      <td>[]</td>\n",
       "      <td>None</td>\n",
       "      <td>[ScanPageSource]</td>\n",
       "      <td>{ReusedMySqlCred-web}</td>\n",
       "      <td></td>\n",
       "    </tr>\n",
       "    <tr>\n",
       "      <th>Website.Directory</th>\n",
       "      <td>2</td>\n",
       "      <td>discovered</td>\n",
       "      <td>[Ubuntu, nginx/1.10.3, CTFFLAG:Readme.txt-Disc...</td>\n",
       "      <td>[]</td>\n",
       "      <td>None</td>\n",
       "      <td>[NavigateWebDirectoryFurther]</td>\n",
       "      <td>{ReusedMySqlCred-web}</td>\n",
       "      <td></td>\n",
       "    </tr>\n",
       "  </tbody>\n",
       "</table>\n",
       "</div>"
      ],
      "text/plain": [
       "                   internal index      status  \\\n",
       "id                                              \n",
       "client                          0       owned   \n",
       "Website                         1  discovered   \n",
       "Website.Directory               2  discovered   \n",
       "\n",
       "                                                          properties  \\\n",
       "id                                                                     \n",
       "client                                                [CLIENT:Win10]   \n",
       "Website                                [MySql, Ubuntu, nginx/1.10.3]   \n",
       "Website.Directory  [Ubuntu, nginx/1.10.3, CTFFLAG:Readme.txt-Disc...   \n",
       "\n",
       "                  discovered node properties        local_attacks  \\\n",
       "id                                                                  \n",
       "client                        [CLIENT:Win10]  [SearchEdgeHistory]   \n",
       "Website                                   []                 None   \n",
       "Website.Directory                         []                 None   \n",
       "\n",
       "                                  remote_attacks  \\\n",
       "id                                                 \n",
       "client                                        []   \n",
       "Website                         [ScanPageSource]   \n",
       "Website.Directory  [NavigateWebDirectoryFurther]   \n",
       "\n",
       "                  gathered_credentials (no restrict to node)  \\\n",
       "id                                                             \n",
       "client                                 {ReusedMySqlCred-web}   \n",
       "Website                                {ReusedMySqlCred-web}   \n",
       "Website.Directory                      {ReusedMySqlCred-web}   \n",
       "\n",
       "                  discovered profiles  \n",
       "id                                     \n",
       "client                                 \n",
       "Website                                \n",
       "Website.Directory                      "
      ]
     },
     "metadata": {},
     "output_type": "display_data"
    },
    {
     "data": {
      "application/vnd.plotly.v1+json": {
       "config": {
        "plotlyServerURL": "https://plot.ly"
       },
       "data": [
        {
         "name": "cumulative reward",
         "type": "scatter",
         "xaxis": "x",
         "y": [
          11,
          22,
          22,
          31
         ],
         "yaxis": "y"
        },
        {
         "line": {
          "color": "gray"
         },
         "mode": "lines",
         "name": "KNOWS",
         "type": "scatter",
         "x": [
          0
         ],
         "xaxis": "x2",
         "y": [
          0
         ],
         "yaxis": "y2"
        },
        {
         "line": {
          "color": "orange"
         },
         "mode": "lines",
         "name": "REMOTE_EXPLOIT",
         "type": "scatter",
         "x": [
          0
         ],
         "xaxis": "x2",
         "y": [
          0
         ],
         "yaxis": "y2"
        },
        {
         "line": {
          "color": "red"
         },
         "mode": "lines",
         "name": "LATERAL_MOVE",
         "type": "scatter",
         "x": [
          0
         ],
         "xaxis": "x2",
         "y": [
          0
         ],
         "yaxis": "y2"
        },
        {
         "hoverinfo": "text",
         "marker": {
          "color": "#D32F2E",
          "line": {
           "color": "rgb(255,0,0)",
           "width": 8
          },
          "size": 5,
          "symbol": "circle-dot"
         },
         "mode": "markers+text",
         "name": "owned",
         "text": [
          "client"
         ],
         "textposition": "bottom center",
         "type": "scatter",
         "x": [
          0
         ],
         "xaxis": "x2",
         "y": [
          0
         ],
         "yaxis": "y2"
        },
        {
         "hoverinfo": "text",
         "marker": {
          "color": "#0e9d00",
          "line": {
           "color": "rgb(0,255,0)",
           "width": 8
          },
          "size": 5,
          "symbol": "circle-dot"
         },
         "mode": "markers+text",
         "name": "discovered",
         "text": [
          "Website",
          "Website.Directory"
         ],
         "textposition": "bottom center",
         "type": "scatter",
         "x": [
          -0.5,
          0.5
         ],
         "xaxis": "x2",
         "y": [
          -4.371138828673793e-08,
          8.742277657347586e-08
         ],
         "yaxis": "y2"
        }
       ],
       "layout": {
        "annotations": [
         {
          "align": "center",
          "arrowcolor": "gray",
          "arrowhead": 1,
          "arrowsize": 1,
          "arrowwidth": 1,
          "ax": -0.5,
          "axref": "x2",
          "ay": -4.371138828673793e-08,
          "ayref": "y2",
          "hovertext": "KNOWS",
          "opacity": 1,
          "showarrow": true,
          "standoff": 10,
          "startstandoff": 10,
          "x": 0.5,
          "xref": "x2",
          "y": 8.742277657347586e-08,
          "yref": "y2"
         },
         {
          "align": "center",
          "arrowcolor": "gray",
          "arrowhead": 1,
          "arrowsize": 1,
          "arrowwidth": 1,
          "ax": 0.5,
          "axref": "x2",
          "ay": 8.742277657347586e-08,
          "ayref": "y2",
          "hovertext": "KNOWS",
          "opacity": 1,
          "showarrow": true,
          "standoff": 10,
          "startstandoff": 10,
          "x": -0.5,
          "xref": "x2",
          "y": -4.371138828673793e-08,
          "yref": "y2"
         },
         {
          "align": "center",
          "arrowcolor": "orange",
          "arrowhead": 1,
          "arrowsize": 1,
          "arrowwidth": 1,
          "ax": 0,
          "axref": "x2",
          "ay": 0,
          "ayref": "y2",
          "hovertext": "REMOTE_EXPLOIT",
          "opacity": 1,
          "showarrow": true,
          "standoff": 10,
          "startstandoff": 10,
          "x": -0.5,
          "xref": "x2",
          "y": -4.371138828673793e-08,
          "yref": "y2"
         },
         {
          "align": "center",
          "arrowcolor": "orange",
          "arrowhead": 1,
          "arrowsize": 1,
          "arrowwidth": 1,
          "ax": 0,
          "axref": "x2",
          "ay": 0,
          "ayref": "y2",
          "hovertext": "REMOTE_EXPLOIT",
          "opacity": 1,
          "showarrow": true,
          "standoff": 10,
          "startstandoff": 10,
          "x": 0.5,
          "xref": "x2",
          "y": 8.742277657347586e-08,
          "yref": "y2"
         }
        ],
        "autosize": false,
        "font": {
         "size": 10
        },
        "height": 400,
        "hovermode": "closest",
        "margin": {
         "b": 15,
         "l": 2,
         "r": 2,
         "t": 35
        },
        "showlegend": true,
        "template": {
         "data": {
          "bar": [
           {
            "error_x": {
             "color": "#2a3f5f"
            },
            "error_y": {
             "color": "#2a3f5f"
            },
            "marker": {
             "line": {
              "color": "#E5ECF6",
              "width": 0.5
             }
            },
            "type": "bar"
           }
          ],
          "barpolar": [
           {
            "marker": {
             "line": {
              "color": "#E5ECF6",
              "width": 0.5
             }
            },
            "type": "barpolar"
           }
          ],
          "carpet": [
           {
            "aaxis": {
             "endlinecolor": "#2a3f5f",
             "gridcolor": "white",
             "linecolor": "white",
             "minorgridcolor": "white",
             "startlinecolor": "#2a3f5f"
            },
            "baxis": {
             "endlinecolor": "#2a3f5f",
             "gridcolor": "white",
             "linecolor": "white",
             "minorgridcolor": "white",
             "startlinecolor": "#2a3f5f"
            },
            "type": "carpet"
           }
          ],
          "choropleth": [
           {
            "colorbar": {
             "outlinewidth": 0,
             "ticks": ""
            },
            "type": "choropleth"
           }
          ],
          "contour": [
           {
            "colorbar": {
             "outlinewidth": 0,
             "ticks": ""
            },
            "colorscale": [
             [
              0,
              "#0d0887"
             ],
             [
              0.1111111111111111,
              "#46039f"
             ],
             [
              0.2222222222222222,
              "#7201a8"
             ],
             [
              0.3333333333333333,
              "#9c179e"
             ],
             [
              0.4444444444444444,
              "#bd3786"
             ],
             [
              0.5555555555555556,
              "#d8576b"
             ],
             [
              0.6666666666666666,
              "#ed7953"
             ],
             [
              0.7777777777777778,
              "#fb9f3a"
             ],
             [
              0.8888888888888888,
              "#fdca26"
             ],
             [
              1,
              "#f0f921"
             ]
            ],
            "type": "contour"
           }
          ],
          "contourcarpet": [
           {
            "colorbar": {
             "outlinewidth": 0,
             "ticks": ""
            },
            "type": "contourcarpet"
           }
          ],
          "heatmap": [
           {
            "colorbar": {
             "outlinewidth": 0,
             "ticks": ""
            },
            "colorscale": [
             [
              0,
              "#0d0887"
             ],
             [
              0.1111111111111111,
              "#46039f"
             ],
             [
              0.2222222222222222,
              "#7201a8"
             ],
             [
              0.3333333333333333,
              "#9c179e"
             ],
             [
              0.4444444444444444,
              "#bd3786"
             ],
             [
              0.5555555555555556,
              "#d8576b"
             ],
             [
              0.6666666666666666,
              "#ed7953"
             ],
             [
              0.7777777777777778,
              "#fb9f3a"
             ],
             [
              0.8888888888888888,
              "#fdca26"
             ],
             [
              1,
              "#f0f921"
             ]
            ],
            "type": "heatmap"
           }
          ],
          "heatmapgl": [
           {
            "colorbar": {
             "outlinewidth": 0,
             "ticks": ""
            },
            "colorscale": [
             [
              0,
              "#0d0887"
             ],
             [
              0.1111111111111111,
              "#46039f"
             ],
             [
              0.2222222222222222,
              "#7201a8"
             ],
             [
              0.3333333333333333,
              "#9c179e"
             ],
             [
              0.4444444444444444,
              "#bd3786"
             ],
             [
              0.5555555555555556,
              "#d8576b"
             ],
             [
              0.6666666666666666,
              "#ed7953"
             ],
             [
              0.7777777777777778,
              "#fb9f3a"
             ],
             [
              0.8888888888888888,
              "#fdca26"
             ],
             [
              1,
              "#f0f921"
             ]
            ],
            "type": "heatmapgl"
           }
          ],
          "histogram": [
           {
            "marker": {
             "colorbar": {
              "outlinewidth": 0,
              "ticks": ""
             }
            },
            "type": "histogram"
           }
          ],
          "histogram2d": [
           {
            "colorbar": {
             "outlinewidth": 0,
             "ticks": ""
            },
            "colorscale": [
             [
              0,
              "#0d0887"
             ],
             [
              0.1111111111111111,
              "#46039f"
             ],
             [
              0.2222222222222222,
              "#7201a8"
             ],
             [
              0.3333333333333333,
              "#9c179e"
             ],
             [
              0.4444444444444444,
              "#bd3786"
             ],
             [
              0.5555555555555556,
              "#d8576b"
             ],
             [
              0.6666666666666666,
              "#ed7953"
             ],
             [
              0.7777777777777778,
              "#fb9f3a"
             ],
             [
              0.8888888888888888,
              "#fdca26"
             ],
             [
              1,
              "#f0f921"
             ]
            ],
            "type": "histogram2d"
           }
          ],
          "histogram2dcontour": [
           {
            "colorbar": {
             "outlinewidth": 0,
             "ticks": ""
            },
            "colorscale": [
             [
              0,
              "#0d0887"
             ],
             [
              0.1111111111111111,
              "#46039f"
             ],
             [
              0.2222222222222222,
              "#7201a8"
             ],
             [
              0.3333333333333333,
              "#9c179e"
             ],
             [
              0.4444444444444444,
              "#bd3786"
             ],
             [
              0.5555555555555556,
              "#d8576b"
             ],
             [
              0.6666666666666666,
              "#ed7953"
             ],
             [
              0.7777777777777778,
              "#fb9f3a"
             ],
             [
              0.8888888888888888,
              "#fdca26"
             ],
             [
              1,
              "#f0f921"
             ]
            ],
            "type": "histogram2dcontour"
           }
          ],
          "mesh3d": [
           {
            "colorbar": {
             "outlinewidth": 0,
             "ticks": ""
            },
            "type": "mesh3d"
           }
          ],
          "parcoords": [
           {
            "line": {
             "colorbar": {
              "outlinewidth": 0,
              "ticks": ""
             }
            },
            "type": "parcoords"
           }
          ],
          "pie": [
           {
            "automargin": true,
            "type": "pie"
           }
          ],
          "scatter": [
           {
            "marker": {
             "colorbar": {
              "outlinewidth": 0,
              "ticks": ""
             }
            },
            "type": "scatter"
           }
          ],
          "scatter3d": [
           {
            "line": {
             "colorbar": {
              "outlinewidth": 0,
              "ticks": ""
             }
            },
            "marker": {
             "colorbar": {
              "outlinewidth": 0,
              "ticks": ""
             }
            },
            "type": "scatter3d"
           }
          ],
          "scattercarpet": [
           {
            "marker": {
             "colorbar": {
              "outlinewidth": 0,
              "ticks": ""
             }
            },
            "type": "scattercarpet"
           }
          ],
          "scattergeo": [
           {
            "marker": {
             "colorbar": {
              "outlinewidth": 0,
              "ticks": ""
             }
            },
            "type": "scattergeo"
           }
          ],
          "scattergl": [
           {
            "marker": {
             "colorbar": {
              "outlinewidth": 0,
              "ticks": ""
             }
            },
            "type": "scattergl"
           }
          ],
          "scattermapbox": [
           {
            "marker": {
             "colorbar": {
              "outlinewidth": 0,
              "ticks": ""
             }
            },
            "type": "scattermapbox"
           }
          ],
          "scatterpolar": [
           {
            "marker": {
             "colorbar": {
              "outlinewidth": 0,
              "ticks": ""
             }
            },
            "type": "scatterpolar"
           }
          ],
          "scatterpolargl": [
           {
            "marker": {
             "colorbar": {
              "outlinewidth": 0,
              "ticks": ""
             }
            },
            "type": "scatterpolargl"
           }
          ],
          "scatterternary": [
           {
            "marker": {
             "colorbar": {
              "outlinewidth": 0,
              "ticks": ""
             }
            },
            "type": "scatterternary"
           }
          ],
          "surface": [
           {
            "colorbar": {
             "outlinewidth": 0,
             "ticks": ""
            },
            "colorscale": [
             [
              0,
              "#0d0887"
             ],
             [
              0.1111111111111111,
              "#46039f"
             ],
             [
              0.2222222222222222,
              "#7201a8"
             ],
             [
              0.3333333333333333,
              "#9c179e"
             ],
             [
              0.4444444444444444,
              "#bd3786"
             ],
             [
              0.5555555555555556,
              "#d8576b"
             ],
             [
              0.6666666666666666,
              "#ed7953"
             ],
             [
              0.7777777777777778,
              "#fb9f3a"
             ],
             [
              0.8888888888888888,
              "#fdca26"
             ],
             [
              1,
              "#f0f921"
             ]
            ],
            "type": "surface"
           }
          ],
          "table": [
           {
            "cells": {
             "fill": {
              "color": "#EBF0F8"
             },
             "line": {
              "color": "white"
             }
            },
            "header": {
             "fill": {
              "color": "#C8D4E3"
             },
             "line": {
              "color": "white"
             }
            },
            "type": "table"
           }
          ]
         },
         "layout": {
          "annotationdefaults": {
           "arrowcolor": "#2a3f5f",
           "arrowhead": 0,
           "arrowwidth": 1
          },
          "coloraxis": {
           "colorbar": {
            "outlinewidth": 0,
            "ticks": ""
           }
          },
          "colorscale": {
           "diverging": [
            [
             0,
             "#8e0152"
            ],
            [
             0.1,
             "#c51b7d"
            ],
            [
             0.2,
             "#de77ae"
            ],
            [
             0.3,
             "#f1b6da"
            ],
            [
             0.4,
             "#fde0ef"
            ],
            [
             0.5,
             "#f7f7f7"
            ],
            [
             0.6,
             "#e6f5d0"
            ],
            [
             0.7,
             "#b8e186"
            ],
            [
             0.8,
             "#7fbc41"
            ],
            [
             0.9,
             "#4d9221"
            ],
            [
             1,
             "#276419"
            ]
           ],
           "sequential": [
            [
             0,
             "#0d0887"
            ],
            [
             0.1111111111111111,
             "#46039f"
            ],
            [
             0.2222222222222222,
             "#7201a8"
            ],
            [
             0.3333333333333333,
             "#9c179e"
            ],
            [
             0.4444444444444444,
             "#bd3786"
            ],
            [
             0.5555555555555556,
             "#d8576b"
            ],
            [
             0.6666666666666666,
             "#ed7953"
            ],
            [
             0.7777777777777778,
             "#fb9f3a"
            ],
            [
             0.8888888888888888,
             "#fdca26"
            ],
            [
             1,
             "#f0f921"
            ]
           ],
           "sequentialminus": [
            [
             0,
             "#0d0887"
            ],
            [
             0.1111111111111111,
             "#46039f"
            ],
            [
             0.2222222222222222,
             "#7201a8"
            ],
            [
             0.3333333333333333,
             "#9c179e"
            ],
            [
             0.4444444444444444,
             "#bd3786"
            ],
            [
             0.5555555555555556,
             "#d8576b"
            ],
            [
             0.6666666666666666,
             "#ed7953"
            ],
            [
             0.7777777777777778,
             "#fb9f3a"
            ],
            [
             0.8888888888888888,
             "#fdca26"
            ],
            [
             1,
             "#f0f921"
            ]
           ]
          },
          "colorway": [
           "#636efa",
           "#EF553B",
           "#00cc96",
           "#ab63fa",
           "#FFA15A",
           "#19d3f3",
           "#FF6692",
           "#B6E880",
           "#FF97FF",
           "#FECB52"
          ],
          "font": {
           "color": "#2a3f5f"
          },
          "geo": {
           "bgcolor": "white",
           "lakecolor": "white",
           "landcolor": "#E5ECF6",
           "showlakes": true,
           "showland": true,
           "subunitcolor": "white"
          },
          "hoverlabel": {
           "align": "left"
          },
          "hovermode": "closest",
          "mapbox": {
           "style": "light"
          },
          "paper_bgcolor": "white",
          "plot_bgcolor": "#E5ECF6",
          "polar": {
           "angularaxis": {
            "gridcolor": "white",
            "linecolor": "white",
            "ticks": ""
           },
           "bgcolor": "#E5ECF6",
           "radialaxis": {
            "gridcolor": "white",
            "linecolor": "white",
            "ticks": ""
           }
          },
          "scene": {
           "xaxis": {
            "backgroundcolor": "#E5ECF6",
            "gridcolor": "white",
            "gridwidth": 2,
            "linecolor": "white",
            "showbackground": true,
            "ticks": "",
            "zerolinecolor": "white"
           },
           "yaxis": {
            "backgroundcolor": "#E5ECF6",
            "gridcolor": "white",
            "gridwidth": 2,
            "linecolor": "white",
            "showbackground": true,
            "ticks": "",
            "zerolinecolor": "white"
           },
           "zaxis": {
            "backgroundcolor": "#E5ECF6",
            "gridcolor": "white",
            "gridwidth": 2,
            "linecolor": "white",
            "showbackground": true,
            "ticks": "",
            "zerolinecolor": "white"
           }
          },
          "shapedefaults": {
           "line": {
            "color": "#2a3f5f"
           }
          },
          "ternary": {
           "aaxis": {
            "gridcolor": "white",
            "linecolor": "white",
            "ticks": ""
           },
           "baxis": {
            "gridcolor": "white",
            "linecolor": "white",
            "ticks": ""
           },
           "bgcolor": "#E5ECF6",
           "caxis": {
            "gridcolor": "white",
            "linecolor": "white",
            "ticks": ""
           }
          },
          "title": {
           "x": 0.05
          },
          "xaxis": {
           "automargin": true,
           "gridcolor": "white",
           "linecolor": "white",
           "ticks": "",
           "title": {
            "standoff": 15
           },
           "zerolinecolor": "white",
           "zerolinewidth": 2
          },
          "yaxis": {
           "automargin": true,
           "gridcolor": "white",
           "linecolor": "white",
           "ticks": "",
           "title": {
            "standoff": 15
           },
           "zerolinecolor": "white",
           "zerolinewidth": 2
          }
         }
        },
        "title": {
         "text": "CyberBattle simulation"
        },
        "width": 800,
        "xaxis": {
         "anchor": "y",
         "domain": [
          0,
          0.45
         ]
        },
        "xaxis2": {
         "anchor": "y2",
         "domain": [
          0.55,
          1
         ]
        },
        "yaxis": {
         "anchor": "x",
         "domain": [
          0,
          1
         ]
        },
        "yaxis2": {
         "anchor": "x2",
         "domain": [
          0,
          1
         ]
        }
       }
      },
      "text/html": [
       "<div>                            <div id=\"423cecd8-9f70-42cc-8f98-5b11d4803695\" class=\"plotly-graph-div\" style=\"height:400px; width:800px;\"></div>            <script type=\"text/javascript\">                require([\"plotly\"], function(Plotly) {                    window.PLOTLYENV=window.PLOTLYENV || {};                                    if (document.getElementById(\"423cecd8-9f70-42cc-8f98-5b11d4803695\")) {                    Plotly.newPlot(                        \"423cecd8-9f70-42cc-8f98-5b11d4803695\",                        [{\"name\": \"cumulative reward\", \"type\": \"scatter\", \"xaxis\": \"x\", \"y\": [11.0, 22.0, 22.0, 31.0], \"yaxis\": \"y\"}, {\"line\": {\"color\": \"gray\"}, \"mode\": \"lines\", \"name\": \"KNOWS\", \"type\": \"scatter\", \"x\": [0], \"xaxis\": \"x2\", \"y\": [0], \"yaxis\": \"y2\"}, {\"line\": {\"color\": \"orange\"}, \"mode\": \"lines\", \"name\": \"REMOTE_EXPLOIT\", \"type\": \"scatter\", \"x\": [0], \"xaxis\": \"x2\", \"y\": [0], \"yaxis\": \"y2\"}, {\"line\": {\"color\": \"red\"}, \"mode\": \"lines\", \"name\": \"LATERAL_MOVE\", \"type\": \"scatter\", \"x\": [0], \"xaxis\": \"x2\", \"y\": [0], \"yaxis\": \"y2\"}, {\"hoverinfo\": \"text\", \"marker\": {\"color\": \"#D32F2E\", \"line\": {\"color\": \"rgb(255,0,0)\", \"width\": 8}, \"size\": 5, \"symbol\": \"circle-dot\"}, \"mode\": \"markers+text\", \"name\": \"owned\", \"text\": [\"client\"], \"textposition\": \"bottom center\", \"type\": \"scatter\", \"x\": [0.0], \"xaxis\": \"x2\", \"y\": [0.0], \"yaxis\": \"y2\"}, {\"hoverinfo\": \"text\", \"marker\": {\"color\": \"#0e9d00\", \"line\": {\"color\": \"rgb(0,255,0)\", \"width\": 8}, \"size\": 5, \"symbol\": \"circle-dot\"}, \"mode\": \"markers+text\", \"name\": \"discovered\", \"text\": [\"Website\", \"Website.Directory\"], \"textposition\": \"bottom center\", \"type\": \"scatter\", \"x\": [-0.5, 0.5], \"xaxis\": \"x2\", \"y\": [-4.371138828673793e-08, 8.742277657347586e-08], \"yaxis\": \"y2\"}],                        {\"annotations\": [{\"align\": \"center\", \"arrowcolor\": \"gray\", \"arrowhead\": 1, \"arrowsize\": 1, \"arrowwidth\": 1, \"ax\": -0.5, \"axref\": \"x2\", \"ay\": -4.371138828673793e-08, \"ayref\": \"y2\", \"hovertext\": \"KNOWS\", \"opacity\": 1, \"showarrow\": true, \"standoff\": 10, \"startstandoff\": 10, \"x\": 0.5, \"xref\": \"x2\", \"y\": 8.742277657347586e-08, \"yref\": \"y2\"}, {\"align\": \"center\", \"arrowcolor\": \"gray\", \"arrowhead\": 1, \"arrowsize\": 1, \"arrowwidth\": 1, \"ax\": 0.5, \"axref\": \"x2\", \"ay\": 8.742277657347586e-08, \"ayref\": \"y2\", \"hovertext\": \"KNOWS\", \"opacity\": 1, \"showarrow\": true, \"standoff\": 10, \"startstandoff\": 10, \"x\": -0.5, \"xref\": \"x2\", \"y\": -4.371138828673793e-08, \"yref\": \"y2\"}, {\"align\": \"center\", \"arrowcolor\": \"orange\", \"arrowhead\": 1, \"arrowsize\": 1, \"arrowwidth\": 1, \"ax\": 0.0, \"axref\": \"x2\", \"ay\": 0.0, \"ayref\": \"y2\", \"hovertext\": \"REMOTE_EXPLOIT\", \"opacity\": 1, \"showarrow\": true, \"standoff\": 10, \"startstandoff\": 10, \"x\": -0.5, \"xref\": \"x2\", \"y\": -4.371138828673793e-08, \"yref\": \"y2\"}, {\"align\": \"center\", \"arrowcolor\": \"orange\", \"arrowhead\": 1, \"arrowsize\": 1, \"arrowwidth\": 1, \"ax\": 0.0, \"axref\": \"x2\", \"ay\": 0.0, \"ayref\": \"y2\", \"hovertext\": \"REMOTE_EXPLOIT\", \"opacity\": 1, \"showarrow\": true, \"standoff\": 10, \"startstandoff\": 10, \"x\": 0.5, \"xref\": \"x2\", \"y\": 8.742277657347586e-08, \"yref\": \"y2\"}], \"autosize\": false, \"font\": {\"size\": 10}, \"height\": 400, \"hovermode\": \"closest\", \"margin\": {\"b\": 15, \"l\": 2, \"r\": 2, \"t\": 35}, \"showlegend\": true, \"template\": {\"data\": {\"bar\": [{\"error_x\": {\"color\": \"#2a3f5f\"}, \"error_y\": {\"color\": \"#2a3f5f\"}, \"marker\": {\"line\": {\"color\": \"#E5ECF6\", \"width\": 0.5}}, \"type\": \"bar\"}], \"barpolar\": [{\"marker\": {\"line\": {\"color\": \"#E5ECF6\", \"width\": 0.5}}, \"type\": \"barpolar\"}], \"carpet\": [{\"aaxis\": {\"endlinecolor\": \"#2a3f5f\", \"gridcolor\": \"white\", \"linecolor\": \"white\", \"minorgridcolor\": \"white\", \"startlinecolor\": \"#2a3f5f\"}, \"baxis\": {\"endlinecolor\": \"#2a3f5f\", \"gridcolor\": \"white\", \"linecolor\": \"white\", \"minorgridcolor\": \"white\", \"startlinecolor\": \"#2a3f5f\"}, \"type\": \"carpet\"}], \"choropleth\": [{\"colorbar\": {\"outlinewidth\": 0, \"ticks\": \"\"}, \"type\": \"choropleth\"}], \"contour\": [{\"colorbar\": {\"outlinewidth\": 0, \"ticks\": \"\"}, \"colorscale\": [[0.0, \"#0d0887\"], [0.1111111111111111, \"#46039f\"], [0.2222222222222222, \"#7201a8\"], [0.3333333333333333, \"#9c179e\"], [0.4444444444444444, \"#bd3786\"], [0.5555555555555556, \"#d8576b\"], [0.6666666666666666, \"#ed7953\"], [0.7777777777777778, \"#fb9f3a\"], [0.8888888888888888, \"#fdca26\"], [1.0, \"#f0f921\"]], \"type\": \"contour\"}], \"contourcarpet\": [{\"colorbar\": {\"outlinewidth\": 0, \"ticks\": \"\"}, \"type\": \"contourcarpet\"}], \"heatmap\": [{\"colorbar\": {\"outlinewidth\": 0, \"ticks\": \"\"}, \"colorscale\": [[0.0, \"#0d0887\"], [0.1111111111111111, \"#46039f\"], [0.2222222222222222, \"#7201a8\"], [0.3333333333333333, \"#9c179e\"], [0.4444444444444444, \"#bd3786\"], [0.5555555555555556, \"#d8576b\"], [0.6666666666666666, \"#ed7953\"], [0.7777777777777778, \"#fb9f3a\"], [0.8888888888888888, \"#fdca26\"], [1.0, \"#f0f921\"]], \"type\": \"heatmap\"}], \"heatmapgl\": [{\"colorbar\": {\"outlinewidth\": 0, \"ticks\": \"\"}, \"colorscale\": [[0.0, \"#0d0887\"], [0.1111111111111111, \"#46039f\"], [0.2222222222222222, \"#7201a8\"], [0.3333333333333333, \"#9c179e\"], [0.4444444444444444, \"#bd3786\"], [0.5555555555555556, \"#d8576b\"], [0.6666666666666666, \"#ed7953\"], [0.7777777777777778, \"#fb9f3a\"], [0.8888888888888888, \"#fdca26\"], [1.0, \"#f0f921\"]], \"type\": \"heatmapgl\"}], \"histogram\": [{\"marker\": {\"colorbar\": {\"outlinewidth\": 0, \"ticks\": \"\"}}, \"type\": \"histogram\"}], \"histogram2d\": [{\"colorbar\": {\"outlinewidth\": 0, \"ticks\": \"\"}, \"colorscale\": [[0.0, \"#0d0887\"], [0.1111111111111111, \"#46039f\"], [0.2222222222222222, \"#7201a8\"], [0.3333333333333333, \"#9c179e\"], [0.4444444444444444, \"#bd3786\"], [0.5555555555555556, \"#d8576b\"], [0.6666666666666666, \"#ed7953\"], [0.7777777777777778, \"#fb9f3a\"], [0.8888888888888888, \"#fdca26\"], [1.0, \"#f0f921\"]], \"type\": \"histogram2d\"}], \"histogram2dcontour\": [{\"colorbar\": {\"outlinewidth\": 0, \"ticks\": \"\"}, \"colorscale\": [[0.0, \"#0d0887\"], [0.1111111111111111, \"#46039f\"], [0.2222222222222222, \"#7201a8\"], [0.3333333333333333, \"#9c179e\"], [0.4444444444444444, \"#bd3786\"], [0.5555555555555556, \"#d8576b\"], [0.6666666666666666, \"#ed7953\"], [0.7777777777777778, \"#fb9f3a\"], [0.8888888888888888, \"#fdca26\"], [1.0, \"#f0f921\"]], \"type\": \"histogram2dcontour\"}], \"mesh3d\": [{\"colorbar\": {\"outlinewidth\": 0, \"ticks\": \"\"}, \"type\": \"mesh3d\"}], \"parcoords\": [{\"line\": {\"colorbar\": {\"outlinewidth\": 0, \"ticks\": \"\"}}, \"type\": \"parcoords\"}], \"pie\": [{\"automargin\": true, \"type\": \"pie\"}], \"scatter\": [{\"marker\": {\"colorbar\": {\"outlinewidth\": 0, \"ticks\": \"\"}}, \"type\": \"scatter\"}], \"scatter3d\": [{\"line\": {\"colorbar\": {\"outlinewidth\": 0, \"ticks\": \"\"}}, \"marker\": {\"colorbar\": {\"outlinewidth\": 0, \"ticks\": \"\"}}, \"type\": \"scatter3d\"}], \"scattercarpet\": [{\"marker\": {\"colorbar\": {\"outlinewidth\": 0, \"ticks\": \"\"}}, \"type\": \"scattercarpet\"}], \"scattergeo\": [{\"marker\": {\"colorbar\": {\"outlinewidth\": 0, \"ticks\": \"\"}}, \"type\": \"scattergeo\"}], \"scattergl\": [{\"marker\": {\"colorbar\": {\"outlinewidth\": 0, \"ticks\": \"\"}}, \"type\": \"scattergl\"}], \"scattermapbox\": [{\"marker\": {\"colorbar\": {\"outlinewidth\": 0, \"ticks\": \"\"}}, \"type\": \"scattermapbox\"}], \"scatterpolar\": [{\"marker\": {\"colorbar\": {\"outlinewidth\": 0, \"ticks\": \"\"}}, \"type\": \"scatterpolar\"}], \"scatterpolargl\": [{\"marker\": {\"colorbar\": {\"outlinewidth\": 0, \"ticks\": \"\"}}, \"type\": \"scatterpolargl\"}], \"scatterternary\": [{\"marker\": {\"colorbar\": {\"outlinewidth\": 0, \"ticks\": \"\"}}, \"type\": \"scatterternary\"}], \"surface\": [{\"colorbar\": {\"outlinewidth\": 0, \"ticks\": \"\"}, \"colorscale\": [[0.0, \"#0d0887\"], [0.1111111111111111, \"#46039f\"], [0.2222222222222222, \"#7201a8\"], [0.3333333333333333, \"#9c179e\"], [0.4444444444444444, \"#bd3786\"], [0.5555555555555556, \"#d8576b\"], [0.6666666666666666, \"#ed7953\"], [0.7777777777777778, \"#fb9f3a\"], [0.8888888888888888, \"#fdca26\"], [1.0, \"#f0f921\"]], \"type\": \"surface\"}], \"table\": [{\"cells\": {\"fill\": {\"color\": \"#EBF0F8\"}, \"line\": {\"color\": \"white\"}}, \"header\": {\"fill\": {\"color\": \"#C8D4E3\"}, \"line\": {\"color\": \"white\"}}, \"type\": \"table\"}]}, \"layout\": {\"annotationdefaults\": {\"arrowcolor\": \"#2a3f5f\", \"arrowhead\": 0, \"arrowwidth\": 1}, \"coloraxis\": {\"colorbar\": {\"outlinewidth\": 0, \"ticks\": \"\"}}, \"colorscale\": {\"diverging\": [[0, \"#8e0152\"], [0.1, \"#c51b7d\"], [0.2, \"#de77ae\"], [0.3, \"#f1b6da\"], [0.4, \"#fde0ef\"], [0.5, \"#f7f7f7\"], [0.6, \"#e6f5d0\"], [0.7, \"#b8e186\"], [0.8, \"#7fbc41\"], [0.9, \"#4d9221\"], [1, \"#276419\"]], \"sequential\": [[0.0, \"#0d0887\"], [0.1111111111111111, \"#46039f\"], [0.2222222222222222, \"#7201a8\"], [0.3333333333333333, \"#9c179e\"], [0.4444444444444444, \"#bd3786\"], [0.5555555555555556, \"#d8576b\"], [0.6666666666666666, \"#ed7953\"], [0.7777777777777778, \"#fb9f3a\"], [0.8888888888888888, \"#fdca26\"], [1.0, \"#f0f921\"]], \"sequentialminus\": [[0.0, \"#0d0887\"], [0.1111111111111111, \"#46039f\"], [0.2222222222222222, \"#7201a8\"], [0.3333333333333333, \"#9c179e\"], [0.4444444444444444, \"#bd3786\"], [0.5555555555555556, \"#d8576b\"], [0.6666666666666666, \"#ed7953\"], [0.7777777777777778, \"#fb9f3a\"], [0.8888888888888888, \"#fdca26\"], [1.0, \"#f0f921\"]]}, \"colorway\": [\"#636efa\", \"#EF553B\", \"#00cc96\", \"#ab63fa\", \"#FFA15A\", \"#19d3f3\", \"#FF6692\", \"#B6E880\", \"#FF97FF\", \"#FECB52\"], \"font\": {\"color\": \"#2a3f5f\"}, \"geo\": {\"bgcolor\": \"white\", \"lakecolor\": \"white\", \"landcolor\": \"#E5ECF6\", \"showlakes\": true, \"showland\": true, \"subunitcolor\": \"white\"}, \"hoverlabel\": {\"align\": \"left\"}, \"hovermode\": \"closest\", \"mapbox\": {\"style\": \"light\"}, \"paper_bgcolor\": \"white\", \"plot_bgcolor\": \"#E5ECF6\", \"polar\": {\"angularaxis\": {\"gridcolor\": \"white\", \"linecolor\": \"white\", \"ticks\": \"\"}, \"bgcolor\": \"#E5ECF6\", \"radialaxis\": {\"gridcolor\": \"white\", \"linecolor\": \"white\", \"ticks\": \"\"}}, \"scene\": {\"xaxis\": {\"backgroundcolor\": \"#E5ECF6\", \"gridcolor\": \"white\", \"gridwidth\": 2, \"linecolor\": \"white\", \"showbackground\": true, \"ticks\": \"\", \"zerolinecolor\": \"white\"}, \"yaxis\": {\"backgroundcolor\": \"#E5ECF6\", \"gridcolor\": \"white\", \"gridwidth\": 2, \"linecolor\": \"white\", \"showbackground\": true, \"ticks\": \"\", \"zerolinecolor\": \"white\"}, \"zaxis\": {\"backgroundcolor\": \"#E5ECF6\", \"gridcolor\": \"white\", \"gridwidth\": 2, \"linecolor\": \"white\", \"showbackground\": true, \"ticks\": \"\", \"zerolinecolor\": \"white\"}}, \"shapedefaults\": {\"line\": {\"color\": \"#2a3f5f\"}}, \"ternary\": {\"aaxis\": {\"gridcolor\": \"white\", \"linecolor\": \"white\", \"ticks\": \"\"}, \"baxis\": {\"gridcolor\": \"white\", \"linecolor\": \"white\", \"ticks\": \"\"}, \"bgcolor\": \"#E5ECF6\", \"caxis\": {\"gridcolor\": \"white\", \"linecolor\": \"white\", \"ticks\": \"\"}}, \"title\": {\"x\": 0.05}, \"xaxis\": {\"automargin\": true, \"gridcolor\": \"white\", \"linecolor\": \"white\", \"ticks\": \"\", \"title\": {\"standoff\": 15}, \"zerolinecolor\": \"white\", \"zerolinewidth\": 2}, \"yaxis\": {\"automargin\": true, \"gridcolor\": \"white\", \"linecolor\": \"white\", \"ticks\": \"\", \"title\": {\"standoff\": 15}, \"zerolinecolor\": \"white\", \"zerolinewidth\": 2}}}, \"title\": {\"text\": \"CyberBattle simulation\"}, \"width\": 800, \"xaxis\": {\"anchor\": \"y\", \"domain\": [0.0, 0.45]}, \"xaxis2\": {\"anchor\": \"y2\", \"domain\": [0.55, 1.0]}, \"yaxis\": {\"anchor\": \"x\", \"domain\": [0.0, 1.0]}, \"yaxis2\": {\"anchor\": \"x2\", \"domain\": [0.0, 1.0]}},                        {\"responsive\": true}                    ).then(function(){\n",
       "                            \n",
       "var gd = document.getElementById('423cecd8-9f70-42cc-8f98-5b11d4803695');\n",
       "var x = new MutationObserver(function (mutations, observer) {{\n",
       "        var display = window.getComputedStyle(gd).display;\n",
       "        if (!display || display === 'none') {{\n",
       "            console.log([gd, 'removed!']);\n",
       "            Plotly.purge(gd);\n",
       "            observer.disconnect();\n",
       "        }}\n",
       "}});\n",
       "\n",
       "// Listen for the removal of the full notebook cells\n",
       "var notebookContainer = gd.closest('#notebook-container');\n",
       "if (notebookContainer) {{\n",
       "    x.observe(notebookContainer, {childList: true});\n",
       "}}\n",
       "\n",
       "// Listen for the clearing of the current output cell\n",
       "var outputEl = gd.closest('.output');\n",
       "if (outputEl) {{\n",
       "    x.observe(outputEl, {childList: true});\n",
       "}}\n",
       "\n",
       "                        })                };                });            </script>        </div>"
      ]
     },
     "metadata": {},
     "output_type": "display_data"
    },
    {
     "name": "stdout",
     "output_type": "stream",
     "text": [
      "\n",
      "Step: 4, sample all actions under action_mask(bruteforce search)\n",
      "\t{'local_vulnerability': array([0, 0], dtype=int32)}\tlocal_vulnerability(`client, SearchEdgeHistory)\n",
      "\t{'remote_vulnerability': array([0, 0, 1], dtype=int32)}\tremote_vulnerability(`client, `client, ScanPageSource)\n",
      "\t{'remote_vulnerability': array([0, 2, 0], dtype=int32)}\tremote_vulnerability(`client, `Website.Directory, NavigateWebDirectoryFurther)\n",
      "\t{'remote_vulnerability': array([0, 0, 0], dtype=int32)}\tremote_vulnerability(`client, `client, NavigateWebDirectoryFurther)\n",
      "\t{'remote_vulnerability': array([0, 2, 1], dtype=int32)}\tremote_vulnerability(`client, `Website.Directory, ScanPageSource)\n",
      "\t{'remote_vulnerability': array([0, 1, 1], dtype=int32)}\tremote_vulnerability(`client, `Website, ScanPageSource)\n",
      "\t{'remote_vulnerability': array([0, 1, 0], dtype=int32)}\tremote_vulnerability(`client, `Website, NavigateWebDirectoryFurther)\n",
      "\t{'connect': array([0, 2, 1, 0], dtype=int32)}\tconnect(`client, `Website.Directory, MySQL, ReusedMySqlCred-web)\n",
      "\t{'connect': array([0, 1, 0, 0], dtype=int32)}\tconnect(`client, `Website, HTTPS, ReusedMySqlCred-web)\n",
      "\t{'connect': array([0, 1, 2, 0], dtype=int32)}\tconnect(`client, `Website, SSH, ReusedMySqlCred-web)\n",
      "\t{'connect': array([0, 0, 1, 0], dtype=int32)}\tconnect(`client, `client, MySQL, ReusedMySqlCred-web)\n",
      "\t{'connect': array([0, 0, 2, 0], dtype=int32)}\tconnect(`client, `client, SSH, ReusedMySqlCred-web)\n",
      "\t{'connect': array([0, 0, 0, 0], dtype=int32)}\tconnect(`client, `client, HTTPS, ReusedMySqlCred-web)\n",
      "\t{'connect': array([0, 2, 2, 0], dtype=int32)}\tconnect(`client, `Website.Directory, SSH, ReusedMySqlCred-web)\n",
      "\t{'connect': array([0, 2, 0, 0], dtype=int32)}\tconnect(`client, `Website.Directory, HTTPS, ReusedMySqlCred-web)\n",
      "\t{'connect': array([0, 1, 1, 0], dtype=int32)}\tconnect(`client, `Website, MySQL, ReusedMySqlCred-web)\n",
      "\n",
      "Executed: \n",
      " + t=4 exploit r=1000.0 cum_reward:1031.0 a=[abstract_action=5, actor=0, state=[2. 1. 1. 1. 0. 0. 0. 0. 1. 0. 0. 0. 0. 1. 0. 0. 0. 0. 2.]]-{'connect': array([0, 1, 2, 0], dtype=int32)} creds=1  \n"
     ]
    },
    {
     "data": {
      "text/html": [
       "<div>\n",
       "<style scoped>\n",
       "    .dataframe tbody tr th:only-of-type {\n",
       "        vertical-align: middle;\n",
       "    }\n",
       "\n",
       "    .dataframe tbody tr th {\n",
       "        vertical-align: top;\n",
       "    }\n",
       "\n",
       "    .dataframe thead th {\n",
       "        text-align: right;\n",
       "    }\n",
       "</style>\n",
       "<table border=\"1\" class=\"dataframe\">\n",
       "  <thead>\n",
       "    <tr style=\"text-align: right;\">\n",
       "      <th></th>\n",
       "      <th>internal index</th>\n",
       "      <th>status</th>\n",
       "      <th>properties</th>\n",
       "      <th>discovered node properties</th>\n",
       "      <th>local_attacks</th>\n",
       "      <th>remote_attacks</th>\n",
       "      <th>gathered_credentials (no restrict to node)</th>\n",
       "      <th>discovered profiles</th>\n",
       "    </tr>\n",
       "    <tr>\n",
       "      <th>id</th>\n",
       "      <th></th>\n",
       "      <th></th>\n",
       "      <th></th>\n",
       "      <th></th>\n",
       "      <th></th>\n",
       "      <th></th>\n",
       "      <th></th>\n",
       "      <th></th>\n",
       "    </tr>\n",
       "  </thead>\n",
       "  <tbody>\n",
       "    <tr>\n",
       "      <th>client</th>\n",
       "      <td>0</td>\n",
       "      <td>owned</td>\n",
       "      <td>[CLIENT:Win10]</td>\n",
       "      <td>[CLIENT:Win10]</td>\n",
       "      <td>[SearchEdgeHistory]</td>\n",
       "      <td>[]</td>\n",
       "      <td>{ReusedMySqlCred-web}</td>\n",
       "      <td></td>\n",
       "    </tr>\n",
       "    <tr>\n",
       "      <th>Website</th>\n",
       "      <td>1</td>\n",
       "      <td>owned</td>\n",
       "      <td>[MySql, Ubuntu, nginx/1.10.3]</td>\n",
       "      <td>[MySql, Ubuntu, nginx/1.10.3]</td>\n",
       "      <td>[]</td>\n",
       "      <td>[ScanPageSource]</td>\n",
       "      <td>{ReusedMySqlCred-web}</td>\n",
       "      <td></td>\n",
       "    </tr>\n",
       "    <tr>\n",
       "      <th>Website.Directory</th>\n",
       "      <td>2</td>\n",
       "      <td>discovered</td>\n",
       "      <td>[Ubuntu, nginx/1.10.3, CTFFLAG:Readme.txt-Disc...</td>\n",
       "      <td>[]</td>\n",
       "      <td>None</td>\n",
       "      <td>[NavigateWebDirectoryFurther]</td>\n",
       "      <td>{ReusedMySqlCred-web}</td>\n",
       "      <td></td>\n",
       "    </tr>\n",
       "  </tbody>\n",
       "</table>\n",
       "</div>"
      ],
      "text/plain": [
       "                   internal index      status  \\\n",
       "id                                              \n",
       "client                          0       owned   \n",
       "Website                         1       owned   \n",
       "Website.Directory               2  discovered   \n",
       "\n",
       "                                                          properties  \\\n",
       "id                                                                     \n",
       "client                                                [CLIENT:Win10]   \n",
       "Website                                [MySql, Ubuntu, nginx/1.10.3]   \n",
       "Website.Directory  [Ubuntu, nginx/1.10.3, CTFFLAG:Readme.txt-Disc...   \n",
       "\n",
       "                      discovered node properties        local_attacks  \\\n",
       "id                                                                      \n",
       "client                            [CLIENT:Win10]  [SearchEdgeHistory]   \n",
       "Website            [MySql, Ubuntu, nginx/1.10.3]                   []   \n",
       "Website.Directory                             []                 None   \n",
       "\n",
       "                                  remote_attacks  \\\n",
       "id                                                 \n",
       "client                                        []   \n",
       "Website                         [ScanPageSource]   \n",
       "Website.Directory  [NavigateWebDirectoryFurther]   \n",
       "\n",
       "                  gathered_credentials (no restrict to node)  \\\n",
       "id                                                             \n",
       "client                                 {ReusedMySqlCred-web}   \n",
       "Website                                {ReusedMySqlCred-web}   \n",
       "Website.Directory                      {ReusedMySqlCred-web}   \n",
       "\n",
       "                  discovered profiles  \n",
       "id                                     \n",
       "client                                 \n",
       "Website                                \n",
       "Website.Directory                      "
      ]
     },
     "metadata": {},
     "output_type": "display_data"
    },
    {
     "data": {
      "application/vnd.plotly.v1+json": {
       "config": {
        "plotlyServerURL": "https://plot.ly"
       },
       "data": [
        {
         "name": "cumulative reward",
         "type": "scatter",
         "xaxis": "x",
         "y": [
          11,
          22,
          22,
          31,
          1031
         ],
         "yaxis": "y"
        },
        {
         "line": {
          "color": "gray"
         },
         "mode": "lines",
         "name": "KNOWS",
         "type": "scatter",
         "x": [
          0
         ],
         "xaxis": "x2",
         "y": [
          0
         ],
         "yaxis": "y2"
        },
        {
         "line": {
          "color": "orange"
         },
         "mode": "lines",
         "name": "REMOTE_EXPLOIT",
         "type": "scatter",
         "x": [
          0
         ],
         "xaxis": "x2",
         "y": [
          0
         ],
         "yaxis": "y2"
        },
        {
         "line": {
          "color": "red"
         },
         "mode": "lines",
         "name": "LATERAL_MOVE",
         "type": "scatter",
         "x": [
          0
         ],
         "xaxis": "x2",
         "y": [
          0
         ],
         "yaxis": "y2"
        },
        {
         "hoverinfo": "text",
         "marker": {
          "color": "#D32F2E",
          "line": {
           "color": "rgb(255,0,0)",
           "width": 8
          },
          "size": 5,
          "symbol": "circle-dot"
         },
         "mode": "markers+text",
         "name": "owned",
         "text": [
          "client",
          "Website"
         ],
         "textposition": "bottom center",
         "type": "scatter",
         "x": [
          0,
          -0.5
         ],
         "xaxis": "x2",
         "y": [
          0,
          -4.371138828673793e-08
         ],
         "yaxis": "y2"
        },
        {
         "hoverinfo": "text",
         "marker": {
          "color": "#0e9d00",
          "line": {
           "color": "rgb(0,255,0)",
           "width": 8
          },
          "size": 5,
          "symbol": "circle-dot"
         },
         "mode": "markers+text",
         "name": "discovered",
         "text": [
          "Website.Directory"
         ],
         "textposition": "bottom center",
         "type": "scatter",
         "x": [
          0.5
         ],
         "xaxis": "x2",
         "y": [
          8.742277657347586e-08
         ],
         "yaxis": "y2"
        }
       ],
       "layout": {
        "annotations": [
         {
          "align": "center",
          "arrowcolor": "gray",
          "arrowhead": 1,
          "arrowsize": 1,
          "arrowwidth": 1,
          "ax": -0.5,
          "axref": "x2",
          "ay": -4.371138828673793e-08,
          "ayref": "y2",
          "hovertext": "KNOWS",
          "opacity": 1,
          "showarrow": true,
          "standoff": 10,
          "startstandoff": 10,
          "x": 0.5,
          "xref": "x2",
          "y": 8.742277657347586e-08,
          "yref": "y2"
         },
         {
          "align": "center",
          "arrowcolor": "gray",
          "arrowhead": 1,
          "arrowsize": 1,
          "arrowwidth": 1,
          "ax": 0.5,
          "axref": "x2",
          "ay": 8.742277657347586e-08,
          "ayref": "y2",
          "hovertext": "KNOWS",
          "opacity": 1,
          "showarrow": true,
          "standoff": 10,
          "startstandoff": 10,
          "x": -0.5,
          "xref": "x2",
          "y": -4.371138828673793e-08,
          "yref": "y2"
         },
         {
          "align": "center",
          "arrowcolor": "red",
          "arrowhead": 1,
          "arrowsize": 1,
          "arrowwidth": 1,
          "ax": 0,
          "axref": "x2",
          "ay": 0,
          "ayref": "y2",
          "hovertext": "LATERAL_MOVE",
          "opacity": 1,
          "showarrow": true,
          "standoff": 10,
          "startstandoff": 10,
          "x": -0.5,
          "xref": "x2",
          "y": -4.371138828673793e-08,
          "yref": "y2"
         },
         {
          "align": "center",
          "arrowcolor": "orange",
          "arrowhead": 1,
          "arrowsize": 1,
          "arrowwidth": 1,
          "ax": 0,
          "axref": "x2",
          "ay": 0,
          "ayref": "y2",
          "hovertext": "REMOTE_EXPLOIT",
          "opacity": 1,
          "showarrow": true,
          "standoff": 10,
          "startstandoff": 10,
          "x": 0.5,
          "xref": "x2",
          "y": 8.742277657347586e-08,
          "yref": "y2"
         }
        ],
        "autosize": false,
        "font": {
         "size": 10
        },
        "height": 400,
        "hovermode": "closest",
        "margin": {
         "b": 15,
         "l": 2,
         "r": 2,
         "t": 35
        },
        "showlegend": true,
        "template": {
         "data": {
          "bar": [
           {
            "error_x": {
             "color": "#2a3f5f"
            },
            "error_y": {
             "color": "#2a3f5f"
            },
            "marker": {
             "line": {
              "color": "#E5ECF6",
              "width": 0.5
             }
            },
            "type": "bar"
           }
          ],
          "barpolar": [
           {
            "marker": {
             "line": {
              "color": "#E5ECF6",
              "width": 0.5
             }
            },
            "type": "barpolar"
           }
          ],
          "carpet": [
           {
            "aaxis": {
             "endlinecolor": "#2a3f5f",
             "gridcolor": "white",
             "linecolor": "white",
             "minorgridcolor": "white",
             "startlinecolor": "#2a3f5f"
            },
            "baxis": {
             "endlinecolor": "#2a3f5f",
             "gridcolor": "white",
             "linecolor": "white",
             "minorgridcolor": "white",
             "startlinecolor": "#2a3f5f"
            },
            "type": "carpet"
           }
          ],
          "choropleth": [
           {
            "colorbar": {
             "outlinewidth": 0,
             "ticks": ""
            },
            "type": "choropleth"
           }
          ],
          "contour": [
           {
            "colorbar": {
             "outlinewidth": 0,
             "ticks": ""
            },
            "colorscale": [
             [
              0,
              "#0d0887"
             ],
             [
              0.1111111111111111,
              "#46039f"
             ],
             [
              0.2222222222222222,
              "#7201a8"
             ],
             [
              0.3333333333333333,
              "#9c179e"
             ],
             [
              0.4444444444444444,
              "#bd3786"
             ],
             [
              0.5555555555555556,
              "#d8576b"
             ],
             [
              0.6666666666666666,
              "#ed7953"
             ],
             [
              0.7777777777777778,
              "#fb9f3a"
             ],
             [
              0.8888888888888888,
              "#fdca26"
             ],
             [
              1,
              "#f0f921"
             ]
            ],
            "type": "contour"
           }
          ],
          "contourcarpet": [
           {
            "colorbar": {
             "outlinewidth": 0,
             "ticks": ""
            },
            "type": "contourcarpet"
           }
          ],
          "heatmap": [
           {
            "colorbar": {
             "outlinewidth": 0,
             "ticks": ""
            },
            "colorscale": [
             [
              0,
              "#0d0887"
             ],
             [
              0.1111111111111111,
              "#46039f"
             ],
             [
              0.2222222222222222,
              "#7201a8"
             ],
             [
              0.3333333333333333,
              "#9c179e"
             ],
             [
              0.4444444444444444,
              "#bd3786"
             ],
             [
              0.5555555555555556,
              "#d8576b"
             ],
             [
              0.6666666666666666,
              "#ed7953"
             ],
             [
              0.7777777777777778,
              "#fb9f3a"
             ],
             [
              0.8888888888888888,
              "#fdca26"
             ],
             [
              1,
              "#f0f921"
             ]
            ],
            "type": "heatmap"
           }
          ],
          "heatmapgl": [
           {
            "colorbar": {
             "outlinewidth": 0,
             "ticks": ""
            },
            "colorscale": [
             [
              0,
              "#0d0887"
             ],
             [
              0.1111111111111111,
              "#46039f"
             ],
             [
              0.2222222222222222,
              "#7201a8"
             ],
             [
              0.3333333333333333,
              "#9c179e"
             ],
             [
              0.4444444444444444,
              "#bd3786"
             ],
             [
              0.5555555555555556,
              "#d8576b"
             ],
             [
              0.6666666666666666,
              "#ed7953"
             ],
             [
              0.7777777777777778,
              "#fb9f3a"
             ],
             [
              0.8888888888888888,
              "#fdca26"
             ],
             [
              1,
              "#f0f921"
             ]
            ],
            "type": "heatmapgl"
           }
          ],
          "histogram": [
           {
            "marker": {
             "colorbar": {
              "outlinewidth": 0,
              "ticks": ""
             }
            },
            "type": "histogram"
           }
          ],
          "histogram2d": [
           {
            "colorbar": {
             "outlinewidth": 0,
             "ticks": ""
            },
            "colorscale": [
             [
              0,
              "#0d0887"
             ],
             [
              0.1111111111111111,
              "#46039f"
             ],
             [
              0.2222222222222222,
              "#7201a8"
             ],
             [
              0.3333333333333333,
              "#9c179e"
             ],
             [
              0.4444444444444444,
              "#bd3786"
             ],
             [
              0.5555555555555556,
              "#d8576b"
             ],
             [
              0.6666666666666666,
              "#ed7953"
             ],
             [
              0.7777777777777778,
              "#fb9f3a"
             ],
             [
              0.8888888888888888,
              "#fdca26"
             ],
             [
              1,
              "#f0f921"
             ]
            ],
            "type": "histogram2d"
           }
          ],
          "histogram2dcontour": [
           {
            "colorbar": {
             "outlinewidth": 0,
             "ticks": ""
            },
            "colorscale": [
             [
              0,
              "#0d0887"
             ],
             [
              0.1111111111111111,
              "#46039f"
             ],
             [
              0.2222222222222222,
              "#7201a8"
             ],
             [
              0.3333333333333333,
              "#9c179e"
             ],
             [
              0.4444444444444444,
              "#bd3786"
             ],
             [
              0.5555555555555556,
              "#d8576b"
             ],
             [
              0.6666666666666666,
              "#ed7953"
             ],
             [
              0.7777777777777778,
              "#fb9f3a"
             ],
             [
              0.8888888888888888,
              "#fdca26"
             ],
             [
              1,
              "#f0f921"
             ]
            ],
            "type": "histogram2dcontour"
           }
          ],
          "mesh3d": [
           {
            "colorbar": {
             "outlinewidth": 0,
             "ticks": ""
            },
            "type": "mesh3d"
           }
          ],
          "parcoords": [
           {
            "line": {
             "colorbar": {
              "outlinewidth": 0,
              "ticks": ""
             }
            },
            "type": "parcoords"
           }
          ],
          "pie": [
           {
            "automargin": true,
            "type": "pie"
           }
          ],
          "scatter": [
           {
            "marker": {
             "colorbar": {
              "outlinewidth": 0,
              "ticks": ""
             }
            },
            "type": "scatter"
           }
          ],
          "scatter3d": [
           {
            "line": {
             "colorbar": {
              "outlinewidth": 0,
              "ticks": ""
             }
            },
            "marker": {
             "colorbar": {
              "outlinewidth": 0,
              "ticks": ""
             }
            },
            "type": "scatter3d"
           }
          ],
          "scattercarpet": [
           {
            "marker": {
             "colorbar": {
              "outlinewidth": 0,
              "ticks": ""
             }
            },
            "type": "scattercarpet"
           }
          ],
          "scattergeo": [
           {
            "marker": {
             "colorbar": {
              "outlinewidth": 0,
              "ticks": ""
             }
            },
            "type": "scattergeo"
           }
          ],
          "scattergl": [
           {
            "marker": {
             "colorbar": {
              "outlinewidth": 0,
              "ticks": ""
             }
            },
            "type": "scattergl"
           }
          ],
          "scattermapbox": [
           {
            "marker": {
             "colorbar": {
              "outlinewidth": 0,
              "ticks": ""
             }
            },
            "type": "scattermapbox"
           }
          ],
          "scatterpolar": [
           {
            "marker": {
             "colorbar": {
              "outlinewidth": 0,
              "ticks": ""
             }
            },
            "type": "scatterpolar"
           }
          ],
          "scatterpolargl": [
           {
            "marker": {
             "colorbar": {
              "outlinewidth": 0,
              "ticks": ""
             }
            },
            "type": "scatterpolargl"
           }
          ],
          "scatterternary": [
           {
            "marker": {
             "colorbar": {
              "outlinewidth": 0,
              "ticks": ""
             }
            },
            "type": "scatterternary"
           }
          ],
          "surface": [
           {
            "colorbar": {
             "outlinewidth": 0,
             "ticks": ""
            },
            "colorscale": [
             [
              0,
              "#0d0887"
             ],
             [
              0.1111111111111111,
              "#46039f"
             ],
             [
              0.2222222222222222,
              "#7201a8"
             ],
             [
              0.3333333333333333,
              "#9c179e"
             ],
             [
              0.4444444444444444,
              "#bd3786"
             ],
             [
              0.5555555555555556,
              "#d8576b"
             ],
             [
              0.6666666666666666,
              "#ed7953"
             ],
             [
              0.7777777777777778,
              "#fb9f3a"
             ],
             [
              0.8888888888888888,
              "#fdca26"
             ],
             [
              1,
              "#f0f921"
             ]
            ],
            "type": "surface"
           }
          ],
          "table": [
           {
            "cells": {
             "fill": {
              "color": "#EBF0F8"
             },
             "line": {
              "color": "white"
             }
            },
            "header": {
             "fill": {
              "color": "#C8D4E3"
             },
             "line": {
              "color": "white"
             }
            },
            "type": "table"
           }
          ]
         },
         "layout": {
          "annotationdefaults": {
           "arrowcolor": "#2a3f5f",
           "arrowhead": 0,
           "arrowwidth": 1
          },
          "coloraxis": {
           "colorbar": {
            "outlinewidth": 0,
            "ticks": ""
           }
          },
          "colorscale": {
           "diverging": [
            [
             0,
             "#8e0152"
            ],
            [
             0.1,
             "#c51b7d"
            ],
            [
             0.2,
             "#de77ae"
            ],
            [
             0.3,
             "#f1b6da"
            ],
            [
             0.4,
             "#fde0ef"
            ],
            [
             0.5,
             "#f7f7f7"
            ],
            [
             0.6,
             "#e6f5d0"
            ],
            [
             0.7,
             "#b8e186"
            ],
            [
             0.8,
             "#7fbc41"
            ],
            [
             0.9,
             "#4d9221"
            ],
            [
             1,
             "#276419"
            ]
           ],
           "sequential": [
            [
             0,
             "#0d0887"
            ],
            [
             0.1111111111111111,
             "#46039f"
            ],
            [
             0.2222222222222222,
             "#7201a8"
            ],
            [
             0.3333333333333333,
             "#9c179e"
            ],
            [
             0.4444444444444444,
             "#bd3786"
            ],
            [
             0.5555555555555556,
             "#d8576b"
            ],
            [
             0.6666666666666666,
             "#ed7953"
            ],
            [
             0.7777777777777778,
             "#fb9f3a"
            ],
            [
             0.8888888888888888,
             "#fdca26"
            ],
            [
             1,
             "#f0f921"
            ]
           ],
           "sequentialminus": [
            [
             0,
             "#0d0887"
            ],
            [
             0.1111111111111111,
             "#46039f"
            ],
            [
             0.2222222222222222,
             "#7201a8"
            ],
            [
             0.3333333333333333,
             "#9c179e"
            ],
            [
             0.4444444444444444,
             "#bd3786"
            ],
            [
             0.5555555555555556,
             "#d8576b"
            ],
            [
             0.6666666666666666,
             "#ed7953"
            ],
            [
             0.7777777777777778,
             "#fb9f3a"
            ],
            [
             0.8888888888888888,
             "#fdca26"
            ],
            [
             1,
             "#f0f921"
            ]
           ]
          },
          "colorway": [
           "#636efa",
           "#EF553B",
           "#00cc96",
           "#ab63fa",
           "#FFA15A",
           "#19d3f3",
           "#FF6692",
           "#B6E880",
           "#FF97FF",
           "#FECB52"
          ],
          "font": {
           "color": "#2a3f5f"
          },
          "geo": {
           "bgcolor": "white",
           "lakecolor": "white",
           "landcolor": "#E5ECF6",
           "showlakes": true,
           "showland": true,
           "subunitcolor": "white"
          },
          "hoverlabel": {
           "align": "left"
          },
          "hovermode": "closest",
          "mapbox": {
           "style": "light"
          },
          "paper_bgcolor": "white",
          "plot_bgcolor": "#E5ECF6",
          "polar": {
           "angularaxis": {
            "gridcolor": "white",
            "linecolor": "white",
            "ticks": ""
           },
           "bgcolor": "#E5ECF6",
           "radialaxis": {
            "gridcolor": "white",
            "linecolor": "white",
            "ticks": ""
           }
          },
          "scene": {
           "xaxis": {
            "backgroundcolor": "#E5ECF6",
            "gridcolor": "white",
            "gridwidth": 2,
            "linecolor": "white",
            "showbackground": true,
            "ticks": "",
            "zerolinecolor": "white"
           },
           "yaxis": {
            "backgroundcolor": "#E5ECF6",
            "gridcolor": "white",
            "gridwidth": 2,
            "linecolor": "white",
            "showbackground": true,
            "ticks": "",
            "zerolinecolor": "white"
           },
           "zaxis": {
            "backgroundcolor": "#E5ECF6",
            "gridcolor": "white",
            "gridwidth": 2,
            "linecolor": "white",
            "showbackground": true,
            "ticks": "",
            "zerolinecolor": "white"
           }
          },
          "shapedefaults": {
           "line": {
            "color": "#2a3f5f"
           }
          },
          "ternary": {
           "aaxis": {
            "gridcolor": "white",
            "linecolor": "white",
            "ticks": ""
           },
           "baxis": {
            "gridcolor": "white",
            "linecolor": "white",
            "ticks": ""
           },
           "bgcolor": "#E5ECF6",
           "caxis": {
            "gridcolor": "white",
            "linecolor": "white",
            "ticks": ""
           }
          },
          "title": {
           "x": 0.05
          },
          "xaxis": {
           "automargin": true,
           "gridcolor": "white",
           "linecolor": "white",
           "ticks": "",
           "title": {
            "standoff": 15
           },
           "zerolinecolor": "white",
           "zerolinewidth": 2
          },
          "yaxis": {
           "automargin": true,
           "gridcolor": "white",
           "linecolor": "white",
           "ticks": "",
           "title": {
            "standoff": 15
           },
           "zerolinecolor": "white",
           "zerolinewidth": 2
          }
         }
        },
        "title": {
         "text": "CyberBattle simulation"
        },
        "width": 800,
        "xaxis": {
         "anchor": "y",
         "domain": [
          0,
          0.45
         ]
        },
        "xaxis2": {
         "anchor": "y2",
         "domain": [
          0.55,
          1
         ]
        },
        "yaxis": {
         "anchor": "x",
         "domain": [
          0,
          1
         ]
        },
        "yaxis2": {
         "anchor": "x2",
         "domain": [
          0,
          1
         ]
        }
       }
      },
      "text/html": [
       "<div>                            <div id=\"6f5b7503-0c48-49d2-877a-3c4e2edfd1e7\" class=\"plotly-graph-div\" style=\"height:400px; width:800px;\"></div>            <script type=\"text/javascript\">                require([\"plotly\"], function(Plotly) {                    window.PLOTLYENV=window.PLOTLYENV || {};                                    if (document.getElementById(\"6f5b7503-0c48-49d2-877a-3c4e2edfd1e7\")) {                    Plotly.newPlot(                        \"6f5b7503-0c48-49d2-877a-3c4e2edfd1e7\",                        [{\"name\": \"cumulative reward\", \"type\": \"scatter\", \"xaxis\": \"x\", \"y\": [11.0, 22.0, 22.0, 31.0, 1031.0], \"yaxis\": \"y\"}, {\"line\": {\"color\": \"gray\"}, \"mode\": \"lines\", \"name\": \"KNOWS\", \"type\": \"scatter\", \"x\": [0], \"xaxis\": \"x2\", \"y\": [0], \"yaxis\": \"y2\"}, {\"line\": {\"color\": \"orange\"}, \"mode\": \"lines\", \"name\": \"REMOTE_EXPLOIT\", \"type\": \"scatter\", \"x\": [0], \"xaxis\": \"x2\", \"y\": [0], \"yaxis\": \"y2\"}, {\"line\": {\"color\": \"red\"}, \"mode\": \"lines\", \"name\": \"LATERAL_MOVE\", \"type\": \"scatter\", \"x\": [0], \"xaxis\": \"x2\", \"y\": [0], \"yaxis\": \"y2\"}, {\"hoverinfo\": \"text\", \"marker\": {\"color\": \"#D32F2E\", \"line\": {\"color\": \"rgb(255,0,0)\", \"width\": 8}, \"size\": 5, \"symbol\": \"circle-dot\"}, \"mode\": \"markers+text\", \"name\": \"owned\", \"text\": [\"client\", \"Website\"], \"textposition\": \"bottom center\", \"type\": \"scatter\", \"x\": [0.0, -0.5], \"xaxis\": \"x2\", \"y\": [0.0, -4.371138828673793e-08], \"yaxis\": \"y2\"}, {\"hoverinfo\": \"text\", \"marker\": {\"color\": \"#0e9d00\", \"line\": {\"color\": \"rgb(0,255,0)\", \"width\": 8}, \"size\": 5, \"symbol\": \"circle-dot\"}, \"mode\": \"markers+text\", \"name\": \"discovered\", \"text\": [\"Website.Directory\"], \"textposition\": \"bottom center\", \"type\": \"scatter\", \"x\": [0.5], \"xaxis\": \"x2\", \"y\": [8.742277657347586e-08], \"yaxis\": \"y2\"}],                        {\"annotations\": [{\"align\": \"center\", \"arrowcolor\": \"gray\", \"arrowhead\": 1, \"arrowsize\": 1, \"arrowwidth\": 1, \"ax\": -0.5, \"axref\": \"x2\", \"ay\": -4.371138828673793e-08, \"ayref\": \"y2\", \"hovertext\": \"KNOWS\", \"opacity\": 1, \"showarrow\": true, \"standoff\": 10, \"startstandoff\": 10, \"x\": 0.5, \"xref\": \"x2\", \"y\": 8.742277657347586e-08, \"yref\": \"y2\"}, {\"align\": \"center\", \"arrowcolor\": \"gray\", \"arrowhead\": 1, \"arrowsize\": 1, \"arrowwidth\": 1, \"ax\": 0.5, \"axref\": \"x2\", \"ay\": 8.742277657347586e-08, \"ayref\": \"y2\", \"hovertext\": \"KNOWS\", \"opacity\": 1, \"showarrow\": true, \"standoff\": 10, \"startstandoff\": 10, \"x\": -0.5, \"xref\": \"x2\", \"y\": -4.371138828673793e-08, \"yref\": \"y2\"}, {\"align\": \"center\", \"arrowcolor\": \"red\", \"arrowhead\": 1, \"arrowsize\": 1, \"arrowwidth\": 1, \"ax\": 0.0, \"axref\": \"x2\", \"ay\": 0.0, \"ayref\": \"y2\", \"hovertext\": \"LATERAL_MOVE\", \"opacity\": 1, \"showarrow\": true, \"standoff\": 10, \"startstandoff\": 10, \"x\": -0.5, \"xref\": \"x2\", \"y\": -4.371138828673793e-08, \"yref\": \"y2\"}, {\"align\": \"center\", \"arrowcolor\": \"orange\", \"arrowhead\": 1, \"arrowsize\": 1, \"arrowwidth\": 1, \"ax\": 0.0, \"axref\": \"x2\", \"ay\": 0.0, \"ayref\": \"y2\", \"hovertext\": \"REMOTE_EXPLOIT\", \"opacity\": 1, \"showarrow\": true, \"standoff\": 10, \"startstandoff\": 10, \"x\": 0.5, \"xref\": \"x2\", \"y\": 8.742277657347586e-08, \"yref\": \"y2\"}], \"autosize\": false, \"font\": {\"size\": 10}, \"height\": 400, \"hovermode\": \"closest\", \"margin\": {\"b\": 15, \"l\": 2, \"r\": 2, \"t\": 35}, \"showlegend\": true, \"template\": {\"data\": {\"bar\": [{\"error_x\": {\"color\": \"#2a3f5f\"}, \"error_y\": {\"color\": \"#2a3f5f\"}, \"marker\": {\"line\": {\"color\": \"#E5ECF6\", \"width\": 0.5}}, \"type\": \"bar\"}], \"barpolar\": [{\"marker\": {\"line\": {\"color\": \"#E5ECF6\", \"width\": 0.5}}, \"type\": \"barpolar\"}], \"carpet\": [{\"aaxis\": {\"endlinecolor\": \"#2a3f5f\", \"gridcolor\": \"white\", \"linecolor\": \"white\", \"minorgridcolor\": \"white\", \"startlinecolor\": \"#2a3f5f\"}, \"baxis\": {\"endlinecolor\": \"#2a3f5f\", \"gridcolor\": \"white\", \"linecolor\": \"white\", \"minorgridcolor\": \"white\", \"startlinecolor\": \"#2a3f5f\"}, \"type\": \"carpet\"}], \"choropleth\": [{\"colorbar\": {\"outlinewidth\": 0, \"ticks\": \"\"}, \"type\": \"choropleth\"}], \"contour\": [{\"colorbar\": {\"outlinewidth\": 0, \"ticks\": \"\"}, \"colorscale\": [[0.0, \"#0d0887\"], [0.1111111111111111, \"#46039f\"], [0.2222222222222222, \"#7201a8\"], [0.3333333333333333, \"#9c179e\"], [0.4444444444444444, \"#bd3786\"], [0.5555555555555556, \"#d8576b\"], [0.6666666666666666, \"#ed7953\"], [0.7777777777777778, \"#fb9f3a\"], [0.8888888888888888, \"#fdca26\"], [1.0, \"#f0f921\"]], \"type\": \"contour\"}], \"contourcarpet\": [{\"colorbar\": {\"outlinewidth\": 0, \"ticks\": \"\"}, \"type\": \"contourcarpet\"}], \"heatmap\": [{\"colorbar\": {\"outlinewidth\": 0, \"ticks\": \"\"}, \"colorscale\": [[0.0, \"#0d0887\"], [0.1111111111111111, \"#46039f\"], [0.2222222222222222, \"#7201a8\"], [0.3333333333333333, \"#9c179e\"], [0.4444444444444444, \"#bd3786\"], [0.5555555555555556, \"#d8576b\"], [0.6666666666666666, \"#ed7953\"], [0.7777777777777778, \"#fb9f3a\"], [0.8888888888888888, \"#fdca26\"], [1.0, \"#f0f921\"]], \"type\": \"heatmap\"}], \"heatmapgl\": [{\"colorbar\": {\"outlinewidth\": 0, \"ticks\": \"\"}, \"colorscale\": [[0.0, \"#0d0887\"], [0.1111111111111111, \"#46039f\"], [0.2222222222222222, \"#7201a8\"], [0.3333333333333333, \"#9c179e\"], [0.4444444444444444, \"#bd3786\"], [0.5555555555555556, \"#d8576b\"], [0.6666666666666666, \"#ed7953\"], [0.7777777777777778, \"#fb9f3a\"], [0.8888888888888888, \"#fdca26\"], [1.0, \"#f0f921\"]], \"type\": \"heatmapgl\"}], \"histogram\": [{\"marker\": {\"colorbar\": {\"outlinewidth\": 0, \"ticks\": \"\"}}, \"type\": \"histogram\"}], \"histogram2d\": [{\"colorbar\": {\"outlinewidth\": 0, \"ticks\": \"\"}, \"colorscale\": [[0.0, \"#0d0887\"], [0.1111111111111111, \"#46039f\"], [0.2222222222222222, \"#7201a8\"], [0.3333333333333333, \"#9c179e\"], [0.4444444444444444, \"#bd3786\"], [0.5555555555555556, \"#d8576b\"], [0.6666666666666666, \"#ed7953\"], [0.7777777777777778, \"#fb9f3a\"], [0.8888888888888888, \"#fdca26\"], [1.0, \"#f0f921\"]], \"type\": \"histogram2d\"}], \"histogram2dcontour\": [{\"colorbar\": {\"outlinewidth\": 0, \"ticks\": \"\"}, \"colorscale\": [[0.0, \"#0d0887\"], [0.1111111111111111, \"#46039f\"], [0.2222222222222222, \"#7201a8\"], [0.3333333333333333, \"#9c179e\"], [0.4444444444444444, \"#bd3786\"], [0.5555555555555556, \"#d8576b\"], [0.6666666666666666, \"#ed7953\"], [0.7777777777777778, \"#fb9f3a\"], [0.8888888888888888, \"#fdca26\"], [1.0, \"#f0f921\"]], \"type\": \"histogram2dcontour\"}], \"mesh3d\": [{\"colorbar\": {\"outlinewidth\": 0, \"ticks\": \"\"}, \"type\": \"mesh3d\"}], \"parcoords\": [{\"line\": {\"colorbar\": {\"outlinewidth\": 0, \"ticks\": \"\"}}, \"type\": \"parcoords\"}], \"pie\": [{\"automargin\": true, \"type\": \"pie\"}], \"scatter\": [{\"marker\": {\"colorbar\": {\"outlinewidth\": 0, \"ticks\": \"\"}}, \"type\": \"scatter\"}], \"scatter3d\": [{\"line\": {\"colorbar\": {\"outlinewidth\": 0, \"ticks\": \"\"}}, \"marker\": {\"colorbar\": {\"outlinewidth\": 0, \"ticks\": \"\"}}, \"type\": \"scatter3d\"}], \"scattercarpet\": [{\"marker\": {\"colorbar\": {\"outlinewidth\": 0, \"ticks\": \"\"}}, \"type\": \"scattercarpet\"}], \"scattergeo\": [{\"marker\": {\"colorbar\": {\"outlinewidth\": 0, \"ticks\": \"\"}}, \"type\": \"scattergeo\"}], \"scattergl\": [{\"marker\": {\"colorbar\": {\"outlinewidth\": 0, \"ticks\": \"\"}}, \"type\": \"scattergl\"}], \"scattermapbox\": [{\"marker\": {\"colorbar\": {\"outlinewidth\": 0, \"ticks\": \"\"}}, \"type\": \"scattermapbox\"}], \"scatterpolar\": [{\"marker\": {\"colorbar\": {\"outlinewidth\": 0, \"ticks\": \"\"}}, \"type\": \"scatterpolar\"}], \"scatterpolargl\": [{\"marker\": {\"colorbar\": {\"outlinewidth\": 0, \"ticks\": \"\"}}, \"type\": \"scatterpolargl\"}], \"scatterternary\": [{\"marker\": {\"colorbar\": {\"outlinewidth\": 0, \"ticks\": \"\"}}, \"type\": \"scatterternary\"}], \"surface\": [{\"colorbar\": {\"outlinewidth\": 0, \"ticks\": \"\"}, \"colorscale\": [[0.0, \"#0d0887\"], [0.1111111111111111, \"#46039f\"], [0.2222222222222222, \"#7201a8\"], [0.3333333333333333, \"#9c179e\"], [0.4444444444444444, \"#bd3786\"], [0.5555555555555556, \"#d8576b\"], [0.6666666666666666, \"#ed7953\"], [0.7777777777777778, \"#fb9f3a\"], [0.8888888888888888, \"#fdca26\"], [1.0, \"#f0f921\"]], \"type\": \"surface\"}], \"table\": [{\"cells\": {\"fill\": {\"color\": \"#EBF0F8\"}, \"line\": {\"color\": \"white\"}}, \"header\": {\"fill\": {\"color\": \"#C8D4E3\"}, \"line\": {\"color\": \"white\"}}, \"type\": \"table\"}]}, \"layout\": {\"annotationdefaults\": {\"arrowcolor\": \"#2a3f5f\", \"arrowhead\": 0, \"arrowwidth\": 1}, \"coloraxis\": {\"colorbar\": {\"outlinewidth\": 0, \"ticks\": \"\"}}, \"colorscale\": {\"diverging\": [[0, \"#8e0152\"], [0.1, \"#c51b7d\"], [0.2, \"#de77ae\"], [0.3, \"#f1b6da\"], [0.4, \"#fde0ef\"], [0.5, \"#f7f7f7\"], [0.6, \"#e6f5d0\"], [0.7, \"#b8e186\"], [0.8, \"#7fbc41\"], [0.9, \"#4d9221\"], [1, \"#276419\"]], \"sequential\": [[0.0, \"#0d0887\"], [0.1111111111111111, \"#46039f\"], [0.2222222222222222, \"#7201a8\"], [0.3333333333333333, \"#9c179e\"], [0.4444444444444444, \"#bd3786\"], [0.5555555555555556, \"#d8576b\"], [0.6666666666666666, \"#ed7953\"], [0.7777777777777778, \"#fb9f3a\"], [0.8888888888888888, \"#fdca26\"], [1.0, \"#f0f921\"]], \"sequentialminus\": [[0.0, \"#0d0887\"], [0.1111111111111111, \"#46039f\"], [0.2222222222222222, \"#7201a8\"], [0.3333333333333333, \"#9c179e\"], [0.4444444444444444, \"#bd3786\"], [0.5555555555555556, \"#d8576b\"], [0.6666666666666666, \"#ed7953\"], [0.7777777777777778, \"#fb9f3a\"], [0.8888888888888888, \"#fdca26\"], [1.0, \"#f0f921\"]]}, \"colorway\": [\"#636efa\", \"#EF553B\", \"#00cc96\", \"#ab63fa\", \"#FFA15A\", \"#19d3f3\", \"#FF6692\", \"#B6E880\", \"#FF97FF\", \"#FECB52\"], \"font\": {\"color\": \"#2a3f5f\"}, \"geo\": {\"bgcolor\": \"white\", \"lakecolor\": \"white\", \"landcolor\": \"#E5ECF6\", \"showlakes\": true, \"showland\": true, \"subunitcolor\": \"white\"}, \"hoverlabel\": {\"align\": \"left\"}, \"hovermode\": \"closest\", \"mapbox\": {\"style\": \"light\"}, \"paper_bgcolor\": \"white\", \"plot_bgcolor\": \"#E5ECF6\", \"polar\": {\"angularaxis\": {\"gridcolor\": \"white\", \"linecolor\": \"white\", \"ticks\": \"\"}, \"bgcolor\": \"#E5ECF6\", \"radialaxis\": {\"gridcolor\": \"white\", \"linecolor\": \"white\", \"ticks\": \"\"}}, \"scene\": {\"xaxis\": {\"backgroundcolor\": \"#E5ECF6\", \"gridcolor\": \"white\", \"gridwidth\": 2, \"linecolor\": \"white\", \"showbackground\": true, \"ticks\": \"\", \"zerolinecolor\": \"white\"}, \"yaxis\": {\"backgroundcolor\": \"#E5ECF6\", \"gridcolor\": \"white\", \"gridwidth\": 2, \"linecolor\": \"white\", \"showbackground\": true, \"ticks\": \"\", \"zerolinecolor\": \"white\"}, \"zaxis\": {\"backgroundcolor\": \"#E5ECF6\", \"gridcolor\": \"white\", \"gridwidth\": 2, \"linecolor\": \"white\", \"showbackground\": true, \"ticks\": \"\", \"zerolinecolor\": \"white\"}}, \"shapedefaults\": {\"line\": {\"color\": \"#2a3f5f\"}}, \"ternary\": {\"aaxis\": {\"gridcolor\": \"white\", \"linecolor\": \"white\", \"ticks\": \"\"}, \"baxis\": {\"gridcolor\": \"white\", \"linecolor\": \"white\", \"ticks\": \"\"}, \"bgcolor\": \"#E5ECF6\", \"caxis\": {\"gridcolor\": \"white\", \"linecolor\": \"white\", \"ticks\": \"\"}}, \"title\": {\"x\": 0.05}, \"xaxis\": {\"automargin\": true, \"gridcolor\": \"white\", \"linecolor\": \"white\", \"ticks\": \"\", \"title\": {\"standoff\": 15}, \"zerolinecolor\": \"white\", \"zerolinewidth\": 2}, \"yaxis\": {\"automargin\": true, \"gridcolor\": \"white\", \"linecolor\": \"white\", \"ticks\": \"\", \"title\": {\"standoff\": 15}, \"zerolinecolor\": \"white\", \"zerolinewidth\": 2}}}, \"title\": {\"text\": \"CyberBattle simulation\"}, \"width\": 800, \"xaxis\": {\"anchor\": \"y\", \"domain\": [0.0, 0.45]}, \"xaxis2\": {\"anchor\": \"y2\", \"domain\": [0.55, 1.0]}, \"yaxis\": {\"anchor\": \"x\", \"domain\": [0.0, 1.0]}, \"yaxis2\": {\"anchor\": \"x2\", \"domain\": [0.0, 1.0]}},                        {\"responsive\": true}                    ).then(function(){\n",
       "                            \n",
       "var gd = document.getElementById('6f5b7503-0c48-49d2-877a-3c4e2edfd1e7');\n",
       "var x = new MutationObserver(function (mutations, observer) {{\n",
       "        var display = window.getComputedStyle(gd).display;\n",
       "        if (!display || display === 'none') {{\n",
       "            console.log([gd, 'removed!']);\n",
       "            Plotly.purge(gd);\n",
       "            observer.disconnect();\n",
       "        }}\n",
       "}});\n",
       "\n",
       "// Listen for the removal of the full notebook cells\n",
       "var notebookContainer = gd.closest('#notebook-container');\n",
       "if (notebookContainer) {{\n",
       "    x.observe(notebookContainer, {childList: true});\n",
       "}}\n",
       "\n",
       "// Listen for the clearing of the current output cell\n",
       "var outputEl = gd.closest('.output');\n",
       "if (outputEl) {{\n",
       "    x.observe(outputEl, {childList: true});\n",
       "}}\n",
       "\n",
       "                        })                };                });            </script>        </div>"
      ]
     },
     "metadata": {},
     "output_type": "display_data"
    },
    {
     "name": "stdout",
     "output_type": "stream",
     "text": [
      "Successfull flag acquiring\n"
     ]
    },
    {
     "data": {
      "application/vnd.jupyter.widget-view+json": {
       "model_id": "48b5d545801d42588cbe88e322bda454",
       "version_major": 2,
       "version_minor": 0
      },
      "text/plain": [
       "interactive(children=(IntSlider(value=1, description='step', max=4, min=-1), Output()), _dom_classes=('widget-…"
      ]
     },
     "metadata": {},
     "output_type": "display_data"
    }
   ],
   "source": [
    "# initialize the environment\n",
    "\n",
    "current_o = ctf_env.reset()\n",
    "wrapped_env = AgentWrapper(ctf_env, ActionTrackingStateAugmentation(ep, current_o))\n",
    "l = dqn_learning_run['learner']\n",
    "\n",
    "current_o = wrapped_env.reset()\n",
    "current_initial = current_o.copy()\n",
    "\n",
    "# Use the trained agent to run the steps one by one\n",
    "\n",
    "max_steps = 10\n",
    "\n",
    "# next action suggested by DQL agent\n",
    "net_bitmap_l = []\n",
    "outputs_on_step= []\n",
    "total_reward = 0\n",
    "for i in range(max_steps):\n",
    "    sampled_actions = {}\n",
    "    print(\"\\nStep: {}, sample all actions under action_mask\"\n",
    "          \"(bruteforce search)\".format(i))\n",
    "            \n",
    "    #bruteforce sample actions\n",
    "    all_local_flag = all_remote_flag = 0\n",
    "    while True:\n",
    "        sampled_action =  wrapped_env.sample_valid_action()\n",
    "\n",
    "        if not all_local_flag:\n",
    "            if \"local\" not in str(sampled_action):\n",
    "                continue\n",
    "        else:\n",
    "            if not all_remote_flag and \"remote\" not in str(sampled_action):\n",
    "                continue\n",
    "        \n",
    "        if str(sampled_action) not in sampled_actions.keys():\n",
    "            sampled_actions[str(sampled_action)] = 0\n",
    "            print(\"\\t{}\\t{}\".format(str(sampled_action),\n",
    "                                       wrapped_env.pretty_print_internal_action(\n",
    "                                           sampled_action)))\n",
    "        else:\n",
    "            if np.all(np.array(list(sampled_actions.values())) > 5):\n",
    "                if not all_local_flag:\n",
    "                    all_local_flag = 1\n",
    "                    continue\n",
    "                if not all_remote_flag:\n",
    "                    all_remote_flag = 1\n",
    "                    continue\n",
    "                break\n",
    "            sampled_actions[str(sampled_action)] += 1\n",
    "\n",
    "    # run the suggested action\n",
    "    action_style, gym_action, action_metadata = l.exploit(wrapped_env, current_o)\n",
    "    if gym_action is None:\n",
    "        print(\"Exploit unsuccessful: \", action_style, ' ', gym_action)\n",
    "        break\n",
    "    net_bitmap_l.append(\n",
    "            (wrapped_env.get_explored_network_node_properties_bitmap_as_numpy(current_o), \n",
    "             gym_action))\n",
    "\n",
    "    current_o, reward, done, info = wrapped_env.step(gym_action)\n",
    "    outputs_on_step += [current_o]  \n",
    "    \n",
    "    total_reward += reward\n",
    "    if True:\n",
    "        sign = ['-', '+'][reward > 0]\n",
    "        sign = [sign, '='][-1e-4 < reward < 1e-4]\n",
    "\n",
    "        print(f\"\\nExecuted: \\n {sign} t={i} {action_style} r={reward} cum_reward:{total_reward} \"\n",
    "              f\"a={action_metadata}-{gym_action} \"\n",
    "              f\"creds={len(current_o['credential_cache_matrix'])} \"\n",
    "              f\" {l.stateaction_as_string(action_metadata)}\")\n",
    "        wrapped_env.render()\n",
    "    \n",
    "    if total_reward > 1000:\n",
    "        print(\"Successfull flag acquiring\")\n",
    "        break\n",
    "\n",
    "#     if True and (i == 0 or i >= max_steps - 3):\n",
    "#         pprint.pprint(current_o)\n",
    "#         print()\n",
    "\n",
    "@interact(step=(-1, len(outputs_on_step)-1))\n",
    "def double_number(step: int):\n",
    "    if step < 0:\n",
    "        print(\"\\n\\nInitial observation only t=\",step)\n",
    "        pprint.pprint({k: current_initial[k] for k in current_o_keys})\n",
    "        return\n",
    "    pprint.pprint(\"explored network node \" + repr(net_bitmap_l[step][0]) \n",
    "                  + \"\\n gym_action\" + repr(net_bitmap_l[step][1]))\n",
    "    print(\"\\n Observation after action t=\",step)\n",
    "    pprint.pprint({k: outputs_on_step[step][k] for k in current_o_keys})\n",
    "    print(\"\\nAction mask \")\n",
    "    pprint.pprint(outputs_on_step[step]['action_mask'])\n",
    "    \n",
    "    "
   ]
  },
  {
   "cell_type": "code",
   "execution_count": null,
   "id": "589be15f",
   "metadata": {},
   "outputs": [],
   "source": []
  },
  {
   "cell_type": "code",
   "execution_count": null,
   "id": "537ce563",
   "metadata": {},
   "outputs": [],
   "source": []
  },
  {
   "cell_type": "code",
   "execution_count": null,
   "id": "4e754459",
   "metadata": {},
   "outputs": [],
   "source": []
  },
  {
   "cell_type": "markdown",
   "id": "28ec2c5d",
   "metadata": {},
   "source": [
    "### Appendix"
   ]
  },
  {
   "cell_type": "code",
   "execution_count": 34,
   "id": "0c722661",
   "metadata": {},
   "outputs": [
    {
     "data": {
      "text/plain": [
       "[abstract_action=5, actor=0, state=[1. 1. 1. 1. 0. 0. 1. 0. 0. 2. 0. 0. 0. 1. 0. 0. 0. 0. 2.]]"
      ]
     },
     "execution_count": 34,
     "metadata": {},
     "output_type": "execute_result"
    }
   ],
   "source": [
    "l.metadata_from_gymaction(wrapped_env, gym_action)"
   ]
  },
  {
   "cell_type": "code",
   "execution_count": 20,
   "id": "6f98c27a",
   "metadata": {},
   "outputs": [
    {
     "data": {
      "text/plain": [
       "DiscriminatedUnion(connect:MultiDiscrete([3 3 3 5]), local_vulnerability:MultiDiscrete([3 1]), remote_vulnerability:MultiDiscrete([3 3 2]))"
      ]
     },
     "execution_count": 20,
     "metadata": {},
     "output_type": "execute_result"
    }
   ],
   "source": [
    "current_o_keys = [\n",
    "        'newly_discovered_nodes_count', \n",
    "        'leaked_credentials', \n",
    "        'lateral_move', \n",
    "        'customer_data_found', \n",
    "        'escalation', \n",
    "        #'action_mask', \n",
    "        'probe_result', \n",
    "        'credential_cache_matrix', \n",
    "        'credential_cache_length', \n",
    "        'discovered_node_count', \n",
    "        'discovered_nodes_properties', \n",
    "        'nodes_privilegelevel', \n",
    "        '_credential_cache', \n",
    "        '_discovered_nodes', \n",
    "        #'_explored_network'\n",
    "                 ]\n",
    "\n",
    "wrapped_env.action_space"
   ]
  },
  {
   "cell_type": "code",
   "execution_count": 33,
   "id": "d90ac7fc",
   "metadata": {},
   "outputs": [
    {
     "name": "stdout",
     "output_type": "stream",
     "text": [
      "{'connect': array([0, 1, 2, 0], dtype=int32)}\n",
      "5\n",
      "5\n",
      "5\n",
      "5\n",
      "5\n"
     ]
    }
   ],
   "source": [
    "print(gym_action)\n",
    "for output in outputs_on_step[1:]:\n",
    "    for ind in np.where(output['action_mask']):\n",
    "        print(l.stateaction_model.action_space.abstract_from_gymaction(\n",
    "            gym_action))"
   ]
  },
  {
   "cell_type": "code",
   "execution_count": 32,
   "id": "51ffffaa",
   "metadata": {},
   "outputs": [
    {
     "data": {
      "text/plain": [
       "array([1, 1, 0], dtype=int32)"
      ]
     },
     "execution_count": 32,
     "metadata": {},
     "output_type": "execute_result"
    }
   ],
   "source": [
    "current_o['nodes_privilegelevel']"
   ]
  },
  {
   "cell_type": "code",
   "execution_count": 31,
   "id": "db218078",
   "metadata": {},
   "outputs": [],
   "source": [
    "import cyberbattle.agents.baseline.agent_wrapper as w\n",
    "active_actors_features = [\n",
    "            l.stateaction_model.node_specific_features.get(wrapped_env.state, from_node)\n",
    "            for from_node in w.owned_nodes(current_o)\n",
    "        ]"
   ]
  },
  {
   "cell_type": "code",
   "execution_count": 36,
   "id": "0442b87d",
   "metadata": {},
   "outputs": [
    {
     "data": {
      "text/plain": [
       "array([1])"
      ]
     },
     "execution_count": 36,
     "metadata": {},
     "output_type": "execute_result"
    }
   ],
   "source": [
    "current_global_state = l.stateaction_model.global_features.get(wrapped_env.state)\n",
    "current_global_state"
   ]
  },
  {
   "cell_type": "code",
   "execution_count": 37,
   "id": "placed-commissioner",
   "metadata": {
    "execution": {
     "iopub.execute_input": "2021-09-06T20:23:21.423668Z",
     "iopub.status.busy": "2021-09-06T20:23:21.423071Z",
     "iopub.status.idle": "2021-09-06T20:23:21.768454Z",
     "shell.execute_reply": "2021-09-06T20:23:21.767934Z"
    },
    "papermill": {
     "duration": 0.427647,
     "end_time": "2021-09-06T20:23:21.768590",
     "exception": false,
     "start_time": "2021-09-06T20:23:21.340943",
     "status": "completed"
    },
    "tags": []
   },
   "outputs": [
    {
     "data": {
      "text/plain": [
       "(3, 3, 3, 5)"
      ]
     },
     "execution_count": 37,
     "metadata": {},
     "output_type": "execute_result"
    }
   ],
   "source": [
    "outputs_on_step[2]['action_mask']['connect'].shape"
   ]
  },
  {
   "cell_type": "code",
   "execution_count": null,
   "id": "3127b8c2",
   "metadata": {},
   "outputs": [],
   "source": []
  }
 ],
 "metadata": {
  "jupytext": {
   "cell_metadata_filter": "tags,title,-all",
   "cell_metadata_json": true
  },
  "kernelspec": {
   "display_name": "Python 3 (ipykernel)",
   "language": "python",
   "name": "python3"
  },
  "language_info": {
   "codemirror_mode": {
    "name": "ipython",
    "version": 3
   },
   "file_extension": ".py",
   "mimetype": "text/x-python",
   "name": "python",
   "nbconvert_exporter": "python",
   "pygments_lexer": "ipython3",
   "version": "3.8.14"
  },
  "papermill": {
   "default_parameters": {},
   "duration": 17.284898,
   "end_time": "2021-09-06T20:23:23.405747",
   "environment_variables": {},
   "exception": null,
   "input_path": "-",
   "output_path": "output/notebook_dql_debug_tiny.ipynb",
   "parameters": {
    "gymid": "CyberBattleTiny-v0",
    "iteration_count": 150
   },
   "start_time": "2021-09-06T20:23:06.120849",
   "version": "2.3.3"
  }
 },
 "nbformat": 4,
 "nbformat_minor": 5
}
