{
 "cells": [
  {
   "cell_type": "code",
   "execution_count": 1,
   "id": "c997a0fc",
   "metadata": {
    "execution": {
     "iopub.execute_input": "2023-01-18T09:24:16.000321Z",
     "iopub.status.busy": "2023-01-18T09:24:15.997602Z",
     "iopub.status.idle": "2023-01-18T09:24:16.018049Z",
     "shell.execute_reply": "2023-01-18T09:24:16.016783Z"
    },
    "papermill": {
     "duration": 0.03509,
     "end_time": "2023-01-18T09:24:16.020650",
     "exception": false,
     "start_time": "2023-01-18T09:24:15.985560",
     "status": "completed"
    },
    "tags": []
   },
   "outputs": [
    {
     "data": {
      "text/plain": [
       "'Notebook used for debugging purpose to train the\\nthe DQL agent and then run it one step at a time.\\n'"
      ]
     },
     "execution_count": 1,
     "metadata": {},
     "output_type": "execute_result"
    }
   ],
   "source": [
    "# Copyright (c) Microsoft Corporation.\n",
    "# Licensed under the MIT License.\n",
    "\n",
    "\"\"\"Notebook used for debugging purpose to train the\n",
    "the DQL agent and then run it one step at a time.\n",
    "\"\"\"\n",
    "\n",
    "# pylint: disable=invalid-name"
   ]
  },
  {
   "cell_type": "code",
   "execution_count": 2,
   "id": "8aa1e202",
   "metadata": {
    "execution": {
     "iopub.execute_input": "2023-01-18T09:24:16.030313Z",
     "iopub.status.busy": "2023-01-18T09:24:16.029993Z",
     "iopub.status.idle": "2023-01-18T09:24:17.598197Z",
     "shell.execute_reply": "2023-01-18T09:24:17.597308Z"
    },
    "lines_to_next_cell": 2,
    "papermill": {
     "duration": 1.576492,
     "end_time": "2023-01-18T09:24:17.600612",
     "exception": false,
     "start_time": "2023-01-18T09:24:16.024120",
     "status": "completed"
    },
    "tags": []
   },
   "outputs": [
    {
     "data": {
      "text/plain": [
       "True"
      ]
     },
     "execution_count": 2,
     "metadata": {},
     "output_type": "execute_result"
    }
   ],
   "source": [
    "import os\n",
    "import logging\n",
    "import gym\n",
    "import datetime\n",
    "from IPython.display import display\n",
    "import cyberbattle.agents.baseline.learner as learner\n",
    "from cyberbattle.agents.baseline.agent_wrapper import ActionTrackingStateAugmentation, AgentWrapper, Verbosity\n",
    "import cyberbattle.agents.baseline.agent_wrapper as w\n",
    "from cyberbattle.simulation.config import logger, configuration\n",
    "\n",
    "import pandas as pd\n",
    "from dotenv import load_dotenv\n",
    "\n",
    "load_dotenv()\n",
    "\n",
    "\n",
    "# # torch.cuda.set_device('cuda:3')\n",
    "# log_level_dict = {\"info\": logging.INFO, \"error\": logging.ERROR, \"debug\": logging.DEBUG, \"warn\": logging.WARN, }\n",
    "# logging.basicConfig(level=log_level_dict[os.environ[\"LOG_LEVEL\"]],\n",
    "#                     format=\"[%(asctime)s] %(levelname)s: %(message)s\", datefmt='%H:%M:%S',\n",
    "#                     handlers=[logging.StreamHandler(sys.stdout)])  # + ([logging.FileHandler(os.path.join(log_dir, 'logfile.txt'))] if log_results else []))\n",
    "\n",
    "# logger = logging.getLogger()\n",
    "# logger.setLevel(logging.ERROR)"
   ]
  },
  {
   "cell_type": "code",
   "execution_count": 3,
   "id": "5a96c80c",
   "metadata": {
    "execution": {
     "iopub.execute_input": "2023-01-18T09:24:17.607915Z",
     "iopub.status.busy": "2023-01-18T09:24:17.607475Z",
     "iopub.status.idle": "2023-01-18T09:24:17.613554Z",
     "shell.execute_reply": "2023-01-18T09:24:17.612805Z"
    },
    "papermill": {
     "duration": 0.011773,
     "end_time": "2023-01-18T09:24:17.615516",
     "exception": false,
     "start_time": "2023-01-18T09:24:17.603743",
     "status": "completed"
    },
    "tags": [
     "parameters"
    ]
   },
   "outputs": [],
   "source": [
    "max_episode_steps = 50\n",
    "log_results = os.getenv(\"LOG_RESULTS\", 'False').lower() in ('true', '1', 't')\n",
    "gymid = os.getenv(\"GYMID\", 'CyberBattleTinyMicro-v0')\n",
    "training_episode_count = None\n",
    "train_while_exploit = False\n",
    "exploit_train = \"exploit_train\"   # \"exploit_manual\"\n",
    "\n",
    "log_dir = 'logs/exper/' + \"notebook_debug_tinymicro\"\n",
    "# convert the datetime object to string of specific format\n",
    "datetime_str = datetime.datetime.now().strftime(\"%Y%m%d_%H%M%S\")\n",
    "log_dir = os.path.join(log_dir, gymid, datetime_str)\n",
    "log_level = os.getenv('LOG_LEVEL', \"info\")\n",
    "iteration_count = None"
   ]
  },
  {
   "cell_type": "code",
   "execution_count": 4,
   "id": "4065c3d9",
   "metadata": {
    "execution": {
     "iopub.execute_input": "2023-01-18T09:24:17.621113Z",
     "iopub.status.busy": "2023-01-18T09:24:17.620717Z",
     "iopub.status.idle": "2023-01-18T09:24:17.625615Z",
     "shell.execute_reply": "2023-01-18T09:24:17.624778Z"
    },
    "papermill": {
     "duration": 0.009761,
     "end_time": "2023-01-18T09:24:17.627445",
     "exception": false,
     "start_time": "2023-01-18T09:24:17.617684",
     "status": "completed"
    },
    "tags": [
     "injected-parameters"
    ]
   },
   "outputs": [],
   "source": [
    "# Parameters\n",
    "gymid = \"CyberBattleTinyMicro-v1\"\n"
   ]
  },
  {
   "cell_type": "code",
   "execution_count": 5,
   "id": "a420e89f",
   "metadata": {
    "execution": {
     "iopub.execute_input": "2023-01-18T09:24:17.632841Z",
     "iopub.status.busy": "2023-01-18T09:24:17.632528Z",
     "iopub.status.idle": "2023-01-18T09:24:17.637096Z",
     "shell.execute_reply": "2023-01-18T09:24:17.636552Z"
    },
    "lines_to_next_cell": 2,
    "papermill": {
     "duration": 0.009474,
     "end_time": "2023-01-18T09:24:17.638965",
     "exception": false,
     "start_time": "2023-01-18T09:24:17.629491",
     "status": "completed"
    },
    "tags": []
   },
   "outputs": [],
   "source": [
    "iteration_count = max_episode_steps if iteration_count is None else iteration_count\n",
    "os.environ['LOG_DIR'] = log_dir\n",
    "os.environ['TRAINING_EPISODE_COUNT'] = os.getenv('TRAINING_EPISODE_COUNT', 1000) if training_episode_count is None else training_episode_count\n",
    "os.environ['LOG_RESULTS'] = str(log_results)\n",
    "\n",
    "os.makedirs(log_dir, exist_ok=True) if log_results else ''\n",
    "configuration.update_globals(log_dir, gymid, log_level, log_results)\n",
    "configuration.update_logger()\n",
    "\n",
    "# if os.environ['RUN_IN_SILENT_MODE'] in ['true']:\n",
    "#     f = open(os.devnull, 'w')\n",
    "#     sys.stdout = f"
   ]
  },
  {
   "cell_type": "code",
   "execution_count": 6,
   "id": "3e61bb50",
   "metadata": {
    "execution": {
     "iopub.execute_input": "2023-01-18T09:24:17.645083Z",
     "iopub.status.busy": "2023-01-18T09:24:17.644780Z",
     "iopub.status.idle": "2023-01-18T09:24:17.650652Z",
     "shell.execute_reply": "2023-01-18T09:24:17.650038Z"
    },
    "papermill": {
     "duration": 0.010692,
     "end_time": "2023-01-18T09:24:17.652179",
     "exception": false,
     "start_time": "2023-01-18T09:24:17.641487",
     "status": "completed"
    },
    "tags": []
   },
   "outputs": [],
   "source": [
    "# Load the gym environment\n",
    "\n",
    "ctf_env = gym.make(configuration.gymid)\n",
    "ctf_env.spec.max_episode_steps = max_episode_steps"
   ]
  },
  {
   "cell_type": "code",
   "execution_count": 7,
   "id": "6e7a8270",
   "metadata": {
    "execution": {
     "iopub.execute_input": "2023-01-18T09:24:17.658395Z",
     "iopub.status.busy": "2023-01-18T09:24:17.658071Z",
     "iopub.status.idle": "2023-01-18T09:24:17.661996Z",
     "shell.execute_reply": "2023-01-18T09:24:17.661353Z"
    },
    "papermill": {
     "duration": 0.009237,
     "end_time": "2023-01-18T09:24:17.663647",
     "exception": false,
     "start_time": "2023-01-18T09:24:17.654410",
     "status": "completed"
    },
    "tags": []
   },
   "outputs": [],
   "source": [
    "iteration_count = ctf_env.spec.max_episode_steps if iteration_count is None else iteration_count\n",
    "max_steps = iteration_count\n",
    "verbosity = Verbosity.Normal"
   ]
  },
  {
   "cell_type": "code",
   "execution_count": 8,
   "id": "5be8b774",
   "metadata": {
    "execution": {
     "iopub.execute_input": "2023-01-18T09:24:17.669466Z",
     "iopub.status.busy": "2023-01-18T09:24:17.669183Z",
     "iopub.status.idle": "2023-01-18T09:24:17.680347Z",
     "shell.execute_reply": "2023-01-18T09:24:17.679898Z"
    },
    "papermill": {
     "duration": 0.016132,
     "end_time": "2023-01-18T09:24:17.681966",
     "exception": false,
     "start_time": "2023-01-18T09:24:17.665834",
     "status": "completed"
    },
    "tags": []
   },
   "outputs": [],
   "source": [
    "ep = w.EnvironmentBounds.of_identifiers(\n",
    "    maximum_node_count=7,\n",
    "    maximum_total_credentials=1,\n",
    "    identifiers=ctf_env.identifiers\n",
    ")\n",
    "\n",
    "\n",
    "logger.setLevel(logging.INFO)\n",
    "\n",
    "logger.info(\"Logging into directory \" + log_dir)\n",
    "logger.info(\"\")\n",
    "\n",
    "ctf_env_2 = gym.make(gymid, env_bounds=ep)\n",
    "\n",
    "current_o = ctf_env_2.reset()\n",
    "wrapped_env = AgentWrapper(ctf_env_2, ActionTrackingStateAugmentation(ep, current_o))\n",
    "\n",
    "\n",
    "# !!! Track Profiles data yourself and make EXACT string for profiles, etc. do not forget about found properties, like id, roles.\n",
    "# Choosing ip.local means\n",
    "# 1) we found ip.local and registered as self.__ip_local flag;\n",
    "# 2) the profiles are still writen with ip = None, but you can use ip.local in profile_str to turn on/off SSRF action\n",
    "manual_commands = [\n",
    "    {'local': ['client_browser', 'ScanPageSource']},\n",
    "    {'local': ['client_browser', 'ScanBlockRegister']},\n",
    "    {'remote': ['client_browser', 'POST_/v2/register', \"username.NoAuth\", \"\"]},\n",
    "    {'remote': ['client_browser', 'GET_/v2/calendar', \"username.patient&id.UUIDfake\", \"\"]},\n",
    "    {'remote': ['client_browser', 'GET_/v2/users', \"username.LisaGWhite\", \"username\"]},\n",
    "    {'remote': ['client_browser', 'GET_/v2/messages', \"username.LisaGWhite&id.994D5244&roles.isDoctor\", \"\"]},\n",
    "    {'remote': ['client_browser', 'GET_/v2/users', \"username.MarioDFiles\", \"username\"]},\n",
    "    {'remote': ['client_browser', 'GET_/v2/messages', \"username.MarioDFiles&id.F5BCFE9D&roles.isDoctor\", \"\"]},\n",
    "    # {'remote': ['client_browser', 'GET_/v2/users', \"username.LisaGWhite&id.994D5244&roles.isDoctor\", \"\"]},\n",
    "    {'remote': ['client_browser', 'GET_/v2/users', \"username.LisaGWhite&id.994D5244&roles.isDoctor&ip.local\", \"\"]},\n",
    "    # {'remote': ['client_browser', 'GET_/v2/users', \"username.MarioDFiles&id.F5BCFE9D&roles.isDoctor&ip.local\", \"username\"]},\n",
    "    # {'remote': ['client_browser', 'GET_/v2/messages', \"username.LisaGWhite&id.994D5244&roles.isDoctor&ip.local\", \"\"]},\n",
    "    {'remote': ['client_browser', 'GET_/v2/documents', \"username.JamesMPaterson&id.68097B9D&roles.isChemist\", \"\"]},\n",
    "]"
   ]
  },
  {
   "cell_type": "code",
   "execution_count": 9,
   "id": "925216b6",
   "metadata": {
    "execution": {
     "iopub.execute_input": "2023-01-18T09:24:17.688142Z",
     "iopub.status.busy": "2023-01-18T09:24:17.687764Z",
     "iopub.status.idle": "2023-01-18T09:24:17.958754Z",
     "shell.execute_reply": "2023-01-18T09:24:17.957864Z"
    },
    "papermill": {
     "duration": 0.276924,
     "end_time": "2023-01-18T09:24:17.961149",
     "exception": false,
     "start_time": "2023-01-18T09:24:17.684225",
     "status": "completed"
    },
    "tags": []
   },
   "outputs": [
    {
     "name": "stdout",
     "output_type": "stream",
     "text": [
      "len: 10, cumulative reward: 5208.0\n"
     ]
    }
   ],
   "source": [
    "h = []\n",
    "done = False\n",
    "total_reward = 0\n",
    "for i in range(max(max_steps, len(manual_commands))):\n",
    "    wrapped_env.render(mode='rgb_array', filename=None if not log_results else\n",
    "                       os.path.join(log_dir, f'{exploit_train}_{train_while_exploit*\"train_while_exploit\"}_step{i}_trainepisodes{training_episode_count}_episodes_output_result.png'))\n",
    "    logger.info(\"\")\n",
    "    if done:\n",
    "        break\n",
    "    # run the suggested action\n",
    "    action_style, next_action, _ = wrapped_env.pretty_print_to_internal_action(manual_commands[i])\n",
    "\n",
    "    if next_action is None:\n",
    "        logger.info(f\"Inference ended with error: next action == None, returned with aciton_style {action_style}\")\n",
    "        break\n",
    "    current_o, reward, done, info = wrapped_env.step(next_action)\n",
    "    total_reward += reward\n",
    "    action_str, reward_str = wrapped_env.internal_action_to_pretty_print(next_action, output_reward_str=True)\n",
    "    h.append((i,  # wrapped_env.get_explored_network_node_properties_bitmap_as_numpy(current_o),\n",
    "              reward, total_reward,\n",
    "              action_str, action_style, info['precondition_str'], info['profile_str'], info[\"reward_string\"]))\n",
    "\n",
    "df = pd.DataFrame(h, columns=[\"Step\", \"Reward\", \"Cumulative Reward\", \"Next action\", \"Processed by\", \"Precondition\", \"Profile\", \"Reward string\"])\n",
    "df.set_index(\"Step\", inplace=True)\n",
    "pd.set_option(\"max_colwidth\", 80)\n",
    "if log_results:\n",
    "    display(df)\n",
    "\n",
    "if log_results:\n",
    "    os.makedirs(log_dir, exist_ok=True)\n",
    "    df.to_csv(os.path.join(log_dir, f'{exploit_train}_{train_while_exploit*\"train_while_exploit\"}_step{i}_trainepisodes{training_episode_count}_episodes_actions.csv'))  # ,\n",
    "    # index=False)\n",
    "print(f'len: {len(h)}, cumulative reward: {total_reward}')"
   ]
  },
  {
   "cell_type": "code",
   "execution_count": 10,
   "id": "d30a1358",
   "metadata": {
    "execution": {
     "iopub.execute_input": "2023-01-18T09:24:17.972085Z",
     "iopub.status.busy": "2023-01-18T09:24:17.970534Z",
     "iopub.status.idle": "2023-01-18T09:24:18.009916Z",
     "shell.execute_reply": "2023-01-18T09:24:18.006646Z"
    },
    "papermill": {
     "duration": 0.050506,
     "end_time": "2023-01-18T09:24:18.015093",
     "exception": false,
     "start_time": "2023-01-18T09:24:17.964587",
     "status": "completed"
    },
    "tags": []
   },
   "outputs": [],
   "source": [
    "wrapped_env.render(mode='rgb_array' if not log_results else 'human', filename=None if not log_results else\n",
    "                   os.path.join(log_dir, f'{exploit_train}_{train_while_exploit*\"train_while_exploit\"}_trainepisodes{training_episode_count}_episodes_discovered_network.png'))"
   ]
  }
 ],
 "metadata": {
  "jupytext": {
   "cell_metadata_filter": "tags,title,-all",
   "cell_metadata_json": true,
   "kernelspec": {
    "display_name": "python3",
    "language": "python",
    "name": "python3"
   }
  },
  "kernelspec": {
   "display_name": "Python 3 (ipykernel)",
   "language": "python",
   "name": "python3"
  },
  "language_info": {
   "codemirror_mode": {
    "name": "ipython",
    "version": 3
   },
   "file_extension": ".py",
   "mimetype": "text/x-python",
   "name": "python",
   "nbconvert_exporter": "python",
   "pygments_lexer": "ipython3",
   "version": "3.9.16"
  },
  "papermill": {
   "default_parameters": {},
   "duration": 3.812159,
   "end_time": "2023-01-18T09:24:18.544665",
   "environment_variables": {},
   "exception": null,
   "input_path": "-",
   "output_path": "notebooks/notebook_dql_tiny.ipynb",
   "parameters": {
    "gymid": "CyberBattleTinyMicro-v1"
   },
   "start_time": "2023-01-18T09:24:14.732506",
   "version": "2.3.3"
  }
 },
 "nbformat": 4,
 "nbformat_minor": 5
}